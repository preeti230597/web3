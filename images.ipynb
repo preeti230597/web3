{
 "cells": [
  {
   "cell_type": "code",
   "execution_count": 366,
   "metadata": {},
   "outputs": [],
   "source": [
    "import pandas as pd\n",
    "import selenium\n",
    "from selenium import webdriver\n",
    "from selenium.common.exceptions import StaleElementReferenceException, NoSuchElementException"
   ]
  },
  {
   "cell_type": "code",
   "execution_count": 367,
   "metadata": {},
   "outputs": [],
   "source": [
    "from selenium.common.exceptions import ElementClickInterceptedException\n",
    "import time"
   ]
  },
  {
   "cell_type": "code",
   "execution_count": 368,
   "metadata": {},
   "outputs": [
    {
     "name": "stderr",
     "output_type": "stream",
     "text": [
      "<ipython-input-368-56a44a4849dd>:1: DeprecationWarning: executable_path has been deprecated, please pass in a Service object\n",
      "  driver=webdriver.Chrome(\"C:\\\\Users\\\\Preeti kumari\\\\chromedriver.exe\")\n"
     ]
    }
   ],
   "source": [
    "driver=webdriver.Chrome(\"C:\\\\Users\\\\Preeti kumari\\\\chromedriver.exe\")"
   ]
  },
  {
   "cell_type": "code",
   "execution_count": 369,
   "metadata": {},
   "outputs": [],
   "source": [
    "driver.get(\"https://images.google.com/?gws_rd=ssl\")\n"
   ]
  },
  {
   "cell_type": "code",
   "execution_count": 370,
   "metadata": {},
   "outputs": [],
   "source": [
    "search_field_designation=driver.find_element_by_xpath(\"//input[@class='gLFyf gsfi']\")\n"
   ]
  },
  {
   "cell_type": "code",
   "execution_count": 371,
   "metadata": {},
   "outputs": [
    {
     "name": "stdout",
     "output_type": "stream",
     "text": [
      "What are you looking forfruits\n"
     ]
    }
   ],
   "source": [
    "data=input(\"What are you looking for\")\n"
   ]
  },
  {
   "cell_type": "code",
   "execution_count": 372,
   "metadata": {},
   "outputs": [],
   "source": [
    "search_field_designation.send_keys(data)"
   ]
  },
  {
   "cell_type": "code",
   "execution_count": 373,
   "metadata": {},
   "outputs": [],
   "source": [
    "search_button=driver.find_element_by_xpath(\"//span[@class='z1asCe MZy1Rb']\")\n",
    "search_button.click()"
   ]
  },
  {
   "cell_type": "code",
   "execution_count": 389,
   "metadata": {},
   "outputs": [],
   "source": [
    "#Scroll to the end of the page\n",
    "driver.execute_script(\"window.scrollTo(0, document.body.scrollHeight);\")\n",
    "time.sleep(5)#sleep_between_interactions"
   ]
  },
  {
   "cell_type": "code",
   "execution_count": 392,
   "metadata": {},
   "outputs": [
    {
     "data": {
      "text/plain": [
       "1048"
      ]
     },
     "execution_count": 392,
     "metadata": {},
     "output_type": "execute_result"
    }
   ],
   "source": [
    "len(kk1)"
   ]
  },
  {
   "cell_type": "code",
   "execution_count": 400,
   "metadata": {},
   "outputs": [
    {
     "data": {
      "text/plain": [
       "[None,\n",
       " None,\n",
       " None,\n",
       " None,\n",
       " None,\n",
       " None,\n",
       " None,\n",
       " None,\n",
       " None,\n",
       " None,\n",
       " None,\n",
       " None,\n",
       " None,\n",
       " None,\n",
       " None,\n",
       " None,\n",
       " None,\n",
       " None,\n",
       " None,\n",
       " None,\n",
       " None,\n",
       " None,\n",
       " None,\n",
       " None,\n",
       " 'https://www.google.com/search?q=single+fruits+-basket+-bowl+-watermark&tbm=isch&bih=576&biw=1034&hl=en-US&sa=X&ved=2ahUKEwifoejCho3vAhUXhEsFHb3-C9EQrNwCKAB6BQgBEIEC',\n",
       " 'https://www.google.com/search?q=drawing+fruits&tbm=isch&bih=576&biw=1034&hl=en-US&sa=X&ved=2ahUKEwifoejCho3vAhUXhEsFHb3-C9EQrNwCKAJ6BQgBEIUC',\n",
       " 'https://www.healthline.com/nutrition/20-healthiest-fruits',\n",
       " 'https://www.pinterest.com/pin/325666616798148782/',\n",
       " 'https://www.npr.org/sections/thesalt/2019/07/17/742670701/if-we-all-ate-enough-fruits-and-vegetables-thered-be-big-shortages',\n",
       " 'https://www.insider.com/uncommon-fruits-and-vegetables-quiz-2020-5',\n",
       " 'https://www.diabete.qc.ca/en/living-with-diabetes/diet/food-and-nutrients/fruit/',\n",
       " 'https://www.popsugar.com/fitness/Worst-Fruits-Weight-Loss-45058644',\n",
       " 'https://indianexpress.com/article/lifestyle/food-wine/fruits-to-be-consumed-during-monsoon-season-litchi-pear-papaya-jamun-health-benefits-6492920/',\n",
       " 'https://www.healthline.com/nutrition/is-fruit-good-or-bad-for-your-health',\n",
       " 'https://www.verywellhealth.com/fruits-to-avoid-if-you-have-diabetes-1087587',\n",
       " 'https://www.thekohsamuiguide.com/thai-fruit/',\n",
       " 'https://www.verywellfit.com/serving-sizes-for-18-fruits-and-vegetables-2506865',\n",
       " 'https://www.buzzfeed.com/lavanyanarayanan/fruit-trivia-quiz',\n",
       " 'https://chanapdavis.medium.com/fruit-and-your-health-yay-or-nay-to-an-apple-a-day-6bbabe68a950',\n",
       " 'https://www.aicr.org/resources/blog/eat-more-fruits-vegetables-lower-the-risk-of-dying-from-cancer-other-diseases-study-finds/',\n",
       " 'https://m.economictimes.com/news/economy/agriculture/exotic-fruits-become-scarce-and-costlier-as-bottlenecks-in-transportation-emerge/articleshow/75370162.cms',\n",
       " 'https://time.com/5234787/dirty-dozen-pesticides/',\n",
       " 'https://www.amazon.in/Fruits-Educational-Chart-Pegasus-Team/dp/8131938883',\n",
       " 'https://www.savinodelbene.com/en/markets/fresh-fruit-vegetable/',\n",
       " 'https://www.everydayhealth.com/diet-nutrition-pictures/the-healthiest-power-fruits-next-door.aspx',\n",
       " 'https://community.jennycraig.com/healthy-habits-blog/eat-well/summer-fruits-and-vegetables/',\n",
       " 'https://www.mensjournal.com/food-drink/the-best-8-fruits-for-better-health/',\n",
       " 'https://www.foodsafetynews.com/2020/07/imported-fruit-and-veg-main-problem-in-singaporean-sampling/',\n",
       " 'https://www.onmanorama.com/food/features/2020/06/08/right-time-to-consume-fruits.html',\n",
       " 'https://www.bbcgoodfood.com/glossary/kiwi-glossary',\n",
       " 'https://www.runnersworld.com/nutrition-weight-loss/a24784787/healthiest-fruits/',\n",
       " 'https://fruitguys.com/almanac/infographics/field-guide-fruit-colors/',\n",
       " 'https://www.thedailymeal.com/eat/which-fruits-contain-most-sugar',\n",
       " 'https://analyticsindiamag.com/fruit-recognition-using-the-convolutional-neural-network/',\n",
       " 'https://www.luxuryvillasphuketthailand.com/fruits-in-thailand/',\n",
       " 'https://www.thespruceeats.com/thai-preparation-of-tropical-fruits-3217092',\n",
       " 'https://timesofindia.indiatimes.com/life-style/food-news/rare-indian-fruits-that-you-need-to-know-about/photostory/78607864.cms',\n",
       " 'https://www.eatforhealth.gov.au/food-essentials/five-food-groups/fruit',\n",
       " 'https://www.everydayhealth.com/diet-nutrition-pictures/the-healthiest-power-fruits-next-door.aspx',\n",
       " 'https://www.quickanddirtytips.com/health-fitness/healthy-eating/are-some-fruits-more-fattening-than-others',\n",
       " 'https://m.economictimes.com/magazines/panache/doctors-suggest-having-fruits-could-help-keep-coronavirus-at-bay/articleshow/75714887.cms',\n",
       " 'https://www.verywellfit.com/getting-more-fruits-and-vegetables-in-your-diet-2506856',\n",
       " 'https://www.nytimes.com/2018/05/22/dining/best-summer-fruit.html',\n",
       " 'https://www.dietdoctor.com/low-carb/fruits',\n",
       " 'https://www.treehugger.com/fruits-youve-probably-never-heard-of-4869359',\n",
       " 'https://www.scientificamerican.com/article/are-some-fruits-more-fattening-than-others/',\n",
       " 'https://www.shutterstock.com/search/fruits',\n",
       " 'https://www.mayoclinichealthsystem.org/hometown-health/speaking-of-health/123-approach-to-eating-fruits-and-vegetables',\n",
       " 'https://www.theweek.in/news/health/2020/02/20/Eating-fruits-vegetables-linked-to-lessening-of-menopause-symptoms-Study.html',\n",
       " 'https://www.bhg.com/recipes/healthy/eating/fruits-good-for-the-heart/',\n",
       " 'https://www.news-medical.net/health/How-Dangerous-is-a-Lack-of-Fruit-and-Vegetables.aspx',\n",
       " 'https://www.ndtv.com/health/what-is-better-eating-fruits-with-a-meal-or-after-a-meal-expert-gives-the-answer-2371523',\n",
       " 'https://thepaleodiet.com/fruits-and-sugars',\n",
       " 'https://www.visitguam.com/chamorro-culture/nature/fruits/',\n",
       " 'https://www.google.com/search?q=fruits+and+vegetables&tbm=isch&bih=576&biw=1034&hl=en-US&sa=X&ved=2ahUKEwifoejCho3vAhUXhEsFHb3-C9EQrNwCKAF6BQgBEIkB',\n",
       " None,\n",
       " None,\n",
       " None,\n",
       " None,\n",
       " None,\n",
       " None,\n",
       " None,\n",
       " None,\n",
       " None,\n",
       " None,\n",
       " None,\n",
       " None,\n",
       " None,\n",
       " None,\n",
       " None,\n",
       " None,\n",
       " None,\n",
       " None,\n",
       " None,\n",
       " None,\n",
       " None,\n",
       " None,\n",
       " None,\n",
       " None,\n",
       " 'https://www.google.com/search?q=orange+fruits&tbm=isch&bih=576&biw=1034&hl=en-US&sa=X&ved=2ahUKEwifoejCho3vAhUXhEsFHb3-C9EQrNwCKAB6BQgBEMAB',\n",
       " 'https://www.google.com/search?q=fruits+png&tbm=isch&bih=576&biw=1034&hl=en-US&sa=X&ved=2ahUKEwifoejCho3vAhUXhEsFHb3-C9EQrNwCKAJ6BQgBEMQB',\n",
       " 'https://www.healthline.com/nutrition/blue-fruits',\n",
       " 'https://www.vegrecipesofindia.com/glossary-of-indian-fruits-english-hindi/',\n",
       " 'https://www.thatsmags.com/china/post/31837/25-asian-fruits-ranked-from-delicious-to-disgusting-10-to-25',\n",
       " 'https://www.goodhousekeeping.com/health/diet-nutrition/g4455/summer-superfoods-list/',\n",
       " 'https://www.bhg.com/gardening/vegetable/fruit/fast-growing-fruit/',\n",
       " 'https://www.vegrecipesofindia.com/glossary-of-indian-fruits-english-hindi/',\n",
       " 'https://www.goodhousekeeping.com/health/diet-nutrition/g4455/summer-superfoods-list/',\n",
       " 'https://www.britannica.com/topic/fruit-food',\n",
       " 'https://www2.palomar.edu/users/warmstrong/ecoph6.htm',\n",
       " 'https://www.hsph.harvard.edu/nutritionsource/what-should-you-eat/vegetables-and-fruits/',\n",
       " 'https://www.treehugger.com/fruits-youve-probably-never-heard-of-4869359',\n",
       " 'https://www.myfooddata.com/articles/high-calcium-fruits.php',\n",
       " 'https://www.agmrc.org/commodities-products/fruits',\n",
       " 'https://www.webmd.com/food-recipes/ss/slideshow-fun-facts-fruits-vegetables',\n",
       " 'https://www.finedininglovers.com/article/20-red-fruits-and-vegetables-you-should-be-eating',\n",
       " 'https://flaunt.com/content/full-moon-fruits',\n",
       " 'https://www.healthyfamiliesbc.ca/home/articles/what-makes-vegetables-and-fruit-so-special-0',\n",
       " 'https://www.amway.in/nutrilite-concentrated-fruits-and-vegetables/p/102992ID',\n",
       " 'https://blog.thompson-morgan.com/exotic-fruit/',\n",
       " 'https://www.healthline.com/nutrition/blue-fruits',\n",
       " 'https://www.gardeningchannel.com/list-of-fruits-from-a-to-z/',\n",
       " 'https://www.atlantamagazine.com/dining-news/your-guide-to-the-fruits-at-buford-highway-farmers-market/',\n",
       " 'https://www.medicalnewstoday.com/articles/325550',\n",
       " 'https://www.pexels.com/search/fruits/',\n",
       " 'https://www.google.com/search?q=banana&tbm=isch&bih=576&biw=1034&hl=en-US&sa=X&ved=0CC0QrNwCKAFqFwoTCJiv7JaHje8CFQAAAAAdAAAAABAC',\n",
       " None,\n",
       " None,\n",
       " None,\n",
       " None,\n",
       " None,\n",
       " None,\n",
       " None,\n",
       " None,\n",
       " None,\n",
       " None,\n",
       " None,\n",
       " None,\n",
       " None,\n",
       " None,\n",
       " None,\n",
       " None,\n",
       " None,\n",
       " None,\n",
       " None,\n",
       " None,\n",
       " None,\n",
       " None,\n",
       " None,\n",
       " None,\n",
       " 'https://www.google.com/search?q=fruits%20basket&tbm=isch&bih=576&biw=1034&hl=en-US&sa=X&ved=0CGQQrNwCKABqFwoTCJiv7JaHje8CFQAAAAAdAAAAABAC',\n",
       " 'https://www.google.com/search?q=banana%20fruits&tbm=isch&bih=576&biw=1034&hl=en-US&sa=X&ved=0CGgQrNwCKAJqFwoTCJiv7JaHje8CFQAAAAAdAAAAABAC',\n",
       " 'https://almunecarinfo.com/spanish-fruit-vegetables/',\n",
       " 'https://www.imperial.ac.uk/news/177778/eating-more-fruits-vegetables-prevent-millions/',\n",
       " 'https://www.tastecooking.com/bowl-cut-fruits-asian-moms-say-love/',\n",
       " 'https://www.theglobeandmail.com/life/health-and-fitness/article-is-fruit-just-as-healthy-as-vegetables-on-your-plate/',\n",
       " 'https://www.askdrsears.com/topics/feeding-eating/family-nutrition/fruits/31-favorite-fruits-and-nutrients-they-contain',\n",
       " 'https://www.gfs.com/en-us/products/product-categories/fruits-and-vegetables',\n",
       " 'https://pharmeasy.in/blog/8-amazing-health-benefits-of-dry-fruits-2/',\n",
       " 'https://www.eho.eu/en/fruits-vegetable-storage-systems/',\n",
       " 'https://www.runnersworld.com/news/a31292368/fruit-vegetable-consumption-anxiety-study/',\n",
       " 'https://www.ahealthiermichigan.org/2011/03/22/using-color-as-a-guide-to-a-better-diet-9-health-benefits-of-red-fruits-and-vegetables/',\n",
       " 'https://www.verywellhealth.com/you-can-eat-fruit-if-you-have-diabetes-1087514',\n",
       " 'https://m.guardian.ng/life/14-fruits-that-help-you-achieve-optimal-health/',\n",
       " 'https://indianexpress.com/article/lifestyle/food-wine/cleaning-fruits-vegetables-fssai-guidelines-6484735/',\n",
       " 'https://www.burpee.com/fruit/',\n",
       " 'https://www.pubhort.org/fruits/',\n",
       " 'https://www.respectfood.com/article/how-to-take-care-of-your-fruit-and-vegetables/',\n",
       " 'https://www.dezeen.com/2019/12/07/meydan-levy-neo-fruit-4d-print-design/',\n",
       " 'https://www.chowhound.com/food-news/222426/fruit-and-vegetable-what-is-the-difference/',\n",
       " 'https://www.cookingclassy.com/fruit-pizza/',\n",
       " 'https://www.ditchthecarbs.com/carbs-in-fruit/',\n",
       " 'https://www.fda.gov/consumers/consumer-updates/7-tips-cleaning-fruits-vegetables',\n",
       " 'https://www.britannica.com/science/fruit-plant-reproductive-body',\n",
       " 'https://www.cookinglight.com/healthy-living/healthy-habits/how-much-serving-fruits-vegetables',\n",
       " 'https://www.eatthis.com/best-fruits-for-fat-loss/',\n",
       " 'https://www.insider.com/no-fruits-are-unhealthy-according-to-nutritionists-2019-1',\n",
       " 'https://www.twinkl.co.uk/resource/t-l-085-fruit-flashcards',\n",
       " 'https://www.chefsteps.com/activities/tips-tricks-fizzy-fruit',\n",
       " 'https://sandinmysuitcase.com/fruit-in-mexico/',\n",
       " 'https://www.everydayhealth.com/diet-nutrition-pictures/the-healthiest-power-fruits-next-door.aspx',\n",
       " 'https://time.com/5029164/fruit-vegetable-diet/',\n",
       " 'https://www.indiatvnews.com/trending/news-dragon-fruit-gets-a-new-name-kamalam-hilarious-naamkaran-of-other-fruits-vegetables-follow-679361',\n",
       " 'https://shcs.ucdavis.edu/health-and-wellness/nutrition-and-food/fruits-and-veggies',\n",
       " 'https://valentinascorner.com/how-to-make-the-ultimate-fruit-platter/',\n",
       " 'https://www.myfooddata.com/articles/fruits-high-in-protein.php',\n",
       " 'https://www.timesnownews.com/health/article/5-delicious-winter-fruits-to-add-to-your-diabetes-diet-to-manage-blood-sugar-oranges-pears-kiwis-and-more/678243',\n",
       " 'https://en.wikipedia.org/wiki/List_of_culinary_fruits',\n",
       " 'https://www.kew.org/read-and-watch/durian-king-of-fruit',\n",
       " 'https://www.epicurious.com/expert-advice/how-to-dehydrate-fruit-step-by-step-article',\n",
       " 'https://www.thespruceeats.com/the-cheapest-fruits-and-vegetables-month-by-month-1388345',\n",
       " 'https://www.theguardian.com/science/2018/jul/19/weird-new-fruits-could-hit-aisles-soon-thanks-to-gene-editing',\n",
       " 'https://www.hindustantimes.com/fitness/fruit-diet-for-weight-loss-diabetes-heart-health-here-s-your-dietitian-approved-list/story-dv1rwllNEn4bLlwAHPOlnO.html',\n",
       " 'https://www.safefood.net/healthy-eating/fruit-vegetables',\n",
       " 'https://health.clevelandclinic.org/fruitarian-diet-is-it-safe-or-really-healthy-for-you/',\n",
       " 'https://flaunt.com/content/full-moon-fruits',\n",
       " 'https://www.ediblearrangements.com/fruit-gifts/fresh-produce-basket-6448',\n",
       " 'https://www.gettyimages.com/illustrations/fruit',\n",
       " 'https://www.huffingtonpost.com.au/2016/06/17/8-fruits-youve-probably-never-tried-before_a_21397013/',\n",
       " 'https://www.aboutkidshealth.ca/Article?contentid=1437&language=English']"
      ]
     },
     "execution_count": 400,
     "metadata": {},
     "output_type": "execute_result"
    }
   ],
   "source": [
    "url_n=[]\n",
    "for i in range(0,400,2):\n",
    "    k1= driver.find_elements_by_xpath(\"//div[@id='islrg']\")\n",
    "    p1=k1[0]\n",
    "    kk1=p1.find_elements_by_tag_name('a')\n",
    "    op1=kk1[i]\n",
    "    m1=op1.get_attribute(\"href\")\n",
    "    url_n.append(m1)\n",
    "url_n"
   ]
  },
  {
   "cell_type": "code",
   "execution_count": 403,
   "metadata": {},
   "outputs": [
    {
     "data": {
      "text/plain": [
       "[None,\n",
       " None,\n",
       " None,\n",
       " None,\n",
       " 'https://www.google.com/search?q=single+fruits+-basket+-bowl+-watermark&tbm=isch&bih=576&biw=1034&hl=en-US&sa=X&ved=2ahUKEwifoejCho3vAhUXhEsFHb3-C9EQrNwCKAB6BQgBEIEC',\n",
       " 'https://www.google.com/search?q=drawing+fruits&tbm=isch&bih=576&biw=1034&hl=en-US&sa=X&ved=2ahUKEwifoejCho3vAhUXhEsFHb3-C9EQrNwCKAJ6BQgBEIUC',\n",
       " 'https://www.healthline.com/nutrition/20-healthiest-fruits',\n",
       " 'https://www.pinterest.com/pin/325666616798148782/',\n",
       " 'https://www.npr.org/sections/thesalt/2019/07/17/742670701/if-we-all-ate-enough-fruits-and-vegetables-thered-be-big-shortages',\n",
       " 'https://www.insider.com/uncommon-fruits-and-vegetables-quiz-2020-5',\n",
       " 'https://www.diabete.qc.ca/en/living-with-diabetes/diet/food-and-nutrients/fruit/',\n",
       " 'https://www.popsugar.com/fitness/Worst-Fruits-Weight-Loss-45058644',\n",
       " 'https://indianexpress.com/article/lifestyle/food-wine/fruits-to-be-consumed-during-monsoon-season-litchi-pear-papaya-jamun-health-benefits-6492920/',\n",
       " 'https://www.healthline.com/nutrition/is-fruit-good-or-bad-for-your-health',\n",
       " 'https://www.verywellhealth.com/fruits-to-avoid-if-you-have-diabetes-1087587',\n",
       " 'https://www.thekohsamuiguide.com/thai-fruit/',\n",
       " 'https://www.verywellfit.com/serving-sizes-for-18-fruits-and-vegetables-2506865',\n",
       " 'https://www.buzzfeed.com/lavanyanarayanan/fruit-trivia-quiz',\n",
       " 'https://chanapdavis.medium.com/fruit-and-your-health-yay-or-nay-to-an-apple-a-day-6bbabe68a950',\n",
       " 'https://www.aicr.org/resources/blog/eat-more-fruits-vegetables-lower-the-risk-of-dying-from-cancer-other-diseases-study-finds/',\n",
       " 'https://m.economictimes.com/news/economy/agriculture/exotic-fruits-become-scarce-and-costlier-as-bottlenecks-in-transportation-emerge/articleshow/75370162.cms',\n",
       " 'https://time.com/5234787/dirty-dozen-pesticides/',\n",
       " 'https://www.amazon.in/Fruits-Educational-Chart-Pegasus-Team/dp/8131938883',\n",
       " 'https://www.savinodelbene.com/en/markets/fresh-fruit-vegetable/',\n",
       " 'https://www.everydayhealth.com/diet-nutrition-pictures/the-healthiest-power-fruits-next-door.aspx',\n",
       " 'https://community.jennycraig.com/healthy-habits-blog/eat-well/summer-fruits-and-vegetables/',\n",
       " 'https://www.mensjournal.com/food-drink/the-best-8-fruits-for-better-health/',\n",
       " 'https://www.foodsafetynews.com/2020/07/imported-fruit-and-veg-main-problem-in-singaporean-sampling/',\n",
       " 'https://www.onmanorama.com/food/features/2020/06/08/right-time-to-consume-fruits.html',\n",
       " 'https://www.bbcgoodfood.com/glossary/kiwi-glossary',\n",
       " 'https://www.runnersworld.com/nutrition-weight-loss/a24784787/healthiest-fruits/',\n",
       " 'https://fruitguys.com/almanac/infographics/field-guide-fruit-colors/',\n",
       " 'https://www.thedailymeal.com/eat/which-fruits-contain-most-sugar',\n",
       " 'https://analyticsindiamag.com/fruit-recognition-using-the-convolutional-neural-network/',\n",
       " 'https://www.luxuryvillasphuketthailand.com/fruits-in-thailand/',\n",
       " 'https://www.thespruceeats.com/thai-preparation-of-tropical-fruits-3217092',\n",
       " 'https://timesofindia.indiatimes.com/life-style/food-news/rare-indian-fruits-that-you-need-to-know-about/photostory/78607864.cms',\n",
       " 'https://www.eatforhealth.gov.au/food-essentials/five-food-groups/fruit',\n",
       " 'https://www.everydayhealth.com/diet-nutrition-pictures/the-healthiest-power-fruits-next-door.aspx',\n",
       " 'https://www.quickanddirtytips.com/health-fitness/healthy-eating/are-some-fruits-more-fattening-than-others',\n",
       " 'https://m.economictimes.com/magazines/panache/doctors-suggest-having-fruits-could-help-keep-coronavirus-at-bay/articleshow/75714887.cms',\n",
       " 'https://www.verywellfit.com/getting-more-fruits-and-vegetables-in-your-diet-2506856',\n",
       " 'https://www.nytimes.com/2018/05/22/dining/best-summer-fruit.html',\n",
       " 'https://www.dietdoctor.com/low-carb/fruits',\n",
       " 'https://www.treehugger.com/fruits-youve-probably-never-heard-of-4869359',\n",
       " 'https://www.scientificamerican.com/article/are-some-fruits-more-fattening-than-others/',\n",
       " 'https://www.shutterstock.com/search/fruits',\n",
       " 'https://www.mayoclinichealthsystem.org/hometown-health/speaking-of-health/123-approach-to-eating-fruits-and-vegetables',\n",
       " 'https://www.theweek.in/news/health/2020/02/20/Eating-fruits-vegetables-linked-to-lessening-of-menopause-symptoms-Study.html',\n",
       " 'https://www.bhg.com/recipes/healthy/eating/fruits-good-for-the-heart/',\n",
       " 'https://www.news-medical.net/health/How-Dangerous-is-a-Lack-of-Fruit-and-Vegetables.aspx',\n",
       " 'https://www.ndtv.com/health/what-is-better-eating-fruits-with-a-meal-or-after-a-meal-expert-gives-the-answer-2371523',\n",
       " 'https://thepaleodiet.com/fruits-and-sugars',\n",
       " 'https://www.visitguam.com/chamorro-culture/nature/fruits/',\n",
       " 'https://www.google.com/search?q=fruits+and+vegetables&tbm=isch&bih=576&biw=1034&hl=en-US&sa=X&ved=2ahUKEwifoejCho3vAhUXhEsFHb3-C9EQrNwCKAF6BQgBEIkB',\n",
       " None,\n",
       " None,\n",
       " None,\n",
       " None,\n",
       " None,\n",
       " None,\n",
       " None,\n",
       " None,\n",
       " None,\n",
       " None,\n",
       " None,\n",
       " None,\n",
       " None,\n",
       " None,\n",
       " None,\n",
       " None,\n",
       " None,\n",
       " None,\n",
       " None,\n",
       " None,\n",
       " None,\n",
       " None,\n",
       " None,\n",
       " None,\n",
       " 'https://www.google.com/search?q=orange+fruits&tbm=isch&bih=576&biw=1034&hl=en-US&sa=X&ved=2ahUKEwifoejCho3vAhUXhEsFHb3-C9EQrNwCKAB6BQgBEMAB',\n",
       " 'https://www.google.com/search?q=fruits+png&tbm=isch&bih=576&biw=1034&hl=en-US&sa=X&ved=2ahUKEwifoejCho3vAhUXhEsFHb3-C9EQrNwCKAJ6BQgBEMQB',\n",
       " 'https://www.healthline.com/nutrition/blue-fruits',\n",
       " 'https://www.vegrecipesofindia.com/glossary-of-indian-fruits-english-hindi/',\n",
       " 'https://www.thatsmags.com/china/post/31837/25-asian-fruits-ranked-from-delicious-to-disgusting-10-to-25',\n",
       " 'https://www.goodhousekeeping.com/health/diet-nutrition/g4455/summer-superfoods-list/',\n",
       " 'https://www.bhg.com/gardening/vegetable/fruit/fast-growing-fruit/',\n",
       " 'https://www.vegrecipesofindia.com/glossary-of-indian-fruits-english-hindi/',\n",
       " 'https://www.goodhousekeeping.com/health/diet-nutrition/g4455/summer-superfoods-list/',\n",
       " 'https://www.britannica.com/topic/fruit-food',\n",
       " 'https://www2.palomar.edu/users/warmstrong/ecoph6.htm',\n",
       " 'https://www.hsph.harvard.edu/nutritionsource/what-should-you-eat/vegetables-and-fruits/',\n",
       " 'https://www.treehugger.com/fruits-youve-probably-never-heard-of-4869359',\n",
       " 'https://www.myfooddata.com/articles/high-calcium-fruits.php',\n",
       " 'https://www.agmrc.org/commodities-products/fruits',\n",
       " 'https://www.webmd.com/food-recipes/ss/slideshow-fun-facts-fruits-vegetables',\n",
       " 'https://www.finedininglovers.com/article/20-red-fruits-and-vegetables-you-should-be-eating',\n",
       " 'https://flaunt.com/content/full-moon-fruits',\n",
       " 'https://www.healthyfamiliesbc.ca/home/articles/what-makes-vegetables-and-fruit-so-special-0',\n",
       " 'https://www.amway.in/nutrilite-concentrated-fruits-and-vegetables/p/102992ID',\n",
       " 'https://blog.thompson-morgan.com/exotic-fruit/']"
      ]
     },
     "execution_count": 403,
     "metadata": {},
     "output_type": "execute_result"
    }
   ],
   "source": [
    "url_n3=url_n[20:120]\n",
    "url_n3"
   ]
  },
  {
   "cell_type": "code",
   "execution_count": 49,
   "metadata": {
    "scrolled": false
   },
   "outputs": [
    {
     "data": {
      "text/plain": [
       "100"
      ]
     },
     "execution_count": 49,
     "metadata": {},
     "output_type": "execute_result"
    }
   ],
   "source": [
    "imgResults = driver.find_elements_by_xpath(\"//img[contains(@class,'Q4LuWd')]\")\n",
    "len(imgResults)"
   ]
  },
  {
   "cell_type": "code",
   "execution_count": 360,
   "metadata": {},
   "outputs": [
    {
     "data": {
      "text/plain": [
       "['https://www.google.com/imgres?imgurl=https%3A%2F%2Ficatcare.org%2Fapp%2Fuploads%2F2018%2F07%2FThinking-of-getting-a-cat.png&imgrefurl=https%3A%2F%2Ficatcare.org%2Fadvice%2Fthinking-of-getting-a-cat%2F&tbnid=0V922RrJgQc9SM&vet=12ahUKEwiJzf-XgY3vAhUxm0sFHVHPCncQMygAegQIARB_..i&docid=5qEHfJOysK_DwM&w=1200&h=600&q=cats&ved=2ahUKEwiJzf-XgY3vAhUxm0sFHVHPCncQMygAegQIARB_',\n",
       " 'https://icatcare.org/advice/thinking-of-getting-a-cat/',\n",
       " None,\n",
       " 'https://www.scientificamerican.com/article/cats-can-get-coronavirus-study-suggests-but-pet-owners-need-not-panic/',\n",
       " None,\n",
       " 'https://www.bbc.com/news/uk-england-stoke-staffordshire-52047832',\n",
       " None,\n",
       " 'https://www.humanesociety.org/resources/how-help-frightened-cat',\n",
       " None,\n",
       " 'https://www.theguardian.com/world/2020/apr/01/cats-can-infect-each-other-with-coronavirus-chinese-study-finds',\n",
       " None,\n",
       " 'https://pets.webmd.com/cats/cat-vaccines',\n",
       " None,\n",
       " 'https://www.nytimes.com/2020/04/22/health/cats-pets-coronavirus.html',\n",
       " None,\n",
       " 'https://www.scientificamerican.com/article/cats-recognize-their-own-names-even-if-they-choose-to-ignore-them/',\n",
       " None,\n",
       " 'https://icatcare.org/',\n",
       " None,\n",
       " 'https://www.memphisveterinaryspecialists.com/site/blog-cordova/2020/04/13/best-breeds-indoor-house-cats',\n",
       " None,\n",
       " 'https://undark.org/2020/02/14/abstracts-cats-girls-climate-drugs/',\n",
       " None,\n",
       " 'https://www.humanesociety.org/resources/understanding-feline-language',\n",
       " None,\n",
       " 'https://www.nytimes.com/2019/09/24/science/cats-humans-bonding.html',\n",
       " None,\n",
       " 'https://economictimes.indiatimes.com/magazines/panache/thats-a-criminal-no-kitten-viral-video-shows-a-cat-stealing-cash-from-a-russian-pub/articleshow/77138406.cms',\n",
       " None,\n",
       " 'https://www.cdc.gov/flu/other/flu-in-cats/index.html',\n",
       " None,\n",
       " 'https://www.statnews.com/2020/05/13/cats-can-catch-covid-19-from-one-another-study-finds-the-question-is-can-we/',\n",
       " None,\n",
       " 'https://theconversation.com/how-we-found-coronavirus-in-a-cat-143697',\n",
       " None,\n",
       " 'https://www.theverge.com/2019/12/23/21034843/cats-film-updated-digital-fur-technology',\n",
       " None,\n",
       " 'https://www.usatoday.com/story/entertainment/movies/2019/12/23/cats-movie-defense-movie-taylor-swift-digital-fur/2733975001/',\n",
       " None,\n",
       " 'https://www.washingtonpost.com/science/2019/11/30/cats-do-have-facial-expressions-you-probably-cant-read-them/',\n",
       " None,\n",
       " 'https://time.com/4714823/cats-very-social-study/',\n",
       " None,\n",
       " 'https://www.nationalgeographic.com/adventure/article/140127-cats-pets-animals-nation-dogs-people-science',\n",
       " None,\n",
       " 'https://www.wired.com/story/cats-australia-bushfires/',\n",
       " None,\n",
       " 'https://www.npr.org/sections/health-shots/2018/07/11/627843581/if-you-spray-your-clothes-with-permethrin-be-careful-around-the-cat',\n",
       " None,\n",
       " 'https://www.bbc.com/future/article/20191024-why-do-we-think-cats-are-unfriendly',\n",
       " None,\n",
       " 'https://www.nbcnews.com/health/health-news/cats-really-do-need-their-humans-even-if-they-don-n1057431',\n",
       " None,\n",
       " 'https://www.newyorker.com/culture/the-front-row/cats-could-have-been-a-contender',\n",
       " None,\n",
       " 'https://www.aspca.org/pet-care/cat-care/common-cat-behavior-issues/urine-marking-cats',\n",
       " None,\n",
       " 'https://www.click2houston.com/news/local/2020/08/18/adorable-kitty-overlords-seeking-subjects-these-are-cats-up-for-adoption-in-houston-spcas-20-event/',\n",
       " None,\n",
       " 'https://pets.webmd.com/cats/ss/slideshow-is-my-cat-normal',\n",
       " None,\n",
       " 'https://theconversation.com/are-you-a-cat-whisperer-how-to-read-fluffys-facial-expressions-128686',\n",
       " None,\n",
       " 'https://www.sciencemag.org/news/2020/03/madagascar-s-mysterious-lemur-eating-cats-started-ship-stowaways',\n",
       " None,\n",
       " 'https://www.ft.com/content/cd836eb2-2180-11ea-b8a1-584213ee7b2b',\n",
       " None,\n",
       " 'https://www.port.ac.uk/news-events-and-blogs/news/how-to-build-rap-paw-with-your-cat',\n",
       " None,\n",
       " 'https://www.iams.com/pet-health/cat-special-concerns/does-your-cat-have-tummy-troubles',\n",
       " None,\n",
       " 'https://www.smithsonianmag.com/smart-news/cats-may-recognize-their-own-names-it-doesnt-mean-they-care-180971892/',\n",
       " None,\n",
       " 'https://www.bluevalleyanimalhospital.net/blog/5-things-your-cat-wishes-you-knew/',\n",
       " None,\n",
       " 'https://www.theguardian.com/lifeandstyle/2020/jun/08/in-18-months-weve-had-30-cats-and-its-been-wonderful',\n",
       " None,\n",
       " 'https://www.newyorker.com/culture/culture-desk/cats-reviewed-its-not-quite-weird-enough',\n",
       " None,\n",
       " 'https://www.sciencemag.org/news/2019/08/mystery-solved-why-cats-eat-grass',\n",
       " None,\n",
       " 'https://www.npr.org/2020/04/18/820953617/the-killer-at-home-house-cats-have-more-impact-on-local-wildlife-than-wild-preda',\n",
       " None,\n",
       " 'https://deadline.com/2020/08/hollywood-celebrates-international-cat-day-with-online-salutes-1203008128/',\n",
       " None,\n",
       " 'https://www.humanesociety.org/animals/cats',\n",
       " None,\n",
       " 'https://www.britannica.com/story/why-do-cats-sleep-so-much',\n",
       " None,\n",
       " 'https://variety.com/2019/film/reviews/cats-review-taylor-swift-jennifer-hudson-1203447544/',\n",
       " None,\n",
       " 'https://www.dw.com/en/not-so-aloof-cats-capable-of-strong-bonds-with-humans/a-50562714',\n",
       " None,\n",
       " 'https://www.sciencenews.org/article/coronavirus-covid-19-two-drugs-cats-humans-treatment',\n",
       " None,\n",
       " 'https://www.nhm.ac.uk/discover/a-world-of-wild-cats.html',\n",
       " None,\n",
       " 'https://www.sciencenewsforstudents.org/article/yes-cats-know-their-own-names',\n",
       " None,\n",
       " 'https://www.britannica.com/story/dwarfism-in-cats-its-only-cute-til-someone-gets-hurt',\n",
       " None,\n",
       " 'https://www.youtube.com/watch?v=0FiVTpGLtXc',\n",
       " None,\n",
       " 'https://vetmed.illinois.edu/pet_column/vaccine-illinois-cat-rabies/',\n",
       " None,\n",
       " 'https://www.aaha.org/publications/newstat/articles/2019-092/new-pnew-study-persian-cats-at-high-risk-of-health-issuesage/',\n",
       " None,\n",
       " 'https://www.scientificamerican.com/article/why-do-cats-purr/',\n",
       " None,\n",
       " 'https://www.usnews.com/news/health-news/articles/2020-04-09/household-cats-can-get-coronavirus-but-dogs-arent-very-susceptible-study',\n",
       " None,\n",
       " 'https://pets.webmd.com/cats/guide/cats-excessive-meowing',\n",
       " None,\n",
       " 'https://www.nationalgeographic.com/science/article/domesticated-cats-dna-genetics-pets-science',\n",
       " None,\n",
       " 'https://www.newscientist.com/article/mg24833061-000-the-secret-weapon-in-the-war-between-pet-cats-and-wildlife/',\n",
       " None,\n",
       " 'https://abcnews.go.com/WNN/video/coronavirus-cats-70302073',\n",
       " None,\n",
       " 'https://www.pbs.org/wgbh/nova/video/cat-emotions/',\n",
       " None,\n",
       " 'https://scitechdaily.com/cats-can-spread-covid-19-coronavirus-infection-to-other-cats/',\n",
       " None,\n",
       " 'https://www.oprahmag.com/life/a32884389/signs-your-cat-loves-you/',\n",
       " None,\n",
       " 'https://health.clevelandclinic.org/can-pets-get-coronavirus/',\n",
       " None,\n",
       " 'https://www.americanhumane.org/fact-sheet/choosing-a-cat-collar/',\n",
       " None,\n",
       " 'https://www.nature.com/articles/d41586-020-00984-8',\n",
       " None,\n",
       " 'https://www.vulture.com/2020/01/cats-box-office-flop-is-it-the-next-rocky-horror.html',\n",
       " None,\n",
       " 'https://www.telegraph.co.uk/pets/essentials/why-cool-cats-rule-the-internet/',\n",
       " None,\n",
       " 'https://www.goodhousekeeping.com/life/pets/g21525625/why-cats-are-best-pets/',\n",
       " None,\n",
       " 'https://www.medicaleconomics.com/view/researchers-eye-vaccination-cats-could-alleviate-human-allergies',\n",
       " None,\n",
       " 'https://phys.org/news/2020-07-cats-people-silk-road-years.html',\n",
       " None,\n",
       " 'https://www.fiercebiotech.com/research/cats-point-way-to-potential-covid-19-remedies',\n",
       " None,\n",
       " 'https://www.livescience.com/cat-infected-covid-19-from-owner.html',\n",
       " None,\n",
       " 'https://www.aa.com.tr/en/health/covid-19-might-easily-transmit-among-cats-research/1840667',\n",
       " None,\n",
       " 'https://www.aspcapetinsurance.com/resources/signs-of-heart-disease-in-cats/',\n",
       " None,\n",
       " 'https://www.npr.org/2019/11/15/778939619/these-circus-cats-will-jump-through-hoops-thanks-to-training-and-treats',\n",
       " None,\n",
       " 'https://now.tufts.edu/articles/scruffing-best-way-handle-upset-cat',\n",
       " None,\n",
       " 'https://www.abc.net.au/news/2020-04-24/cat-coronavirus-testing-social-distancing-pets/12181360',\n",
       " None,\n",
       " 'https://www.sciencenews.org/article/scientists-work-tame-cat-allergies-crispr-vaccine-food-therapy',\n",
       " None,\n",
       " 'https://en.wikipedia.org/wiki/Odd-eyed_cat',\n",
       " None,\n",
       " 'https://theconversation.com/the-curious-character-of-cats-and-whether-they-are-really-more-aloof-75512',\n",
       " None,\n",
       " 'https://www.thesprucepets.com/top-things-cats-like-554309',\n",
       " None,\n",
       " 'https://www.bsbproducts.co.uk/news/do-cats-see-ghosts/',\n",
       " None,\n",
       " 'https://www.westvet.net/blog/post/dr-hazel-carney-on-why-cats-eat-grass-and-when-to-worry-about-it/',\n",
       " None,\n",
       " 'https://www.marthastewart.com/1515752/cats',\n",
       " None,\n",
       " 'https://www.purina.com/articles/cat/behavior/why-do-cats-meow',\n",
       " None,\n",
       " 'https://www.animalbiome.com/blog/vitamin-b12-deficiency-in-cats-the-role-of-the-gut',\n",
       " None,\n",
       " 'https://www.cnn.com/2021/02/11/europe/play-meat-cat-hunting-scli-intl-gbr-wellness/index.html',\n",
       " None,\n",
       " 'https://www.aljazeera.com/features/2020/4/13/doctors-note-cats-and-the-coronavirus',\n",
       " None,\n",
       " 'http://www.sci-news.com/biology/cats-facial-expressions-07867.html',\n",
       " None,\n",
       " 'https://www.cdc.gov/healthypets/pets/cats.html',\n",
       " None,\n",
       " 'https://vcahospitals.com/know-your-pet/why-do-cats-have-whiskers',\n",
       " None,\n",
       " 'https://vetmed.tamu.edu/news/pet-talk/a-cats-five-senses/',\n",
       " None,\n",
       " 'https://www.goodhousekeeping.com/life/pets/a34774318/boy-cat-names/',\n",
       " None,\n",
       " 'https://www.medicalnewstoday.com/articles/327448',\n",
       " None,\n",
       " 'https://www.petinsurance.com/healthzone/pet-breeds/cat-breeds/abyssinian/',\n",
       " None,\n",
       " 'https://www.aspca.org/pet-care/cat-care/common-cat-behavior-issues/destructive-scratching',\n",
       " None,\n",
       " 'https://en.wikipedia.org/wiki/Cat_intelligence',\n",
       " None,\n",
       " 'https://time.com/5770341/famous-internet-funny-cats/',\n",
       " None,\n",
       " 'https://www.newindianexpress.com/world/2020/apr/23/two-pet-cats-in-new-york-test-positive-for-covid-19-2133981.html',\n",
       " None,\n",
       " 'https://www.mentalfloss.com/article/578211/cat-facts']"
      ]
     },
     "execution_count": 360,
     "metadata": {},
     "output_type": "execute_result"
    }
   ],
   "source": [
    "url=[]\n",
    "for i in range(0,200):\n",
    "    k= driver.find_elements_by_xpath(\"//div[@id='islrg']\")\n",
    "    p=k[0]\n",
    "    kk=p.find_elements_by_tag_name('a')\n",
    "    op=kk[i]\n",
    "    m=op.get_attribute(\"href\")\n",
    "    url.append(m)\n",
    "url"
   ]
  },
  {
   "cell_type": "code",
   "execution_count": 359,
   "metadata": {},
   "outputs": [
    {
     "data": {
      "text/plain": [
       "100"
      ]
     },
     "execution_count": 359,
     "metadata": {},
     "output_type": "execute_result"
    }
   ],
   "source": [
    "len(url)"
   ]
  },
  {
   "cell_type": "code",
   "execution_count": 365,
   "metadata": {},
   "outputs": [],
   "source": [
    "driver.find_element_by_xpath(\"//input[@class='JSAgYe']\").clear()\n"
   ]
  },
  {
   "cell_type": "code",
   "execution_count": 212,
   "metadata": {},
   "outputs": [
    {
     "name": "stdout",
     "output_type": "stream",
     "text": [
      "What are you looking forcats\n"
     ]
    }
   ],
   "source": [
    "data=input(\"What are you looking for\")\n",
    "\n"
   ]
  },
  {
   "cell_type": "code",
   "execution_count": 214,
   "metadata": {},
   "outputs": [],
   "source": [
    "search=driver.find_element_by_xpath(\"//input[@class='JSAgYe']\")"
   ]
  },
  {
   "cell_type": "code",
   "execution_count": 215,
   "metadata": {},
   "outputs": [],
   "source": [
    "search.send_keys(data)"
   ]
  },
  {
   "cell_type": "code",
   "execution_count": 224,
   "metadata": {},
   "outputs": [
    {
     "data": {
      "text/plain": [
       "100"
      ]
     },
     "execution_count": 224,
     "metadata": {},
     "output_type": "execute_result"
    }
   ],
   "source": [
    "k= driver.find_elements_by_xpath(\"//div[@id='islrg']\")\n",
    "p=k[0]\n",
    "len(kkk)  "
   ]
  },
  {
   "cell_type": "code",
   "execution_count": 234,
   "metadata": {},
   "outputs": [],
   "source": [
    "kkk=p.find_elements_by_tag_name('a')\n",
    "o=kkk[8]\n",
    "knew=o.get_attribute(\"href\")\n",
    "knew"
   ]
  },
  {
   "cell_type": "code",
   "execution_count": 314,
   "metadata": {},
   "outputs": [],
   "source": [
    "url_ne=[]\n",
    "for i in range(0,200,2):\n",
    "    k1= driver.find_elements_by_xpath(\"//div[@id='islrg']\")\n",
    "    p1=k1[0]\n",
    "    kk1=p1.find_elements_by_tag_name('a')\n",
    "    op1=kk1[i]\n",
    "    m1=op1.get_attribute(\"href\")\n",
    "    url_ne.append(m1)"
   ]
  },
  {
   "cell_type": "code",
   "execution_count": 324,
   "metadata": {},
   "outputs": [],
   "source": [
    "k1= driver.find_elements_by_xpath(\"//div[@id='islrg']\")\n",
    "p=k1[0]\n",
    "k2=p.find_elements_by_xpath(\"//div[@class='islrc']/div[1]\")\n",
    "len(k2)\n",
    "bn21=pp.find_elements_by_tag_name('a')"
   ]
  },
  {
   "cell_type": "code",
   "execution_count": null,
   "metadata": {},
   "outputs": [],
   "source": [
    " kk=p.find_elements_by_tag_name('a')\n",
    "    op=kk[i]\n",
    "    m=op.get_attribute(\"href\")\n",
    "    url.append(m)"
   ]
  },
  {
   "cell_type": "code",
   "execution_count": 206,
   "metadata": {},
   "outputs": [],
   "source": [
    "url=url[0:100]"
   ]
  },
  {
   "cell_type": "code",
   "execution_count": 70,
   "metadata": {},
   "outputs": [],
   "source": [
    "k= driver.find_elements_by_xpath(\"//*[@id='islrg']/div[1]/div[1]\")"
   ]
  },
  {
   "cell_type": "code",
   "execution_count": null,
   "metadata": {},
   "outputs": [],
   "source": [
    "url_ml=[]\n",
    "for i in range(1,200,2):\n",
    "    k= driver.find_elements_by_xpath(\"//div[@id='islrg']\")\n",
    "    p=k[0]\n",
    "    if p.text is None:\n",
    "        url_ml.append('--')\n",
    "    else:\n",
    "        kk=p.find_elements_by_tag_name('a')\n",
    "        op=kk[i]\n",
    "        m=op.get_attribute(\"href\")\n",
    "        url_ml.append(m)\n",
    "url_ml"
   ]
  },
  {
   "cell_type": "code",
   "execution_count": 410,
   "metadata": {},
   "outputs": [],
   "source": [
    "url=list(zip(url,url_n3,url_ml))"
   ]
  },
  {
   "cell_type": "code",
   "execution_count": 411,
   "metadata": {},
   "outputs": [],
   "source": [
    "df=pd.DataFrame(url,columns=[\"Cats\",\"Fruits\",\"ML\"])"
   ]
  },
  {
   "cell_type": "code",
   "execution_count": 412,
   "metadata": {},
   "outputs": [
    {
     "data": {
      "text/html": [
       "<div>\n",
       "<style scoped>\n",
       "    .dataframe tbody tr th:only-of-type {\n",
       "        vertical-align: middle;\n",
       "    }\n",
       "\n",
       "    .dataframe tbody tr th {\n",
       "        vertical-align: top;\n",
       "    }\n",
       "\n",
       "    .dataframe thead th {\n",
       "        text-align: right;\n",
       "    }\n",
       "</style>\n",
       "<table border=\"1\" class=\"dataframe\">\n",
       "  <thead>\n",
       "    <tr style=\"text-align: right;\">\n",
       "      <th></th>\n",
       "      <th>Cats</th>\n",
       "      <th>Fruits</th>\n",
       "      <th>ML</th>\n",
       "    </tr>\n",
       "  </thead>\n",
       "  <tbody>\n",
       "    <tr>\n",
       "      <th>0</th>\n",
       "      <td>(https://www.google.com/imgres?imgurl=https%3A...</td>\n",
       "      <td>None</td>\n",
       "      <td>https://www.forbes.com/sites/kalevleetaru/2019...</td>\n",
       "    </tr>\n",
       "    <tr>\n",
       "      <th>1</th>\n",
       "      <td>(https://icatcare.org/advice/thinking-of-getti...</td>\n",
       "      <td>None</td>\n",
       "      <td>https://www.forbes.com/sites/tomtaulli/2019/03...</td>\n",
       "    </tr>\n",
       "    <tr>\n",
       "      <th>2</th>\n",
       "      <td>(None, None, https://www.securityroundtable.or...</td>\n",
       "      <td>None</td>\n",
       "      <td>https://www.securityroundtable.org/the-growing...</td>\n",
       "    </tr>\n",
       "    <tr>\n",
       "      <th>3</th>\n",
       "      <td>(https://www.scientificamerican.com/article/ca...</td>\n",
       "      <td>None</td>\n",
       "      <td>https://becominghuman.ai/an-introduction-to-ma...</td>\n",
       "    </tr>\n",
       "    <tr>\n",
       "      <th>4</th>\n",
       "      <td>(None, None, https://www.wordstream.com/blog/w...</td>\n",
       "      <td>https://www.google.com/search?q=single+fruits+...</td>\n",
       "      <td>https://www.wordstream.com/blog/ws/2017/07/28/...</td>\n",
       "    </tr>\n",
       "    <tr>\n",
       "      <th>...</th>\n",
       "      <td>...</td>\n",
       "      <td>...</td>\n",
       "      <td>...</td>\n",
       "    </tr>\n",
       "    <tr>\n",
       "      <th>95</th>\n",
       "      <td>(https://www.nhm.ac.uk/discover/a-world-of-wil...</td>\n",
       "      <td>https://www.finedininglovers.com/article/20-re...</td>\n",
       "      <td>https://developers.google.com/machine-learning...</td>\n",
       "    </tr>\n",
       "    <tr>\n",
       "      <th>96</th>\n",
       "      <td>(None, None, https://searchenterpriseai.techta...</td>\n",
       "      <td>https://flaunt.com/content/full-moon-fruits</td>\n",
       "      <td>https://searchenterpriseai.techtarget.com/defi...</td>\n",
       "    </tr>\n",
       "    <tr>\n",
       "      <th>97</th>\n",
       "      <td>(https://www.sciencenewsforstudents.org/articl...</td>\n",
       "      <td>https://www.healthyfamiliesbc.ca/home/articles...</td>\n",
       "      <td>https://www.xplenty.com/blog/top-machine-learn...</td>\n",
       "    </tr>\n",
       "    <tr>\n",
       "      <th>98</th>\n",
       "      <td>(None, None, https://www.crn.com/news/cloud/th...</td>\n",
       "      <td>https://www.amway.in/nutrilite-concentrated-fr...</td>\n",
       "      <td>https://www.crn.com/news/cloud/the-12-coolest-...</td>\n",
       "    </tr>\n",
       "    <tr>\n",
       "      <th>99</th>\n",
       "      <td>(https://www.britannica.com/story/dwarfism-in-...</td>\n",
       "      <td>https://blog.thompson-morgan.com/exotic-fruit/</td>\n",
       "      <td>https://www.google.com/search?q=machine+learni...</td>\n",
       "    </tr>\n",
       "  </tbody>\n",
       "</table>\n",
       "<p>100 rows × 3 columns</p>\n",
       "</div>"
      ],
      "text/plain": [
       "                                                 Cats  \\\n",
       "0   (https://www.google.com/imgres?imgurl=https%3A...   \n",
       "1   (https://icatcare.org/advice/thinking-of-getti...   \n",
       "2   (None, None, https://www.securityroundtable.or...   \n",
       "3   (https://www.scientificamerican.com/article/ca...   \n",
       "4   (None, None, https://www.wordstream.com/blog/w...   \n",
       "..                                                ...   \n",
       "95  (https://www.nhm.ac.uk/discover/a-world-of-wil...   \n",
       "96  (None, None, https://searchenterpriseai.techta...   \n",
       "97  (https://www.sciencenewsforstudents.org/articl...   \n",
       "98  (None, None, https://www.crn.com/news/cloud/th...   \n",
       "99  (https://www.britannica.com/story/dwarfism-in-...   \n",
       "\n",
       "                                               Fruits  \\\n",
       "0                                                None   \n",
       "1                                                None   \n",
       "2                                                None   \n",
       "3                                                None   \n",
       "4   https://www.google.com/search?q=single+fruits+...   \n",
       "..                                                ...   \n",
       "95  https://www.finedininglovers.com/article/20-re...   \n",
       "96        https://flaunt.com/content/full-moon-fruits   \n",
       "97  https://www.healthyfamiliesbc.ca/home/articles...   \n",
       "98  https://www.amway.in/nutrilite-concentrated-fr...   \n",
       "99     https://blog.thompson-morgan.com/exotic-fruit/   \n",
       "\n",
       "                                                   ML  \n",
       "0   https://www.forbes.com/sites/kalevleetaru/2019...  \n",
       "1   https://www.forbes.com/sites/tomtaulli/2019/03...  \n",
       "2   https://www.securityroundtable.org/the-growing...  \n",
       "3   https://becominghuman.ai/an-introduction-to-ma...  \n",
       "4   https://www.wordstream.com/blog/ws/2017/07/28/...  \n",
       "..                                                ...  \n",
       "95  https://developers.google.com/machine-learning...  \n",
       "96  https://searchenterpriseai.techtarget.com/defi...  \n",
       "97  https://www.xplenty.com/blog/top-machine-learn...  \n",
       "98  https://www.crn.com/news/cloud/the-12-coolest-...  \n",
       "99  https://www.google.com/search?q=machine+learni...  \n",
       "\n",
       "[100 rows x 3 columns]"
      ]
     },
     "execution_count": 412,
     "metadata": {},
     "output_type": "execute_result"
    }
   ],
   "source": [
    "df"
   ]
  },
  {
   "cell_type": "code",
   "execution_count": null,
   "metadata": {},
   "outputs": [],
   "source": []
  }
 ],
 "metadata": {
  "kernelspec": {
   "display_name": "Python 3",
   "language": "python",
   "name": "python3"
  },
  "language_info": {
   "codemirror_mode": {
    "name": "ipython",
    "version": 3
   },
   "file_extension": ".py",
   "mimetype": "text/x-python",
   "name": "python",
   "nbconvert_exporter": "python",
   "pygments_lexer": "ipython3",
   "version": "3.8.3"
  }
 },
 "nbformat": 4,
 "nbformat_minor": 4
}
