{
 "cells": [
  {
   "cell_type": "code",
   "execution_count": 1,
   "metadata": {},
   "outputs": [],
   "source": [
    "import pandas as pd\n",
    "import selenium\n",
    "from selenium import webdriver\n",
    "from selenium.common.exceptions import StaleElementReferenceException, NoSuchElementException"
   ]
  },
  {
   "cell_type": "code",
   "execution_count": 2,
   "metadata": {},
   "outputs": [
    {
     "name": "stderr",
     "output_type": "stream",
     "text": [
      "<ipython-input-2-56a44a4849dd>:1: DeprecationWarning: executable_path has been deprecated, please pass in a Service object\n",
      "  driver=webdriver.Chrome(\"C:\\\\Users\\\\Preeti kumari\\\\chromedriver.exe\")\n"
     ]
    }
   ],
   "source": [
    "driver=webdriver.Chrome(\"C:\\\\Users\\\\Preeti kumari\\\\chromedriver.exe\")"
   ]
  },
  {
   "cell_type": "code",
   "execution_count": 7,
   "metadata": {},
   "outputs": [],
   "source": [
    "driver.get(\"https://www.digit.in/\")\n"
   ]
  },
  {
   "cell_type": "code",
   "execution_count": 9,
   "metadata": {},
   "outputs": [],
   "source": [
    "search_field_designation=driver.find_element_by_xpath(\"//ul[@id='menu']/div[1]/li[15]\")\n",
    "search_field_designation.click()"
   ]
  },
  {
   "cell_type": "code",
   "execution_count": 12,
   "metadata": {},
   "outputs": [],
   "source": [
    "search_field_designation1=driver.find_element_by_xpath(\"//li[@class='has-sub open']/ul[1]/li[2]\")\n",
    "search_field_designation1.click()"
   ]
  },
  {
   "cell_type": "code",
   "execution_count": 15,
   "metadata": {},
   "outputs": [],
   "source": [
    "search_field_designation2=driver.find_element_by_xpath(\"//div[@class='Listbrand']/ul[1]/li[10]\")\n",
    "search_field_designation2.click()"
   ]
  },
  {
   "cell_type": "code",
   "execution_count": 89,
   "metadata": {},
   "outputs": [],
   "source": [
    "name=[]\n"
   ]
  },
  {
   "cell_type": "code",
   "execution_count": 90,
   "metadata": {
    "scrolled": true
   },
   "outputs": [
    {
     "data": {
      "text/plain": [
       "['1. MSI GT76 TITAN DT 9SG',\n",
       " '2. ALIENWARE 17 AREA-51M',\n",
       " '4. ASUS ZEPHYRUS G14',\n",
       " '5. LENOVO LEGION Y540',\n",
       " '6. ASUS ROG ZEPHYRUS G GA502',\n",
       " '7. ASUS ROG ZEPHYRUS S GX531',\n",
       " '8. MSI GT83VR 7RE TITAN SLI',\n",
       " '9. ASUS ROG ZEPHYRUS DUO 15',\n",
       " '10. DELL G3']"
      ]
     },
     "execution_count": 90,
     "metadata": {},
     "output_type": "execute_result"
    }
   ],
   "source": [
    "titles=driver.find_elements_by_xpath(\"//div[@class='TopNumbeHeading sticky-footer']\")\n",
    "for i in titles:\n",
    "    if i.text is None :\n",
    "        name.append(\"--\") \n",
    "    else:\n",
    "        name.append(i.text.replace('\\n',\" \"))   \n",
    "name"
   ]
  },
  {
   "cell_type": "code",
   "execution_count": 91,
   "metadata": {
    "scrolled": true
   },
   "outputs": [
    {
     "data": {
      "text/plain": [
       "['Sporting a desktop graphics Intel Core i9-9900K coupled with an RTX 2080, the MSI GT76 TITAN 9SG has the same configuration as the Alienware Area-51m. Both machines use massive power bricks which when plugged in trigger an automatic factory overclock of 32-33% for the processors. Even the graphics cards are the same RTX 2080 but MSI has a slightly higher base clock of 1575 MHz whereas the Alienware unit has that set to 1515 MHz. Boost clocks are also different with the MSI unit clocked at 1755 MHz and the Alienware at 1720 MHz. So performance wise, these two are nearly similar until you consider the next two important things in a computer, the RAM and the SSD boot drives. MSI’s gaming laptop has RAM clocked at 2666 MHz and uses two NVMe SSDs in RAID 0 for the boot drive.',\n",
       " 'The Alienware Area-51m was certainly the first of its kind to have the desktop grade Intel Core i9-9900K coupled with NVIDIA’s RTX 2080. However, as time goes by competitors brought similar configurations with slightly improved features. When powered on, the Area-51m automatically sets the processor to a 32% overclock which helps out with some video games and a lot more in high-compute tasks. The built-in Control Centre has made it even simpler to push the processor clocks higher should you need it.']"
      ]
     },
     "execution_count": 91,
     "metadata": {},
     "output_type": "execute_result"
    }
   ],
   "source": [
    "spec=[]\n",
    "s=driver.find_elements_by_xpath(\"//div[@class='Section-center']/p[1]\")\n",
    "for i in s:\n",
    "    if i.text is None :\n",
    "        spec.append(\"--\") \n",
    "    else:\n",
    "        spec.append(i.text.replace('\\n',\" \"))   \n",
    "spec[0:2]"
   ]
  },
  {
   "cell_type": "code",
   "execution_count": 73,
   "metadata": {
    "scrolled": true
   },
   "outputs": [
    {
     "data": {
      "text/plain": [
       "['Windows 10 Pro',\n",
       " 'Windows 10 Pro',\n",
       " 'Windows 10 Home',\n",
       " 'Windows 10 Home',\n",
       " 'Windows 10 Home',\n",
       " 'Windows 10 Home',\n",
       " 'Windows 10 Home',\n",
       " 'Windows 10 Home 64 bit',\n",
       " 'Windows 10',\n",
       " 'Windows 10 Home Plus']"
      ]
     },
     "execution_count": 73,
     "metadata": {},
     "output_type": "execute_result"
    }
   ],
   "source": [
    "mk=[]\n",
    "l=driver.find_elements_by_xpath(\"//div[@class='Spcs-details']/table[1]/tbody[1]/tr[3]/td[3]\")\n",
    "for i in l:\n",
    "    if i.text is None :\n",
    "        mk.append(\"--\") \n",
    "    else:\n",
    "        mk.append(i.text.replace('\\n',\" \"))   \n",
    "mk"
   ]
  },
  {
   "cell_type": "code",
   "execution_count": 82,
   "metadata": {},
   "outputs": [
    {
     "data": {
      "text/plain": [
       "['17.3\" (UHD 3840x2160)',\n",
       " '17.3\" (FHD (1920 x 1080))',\n",
       " '15.6\" (1920 x 1080)',\n",
       " '14\" (1920 x 1080)',\n",
       " '15.6\" (1920 X 1080)',\n",
       " '15.6\" (1920 x 1080)',\n",
       " '15.6\" (1920 X 1080)',\n",
       " '18.4\" (1920 x 1080)',\n",
       " '15.6\" (3840 x 1100)',\n",
       " '15.6 MP | NA']"
      ]
     },
     "execution_count": 82,
     "metadata": {},
     "output_type": "execute_result"
    }
   ],
   "source": [
    "d=[]\n",
    "ds=driver.find_elements_by_xpath(\"//div[@class='Spcs-details']/table[1]/tbody[1]/tr[4]/td[3]\")\n",
    "for i in ds:\n",
    "    if i.text is None :\n",
    "        d.append(\"--\") \n",
    "    else:\n",
    "        d.append(i.text.replace('\\n',\" \"))   \n",
    "d"
   ]
  },
  {
   "cell_type": "code",
   "execution_count": 76,
   "metadata": {
    "scrolled": true
   },
   "outputs": [
    {
     "data": {
      "text/plain": [
       "['Intel 9th Gen Core i9-9900K | 5000 MHz',\n",
       " 'Intel 9th Gen Core i9-9900K | 5000 MHz',\n",
       " 'Intel i7-10750H 10th Gen | 1.6GHz',\n",
       " 'AMD 3rd Generation Ryzen 9 | 3.3 GHz',\n",
       " '9th Generation Core Intel I7-9750H | 2.6 Ghz',\n",
       " 'AMD Ryzen 7 Quad Core 3750H | 2.3 GHz',\n",
       " '9th Gen Intel Core i7-8750H | 2.2 GHz',\n",
       " 'Intel CM238 Core i7-7820HK+CM238 7th Gen | 3.5GHz',\n",
       " 'Intel Core i7 10th Gen 10875H | NA',\n",
       " '8th Generation Intel® Core™ i7-8750H | NA']"
      ]
     },
     "execution_count": 76,
     "metadata": {},
     "output_type": "execute_result"
    }
   ],
   "source": [
    "NK=[]\n",
    "lM=driver.find_elements_by_xpath(\"//div[@class='Spcs-details']/table[1]/tbody[1]/tr[5]/td[3]\")\n",
    "for i in lM:\n",
    "    if i.text is None :\n",
    "        NK.append(\"--\") \n",
    "    else:\n",
    "        NK.append(i.text.replace('\\n',\" \"))   \n",
    "NK"
   ]
  },
  {
   "cell_type": "code",
   "execution_count": 83,
   "metadata": {
    "scrolled": true
   },
   "outputs": [
    {
     "data": {
      "text/plain": [
       "['1 TB HDD/64 GBGB DDR4',\n",
       " '1 TB PCIe SSD/32GB DDR4',\n",
       " '512 GB SSD/16 GBGB DDR4',\n",
       " '1 TB SSD/16 GBGB DDR4',\n",
       " '1 TB SSD/8GB DDR4',\n",
       " '512 GB SSD/16GB DDR4',\n",
       " '512GB SSD/16 GBGB DDR4',\n",
       " '1.5 TB SATA/64GB DDR4',\n",
       " '512 GB SSD/4 GBGB DDR4',\n",
       " '256 + 1 TB SSD + SATA/16GB DDR4']"
      ]
     },
     "execution_count": 83,
     "metadata": {},
     "output_type": "execute_result"
    }
   ],
   "source": [
    "M=[]\n",
    "me=driver.find_elements_by_xpath(\"//div[@class='Spcs-details']/table[1]/tbody[1]/tr[6]/td[3]\")\n",
    "for i in me:\n",
    "    if i.text is None :\n",
    "        M.append(\"--\") \n",
    "    else:\n",
    "        M.append(i.text.replace('\\n',\" \"))   \n",
    "M"
   ]
  },
  {
   "cell_type": "code",
   "execution_count": 84,
   "metadata": {
    "scrolled": true
   },
   "outputs": [
    {
     "data": {
      "text/plain": [
       "['4.2 kg',\n",
       " '3.87 Kg',\n",
       " '5.40',\n",
       " '1.65',\n",
       " '2.3',\n",
       " '2.2',\n",
       " '2.1',\n",
       " '5.5',\n",
       " '2.4',\n",
       " '2.53']"
      ]
     },
     "execution_count": 84,
     "metadata": {},
     "output_type": "execute_result"
    }
   ],
   "source": [
    "PK=[]\n",
    "l=driver.find_elements_by_xpath(\"//div[@class='Spcs-details']/table[1]/tbody[1]/tr[7]/td[3]\")\n",
    "for i in l:\n",
    "    if i.text is None :\n",
    "        PK.append(\"--\") \n",
    "    else:\n",
    "        PK.append(i.text.replace('\\n',\" \"))   \n",
    "PK"
   ]
  },
  {
   "cell_type": "code",
   "execution_count": 85,
   "metadata": {},
   "outputs": [
    {
     "data": {
      "text/plain": [
       "['397 x 330 x 33~42 mm',\n",
       " '42 mm x 402.6 mm x 319.14 mm',\n",
       " '14.09 x 9.44 x 0.89',\n",
       " '32.5 x 22.1 x 1.8',\n",
       " '365mm x 260mm x 25.9mm',\n",
       " '360 x 252 x 20.4',\n",
       " '360 (W) x 268 (D) x 15.35~16.15 (H) mm',\n",
       " '458 x 339 x 69',\n",
       " '268.30 x 360.00 x 20.90',\n",
       " '22.7 X 380 X 258']"
      ]
     },
     "execution_count": 85,
     "metadata": {},
     "output_type": "execute_result"
    }
   ],
   "source": [
    "W=[]\n",
    "we=driver.find_elements_by_xpath(\"//div[@class='Spcs-details']/table[1]/tbody[1]/tr[8]/td[3]\")\n",
    "for i in we:\n",
    "    if i.text is None :\n",
    "        W.append(\"--\") \n",
    "    else:\n",
    "        W.append(i.text.replace('\\n',\" \"))   \n",
    "W"
   ]
  },
  {
   "cell_type": "code",
   "execution_count": 86,
   "metadata": {},
   "outputs": [
    {
     "data": {
      "text/plain": [
       "['NVIDIA GeForce RTX 2080',\n",
       " 'NVIDIA GeForce RTX 2080',\n",
       " 'Nvidia GeForce GTX 1650Ti',\n",
       " 'NVIDIA GeForce RTX 2060',\n",
       " 'NVIDIA® GeForce RTX™ 2060',\n",
       " 'NVIDIA Geforce GTX 1660 Ti',\n",
       " 'NVIDIA® GeForce RTX™ 2070 (Max-Q)',\n",
       " 'Dual GTX1070',\n",
       " 'NVIDIA GeForce RTX 2070 Max-Q',\n",
       " 'NVIDIA® GeForce® GTX']"
      ]
     },
     "execution_count": 86,
     "metadata": {},
     "output_type": "execute_result"
    }
   ],
   "source": [
    "GP=[]\n",
    "g=driver.find_elements_by_xpath(\"//div[@class='Spcs-details']/table[1]/tbody[1]/tr[9]/td[3]\")\n",
    "for i in g:\n",
    "    if i.text is None :\n",
    "        GP.append(\"--\") \n",
    "    else:\n",
    "        GP.append(i.text.replace('\\n',\" \"))   \n",
    "GP"
   ]
  },
  {
   "cell_type": "code",
   "execution_count": 87,
   "metadata": {},
   "outputs": [
    {
     "data": {
      "text/plain": [
       "['₹379990', '₹349990']"
      ]
     },
     "execution_count": 87,
     "metadata": {},
     "output_type": "execute_result"
    }
   ],
   "source": [
    "P=[]\n",
    "pr=driver.find_elements_by_xpath(\"//div[@class='Spcs-details']/table[1]/tbody[1]/tr[10]/td[3]\")\n",
    "for i in pr:\n",
    "    if i.text is None :\n",
    "        P.append(\"--\") \n",
    "    else:\n",
    "        P.append(i.text.replace('\\n',\" \"))   \n",
    "P"
   ]
  },
  {
   "cell_type": "code",
   "execution_count": 88,
   "metadata": {},
   "outputs": [
    {
     "data": {
      "text/plain": [
       "['₹379990',\n",
       " '₹349990',\n",
       " '₹ 489909',\n",
       " '₹ 114990',\n",
       " '₹ 164990',\n",
       " '₹ 79990',\n",
       " '₹ 79990',\n",
       " '₹ 146000',\n",
       " '₹ 259990',\n",
       " '₹ 61990']"
      ]
     },
     "execution_count": 88,
     "metadata": {},
     "output_type": "execute_result"
    }
   ],
   "source": [
    "PRI=driver.find_elements_by_xpath(\"//table[@class='table']/tbody[1]/tr[1]/td[3]\")\n",
    "for i in PRI:\n",
    "    if i.text is None :\n",
    "        P.append(\"--\") \n",
    "    else:\n",
    "        P.append(i.text.replace('\\n',\" \"))   \n",
    "P"
   ]
  },
  {
   "cell_type": "code",
   "execution_count": 92,
   "metadata": {},
   "outputs": [],
   "source": [
    "data=list(zip(name,spec,mk,d,NK,M,PK,W,GP,P))"
   ]
  },
  {
   "cell_type": "code",
   "execution_count": 97,
   "metadata": {},
   "outputs": [],
   "source": [
    "df=pd.DataFrame(data,columns=[\"Name\",\"Full Specification\",\"OS\",\"Display\",\"Processor\",\"Memory\",\"Weight\",\"Dimension\",\"Graphic Processor\",\"Price\"])"
   ]
  },
  {
   "cell_type": "code",
   "execution_count": 98,
   "metadata": {},
   "outputs": [
    {
     "data": {
      "text/html": [
       "<div>\n",
       "<style scoped>\n",
       "    .dataframe tbody tr th:only-of-type {\n",
       "        vertical-align: middle;\n",
       "    }\n",
       "\n",
       "    .dataframe tbody tr th {\n",
       "        vertical-align: top;\n",
       "    }\n",
       "\n",
       "    .dataframe thead th {\n",
       "        text-align: right;\n",
       "    }\n",
       "</style>\n",
       "<table border=\"1\" class=\"dataframe\">\n",
       "  <thead>\n",
       "    <tr style=\"text-align: right;\">\n",
       "      <th></th>\n",
       "      <th>Name</th>\n",
       "      <th>Full Specification</th>\n",
       "      <th>OS</th>\n",
       "      <th>Display</th>\n",
       "      <th>Processor</th>\n",
       "      <th>Memory</th>\n",
       "      <th>Weight</th>\n",
       "      <th>Dimension</th>\n",
       "      <th>Graphic Processor</th>\n",
       "      <th>Price</th>\n",
       "    </tr>\n",
       "  </thead>\n",
       "  <tbody>\n",
       "    <tr>\n",
       "      <th>0</th>\n",
       "      <td>1. MSI GT76 TITAN DT 9SG</td>\n",
       "      <td>Sporting a desktop graphics Intel Core i9-9900...</td>\n",
       "      <td>Windows 10 Pro</td>\n",
       "      <td>17.3\" (UHD 3840x2160)</td>\n",
       "      <td>Intel 9th Gen Core i9-9900K | 5000 MHz</td>\n",
       "      <td>1 TB HDD/64 GBGB DDR4</td>\n",
       "      <td>4.2 kg</td>\n",
       "      <td>397 x 330 x 33~42 mm</td>\n",
       "      <td>NVIDIA GeForce RTX 2080</td>\n",
       "      <td>₹379990</td>\n",
       "    </tr>\n",
       "    <tr>\n",
       "      <th>1</th>\n",
       "      <td>2. ALIENWARE 17 AREA-51M</td>\n",
       "      <td>The Alienware Area-51m was certainly the first...</td>\n",
       "      <td>Windows 10 Pro</td>\n",
       "      <td>17.3\" (FHD (1920 x 1080))</td>\n",
       "      <td>Intel 9th Gen Core i9-9900K | 5000 MHz</td>\n",
       "      <td>1 TB PCIe SSD/32GB DDR4</td>\n",
       "      <td>3.87 Kg</td>\n",
       "      <td>42 mm x 402.6 mm x 319.14 mm</td>\n",
       "      <td>NVIDIA GeForce RTX 2080</td>\n",
       "      <td>₹349990</td>\n",
       "    </tr>\n",
       "    <tr>\n",
       "      <th>2</th>\n",
       "      <td>4. ASUS ZEPHYRUS G14</td>\n",
       "      <td>The new HP Omen 15 comes in both 10th generati...</td>\n",
       "      <td>Windows 10 Home</td>\n",
       "      <td>15.6\" (1920 x 1080)</td>\n",
       "      <td>Intel i7-10750H 10th Gen | 1.6GHz</td>\n",
       "      <td>512 GB SSD/16 GBGB DDR4</td>\n",
       "      <td>5.40</td>\n",
       "      <td>14.09 x 9.44 x 0.89</td>\n",
       "      <td>Nvidia GeForce GTX 1650Ti</td>\n",
       "      <td>₹ 489909</td>\n",
       "    </tr>\n",
       "    <tr>\n",
       "      <th>3</th>\n",
       "      <td>5. LENOVO LEGION Y540</td>\n",
       "      <td>The Asus Zephyrus G14 is a first-of-its-kind g...</td>\n",
       "      <td>Windows 10 Home</td>\n",
       "      <td>14\" (1920 x 1080)</td>\n",
       "      <td>AMD 3rd Generation Ryzen 9 | 3.3 GHz</td>\n",
       "      <td>1 TB SSD/16 GBGB DDR4</td>\n",
       "      <td>1.65</td>\n",
       "      <td>32.5 x 22.1 x 1.8</td>\n",
       "      <td>NVIDIA GeForce RTX 2060</td>\n",
       "      <td>₹ 114990</td>\n",
       "    </tr>\n",
       "    <tr>\n",
       "      <th>4</th>\n",
       "      <td>6. ASUS ROG ZEPHYRUS G GA502</td>\n",
       "      <td>The Lenovo Legion Y540 is powered by an Intel ...</td>\n",
       "      <td>Windows 10 Home</td>\n",
       "      <td>15.6\" (1920 X 1080)</td>\n",
       "      <td>9th Generation Core Intel I7-9750H | 2.6 Ghz</td>\n",
       "      <td>1 TB SSD/8GB DDR4</td>\n",
       "      <td>2.3</td>\n",
       "      <td>365mm x 260mm x 25.9mm</td>\n",
       "      <td>NVIDIA® GeForce RTX™ 2060</td>\n",
       "      <td>₹ 164990</td>\n",
       "    </tr>\n",
       "    <tr>\n",
       "      <th>5</th>\n",
       "      <td>7. ASUS ROG ZEPHYRUS S GX531</td>\n",
       "      <td>The Ryzen 7 3750H powered Asus ROG Zephyrus G ...</td>\n",
       "      <td>Windows 10 Home</td>\n",
       "      <td>15.6\" (1920 x 1080)</td>\n",
       "      <td>AMD Ryzen 7 Quad Core 3750H | 2.3 GHz</td>\n",
       "      <td>512 GB SSD/16GB DDR4</td>\n",
       "      <td>2.2</td>\n",
       "      <td>360 x 252 x 20.4</td>\n",
       "      <td>NVIDIA Geforce GTX 1660 Ti</td>\n",
       "      <td>₹ 79990</td>\n",
       "    </tr>\n",
       "    <tr>\n",
       "      <th>6</th>\n",
       "      <td>8. MSI GT83VR 7RE TITAN SLI</td>\n",
       "      <td>The Asus Zephyrus S (GX531) manages to get a f...</td>\n",
       "      <td>Windows 10 Home</td>\n",
       "      <td>15.6\" (1920 X 1080)</td>\n",
       "      <td>9th Gen Intel Core i7-8750H | 2.2 GHz</td>\n",
       "      <td>512GB SSD/16 GBGB DDR4</td>\n",
       "      <td>2.1</td>\n",
       "      <td>360 (W) x 268 (D) x 15.35~16.15 (H) mm</td>\n",
       "      <td>NVIDIA® GeForce RTX™ 2070 (Max-Q)</td>\n",
       "      <td>₹ 79990</td>\n",
       "    </tr>\n",
       "    <tr>\n",
       "      <th>7</th>\n",
       "      <td>9. ASUS ROG ZEPHYRUS DUO 15</td>\n",
       "      <td>MSI does not have a dual GTX 1080 gaming lapto...</td>\n",
       "      <td>Windows 10 Home 64 bit</td>\n",
       "      <td>18.4\" (1920 x 1080)</td>\n",
       "      <td>Intel CM238 Core i7-7820HK+CM238 7th Gen | 3.5GHz</td>\n",
       "      <td>1.5 TB SATA/64GB DDR4</td>\n",
       "      <td>5.5</td>\n",
       "      <td>458 x 339 x 69</td>\n",
       "      <td>Dual GTX1070</td>\n",
       "      <td>₹ 146000</td>\n",
       "    </tr>\n",
       "    <tr>\n",
       "      <th>8</th>\n",
       "      <td>10. DELL G3</td>\n",
       "      <td>The machine is powered by an Intel Core i7-108...</td>\n",
       "      <td>Windows 10</td>\n",
       "      <td>15.6\" (3840 x 1100)</td>\n",
       "      <td>Intel Core i7 10th Gen 10875H | NA</td>\n",
       "      <td>512 GB SSD/4 GBGB DDR4</td>\n",
       "      <td>2.4</td>\n",
       "      <td>268.30 x 360.00 x 20.90</td>\n",
       "      <td>NVIDIA GeForce RTX 2070 Max-Q</td>\n",
       "      <td>₹ 259990</td>\n",
       "    </tr>\n",
       "  </tbody>\n",
       "</table>\n",
       "</div>"
      ],
      "text/plain": [
       "                           Name  \\\n",
       "0      1. MSI GT76 TITAN DT 9SG   \n",
       "1      2. ALIENWARE 17 AREA-51M   \n",
       "2          4. ASUS ZEPHYRUS G14   \n",
       "3         5. LENOVO LEGION Y540   \n",
       "4  6. ASUS ROG ZEPHYRUS G GA502   \n",
       "5  7. ASUS ROG ZEPHYRUS S GX531   \n",
       "6   8. MSI GT83VR 7RE TITAN SLI   \n",
       "7   9. ASUS ROG ZEPHYRUS DUO 15   \n",
       "8                   10. DELL G3   \n",
       "\n",
       "                                  Full Specification                      OS  \\\n",
       "0  Sporting a desktop graphics Intel Core i9-9900...          Windows 10 Pro   \n",
       "1  The Alienware Area-51m was certainly the first...          Windows 10 Pro   \n",
       "2  The new HP Omen 15 comes in both 10th generati...         Windows 10 Home   \n",
       "3  The Asus Zephyrus G14 is a first-of-its-kind g...         Windows 10 Home   \n",
       "4  The Lenovo Legion Y540 is powered by an Intel ...         Windows 10 Home   \n",
       "5  The Ryzen 7 3750H powered Asus ROG Zephyrus G ...         Windows 10 Home   \n",
       "6  The Asus Zephyrus S (GX531) manages to get a f...         Windows 10 Home   \n",
       "7  MSI does not have a dual GTX 1080 gaming lapto...  Windows 10 Home 64 bit   \n",
       "8  The machine is powered by an Intel Core i7-108...              Windows 10   \n",
       "\n",
       "                     Display  \\\n",
       "0      17.3\" (UHD 3840x2160)   \n",
       "1  17.3\" (FHD (1920 x 1080))   \n",
       "2        15.6\" (1920 x 1080)   \n",
       "3          14\" (1920 x 1080)   \n",
       "4        15.6\" (1920 X 1080)   \n",
       "5        15.6\" (1920 x 1080)   \n",
       "6        15.6\" (1920 X 1080)   \n",
       "7        18.4\" (1920 x 1080)   \n",
       "8        15.6\" (3840 x 1100)   \n",
       "\n",
       "                                           Processor                   Memory  \\\n",
       "0             Intel 9th Gen Core i9-9900K | 5000 MHz    1 TB HDD/64 GBGB DDR4   \n",
       "1             Intel 9th Gen Core i9-9900K | 5000 MHz  1 TB PCIe SSD/32GB DDR4   \n",
       "2                  Intel i7-10750H 10th Gen | 1.6GHz  512 GB SSD/16 GBGB DDR4   \n",
       "3               AMD 3rd Generation Ryzen 9 | 3.3 GHz    1 TB SSD/16 GBGB DDR4   \n",
       "4       9th Generation Core Intel I7-9750H | 2.6 Ghz        1 TB SSD/8GB DDR4   \n",
       "5              AMD Ryzen 7 Quad Core 3750H | 2.3 GHz     512 GB SSD/16GB DDR4   \n",
       "6              9th Gen Intel Core i7-8750H | 2.2 GHz   512GB SSD/16 GBGB DDR4   \n",
       "7  Intel CM238 Core i7-7820HK+CM238 7th Gen | 3.5GHz    1.5 TB SATA/64GB DDR4   \n",
       "8                 Intel Core i7 10th Gen 10875H | NA   512 GB SSD/4 GBGB DDR4   \n",
       "\n",
       "    Weight                               Dimension  \\\n",
       "0   4.2 kg                    397 x 330 x 33~42 mm   \n",
       "1  3.87 Kg            42 mm x 402.6 mm x 319.14 mm   \n",
       "2     5.40                     14.09 x 9.44 x 0.89   \n",
       "3     1.65                       32.5 x 22.1 x 1.8   \n",
       "4      2.3                  365mm x 260mm x 25.9mm   \n",
       "5      2.2                        360 x 252 x 20.4   \n",
       "6      2.1  360 (W) x 268 (D) x 15.35~16.15 (H) mm   \n",
       "7      5.5                          458 x 339 x 69   \n",
       "8      2.4                 268.30 x 360.00 x 20.90   \n",
       "\n",
       "                   Graphic Processor     Price  \n",
       "0            NVIDIA GeForce RTX 2080   ₹379990  \n",
       "1            NVIDIA GeForce RTX 2080   ₹349990  \n",
       "2          Nvidia GeForce GTX 1650Ti  ₹ 489909  \n",
       "3            NVIDIA GeForce RTX 2060  ₹ 114990  \n",
       "4          NVIDIA® GeForce RTX™ 2060  ₹ 164990  \n",
       "5         NVIDIA Geforce GTX 1660 Ti   ₹ 79990  \n",
       "6  NVIDIA® GeForce RTX™ 2070 (Max-Q)   ₹ 79990  \n",
       "7                       Dual GTX1070  ₹ 146000  \n",
       "8      NVIDIA GeForce RTX 2070 Max-Q  ₹ 259990  "
      ]
     },
     "execution_count": 98,
     "metadata": {},
     "output_type": "execute_result"
    }
   ],
   "source": [
    "df"
   ]
  },
  {
   "cell_type": "code",
   "execution_count": null,
   "metadata": {},
   "outputs": [],
   "source": []
  }
 ],
 "metadata": {
  "kernelspec": {
   "display_name": "Python 3",
   "language": "python",
   "name": "python3"
  },
  "language_info": {
   "codemirror_mode": {
    "name": "ipython",
    "version": 3
   },
   "file_extension": ".py",
   "mimetype": "text/x-python",
   "name": "python",
   "nbconvert_exporter": "python",
   "pygments_lexer": "ipython3",
   "version": "3.8.3"
  }
 },
 "nbformat": 4,
 "nbformat_minor": 4
}
