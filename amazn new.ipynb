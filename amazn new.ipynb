{
 "cells": [
  {
   "cell_type": "code",
   "execution_count": 1,
   "metadata": {},
   "outputs": [],
   "source": [
    "import pandas as pd\n",
    "import selenium\n",
    "from selenium import webdriver\n",
    "from selenium.common.exceptions import StaleElementReferenceException, NoSuchElementException"
   ]
  },
  {
   "cell_type": "code",
   "execution_count": 2,
   "metadata": {},
   "outputs": [
    {
     "name": "stderr",
     "output_type": "stream",
     "text": [
      "<ipython-input-2-56a44a4849dd>:1: DeprecationWarning: executable_path has been deprecated, please pass in a Service object\n",
      "  driver=webdriver.Chrome(\"C:\\\\Users\\\\Preeti kumari\\\\chromedriver.exe\")\n"
     ]
    }
   ],
   "source": [
    "driver=webdriver.Chrome(\"C:\\\\Users\\\\Preeti kumari\\\\chromedriver.exe\")"
   ]
  },
  {
   "cell_type": "code",
   "execution_count": 3,
   "metadata": {},
   "outputs": [],
   "source": [
    "driver.get(\"https://www.amazon.in/\")\n"
   ]
  },
  {
   "cell_type": "code",
   "execution_count": 4,
   "metadata": {},
   "outputs": [
    {
     "name": "stderr",
     "output_type": "stream",
     "text": [
      "C:\\Users\\Preeti kumari\\anaconda3\\lib\\site-packages\\selenium\\webdriver\\remote\\webdriver.py:451: UserWarning: find_element_by_* commands are deprecated. Please use find_element() instead\n",
      "  warnings.warn(\"find_element_by_* commands are deprecated. Please use find_element() instead\")\n"
     ]
    }
   ],
   "source": [
    "search_field_designation=driver.find_element_by_xpath(\"//input[@id='twotabsearchtextbox']\")\n"
   ]
  },
  {
   "cell_type": "code",
   "execution_count": 5,
   "metadata": {},
   "outputs": [],
   "source": [
    "def input_sm():\n",
    "    data=input(\"what are you looking?\")\n",
    "    search_field_designation.send_keys(data)\n"
   ]
  },
  {
   "cell_type": "code",
   "execution_count": 6,
   "metadata": {},
   "outputs": [
    {
     "name": "stdout",
     "output_type": "stream",
     "text": [
      "what are you looking?shoes\n"
     ]
    }
   ],
   "source": [
    "input_sm()"
   ]
  },
  {
   "cell_type": "code",
   "execution_count": 7,
   "metadata": {},
   "outputs": [],
   "source": [
    "search_button=driver.find_element_by_xpath(\"//input[@id='nav-search-submit-button']\")\n",
    "search_button.click()\n"
   ]
  },
  {
   "cell_type": "code",
   "execution_count": 63,
   "metadata": {
    "scrolled": true
   },
   "outputs": [
    {
     "name": "stderr",
     "output_type": "stream",
     "text": [
      "C:\\Users\\Preeti kumari\\anaconda3\\lib\\site-packages\\selenium\\webdriver\\remote\\webdriver.py:470: UserWarning: find_elements_by_* commands are deprecated. Please use find_elements() instead\n",
      "  warnings.warn(\"find_elements_by_* commands are deprecated. Please use find_elements() instead\")\n"
     ]
    },
    {
     "data": {
      "text/plain": [
       "[\"Men's Rapid Runner IDP Sneakers\", 'Shoes Casual Shoe']"
      ]
     },
     "execution_count": 63,
     "metadata": {},
     "output_type": "execute_result"
    }
   ],
   "source": [
    "product_name=[]\n",
    "bn1=driver.find_elements_by_xpath(\"//div[@class='a-section a-spacing-none a-spacing-top-small']/h2[1]/a[1]/span\")\n",
    "for i in bn1:\n",
    "    if len(i.text)==0 :\n",
    "        product_name.append(\"--\") \n",
    "    else:\n",
    "        product_name.append(i.text)\n",
    "    \n",
    "product_name[0:2]"
   ]
  },
  {
   "cell_type": "code",
   "execution_count": 64,
   "metadata": {},
   "outputs": [
    {
     "data": {
      "text/plain": [
       "['Puma', 'Footrendz']"
      ]
     },
     "execution_count": 64,
     "metadata": {},
     "output_type": "execute_result"
    }
   ],
   "source": [
    "brand=[]\n",
    "bn2=driver.find_elements_by_xpath(\"//div[@class='a-row a-size-base a-color-secondary']/h5[1]\")\n",
    "for i in bn2:\n",
    "    if len(i.text)==0 :\n",
    "        brand.append(\"---\") \n",
    "    else:\n",
    "        brand.append(i.text)\n",
    "brand[0:2]"
   ]
  },
  {
   "cell_type": "code",
   "execution_count": 65,
   "metadata": {},
   "outputs": [
    {
     "data": {
      "text/plain": [
       "['409', '1']"
      ]
     },
     "execution_count": 65,
     "metadata": {},
     "output_type": "execute_result"
    }
   ],
   "source": [
    "bn3=driver.find_elements_by_xpath(\"//div[@class='a-row a-size-small']\")\n",
    "total_rating=[]\n",
    "for i in bn3:\n",
    "    if len(i.text)==0 :\n",
    "        total_rating.append(\"---\") \n",
    "    else:\n",
    "        total_rating.append(i.text)\n",
    "total_rating[0:2]"
   ]
  },
  {
   "cell_type": "code",
   "execution_count": 66,
   "metadata": {},
   "outputs": [
    {
     "data": {
      "text/plain": [
       "['₹2,399', '₹599']"
      ]
     },
     "execution_count": 66,
     "metadata": {},
     "output_type": "execute_result"
    }
   ],
   "source": [
    "bn4=driver.find_elements_by_xpath(\"//span[@class='a-price']\")\n",
    "price=[]\n",
    "for i in bn4:\n",
    "    if len(i.text)==0 :\n",
    "        price.append(\"---\") \n",
    "    else:\n",
    "        price.append(i.text)\n",
    "price[0:2]"
   ]
  },
  {
   "cell_type": "code",
   "execution_count": 67,
   "metadata": {
    "scrolled": false
   },
   "outputs": [],
   "source": [
    "bn5=driver.find_elements_by_xpath(\"//div[@class='a-row s-align-children-center']\")\n",
    "Expected_delivery=[]\n",
    "for i in bn5:\n",
    "    if len(i.text)==0 :\n",
    "        Expected_delivery.append(\"---\") \n",
    "    else:\n",
    "        Expected_delivery.append(i.text)\n"
   ]
  },
  {
   "cell_type": "code",
   "execution_count": 68,
   "metadata": {},
   "outputs": [
    {
     "name": "stderr",
     "output_type": "stream",
     "text": [
      "C:\\Users\\Preeti kumari\\anaconda3\\lib\\site-packages\\selenium\\webdriver\\remote\\webelement.py:365: UserWarning: find_elements_by_* commands are deprecated. Please use find_elements() instead\n",
      "  warnings.warn(\"find_elements_by_* commands are deprecated. Please use find_elements() instead\")\n"
     ]
    }
   ],
   "source": [
    "product_url=[]\n",
    "for i in range(0,60):\n",
    "    bn1=driver.find_elements_by_xpath(\"//h2[@class='a-size-mini a-spacing-none a-color-base s-line-clamp-2']\")\n",
    "    mm=bn1[i]\n",
    "    bn2=mm.find_elements_by_tag_name('a')\n",
    "    kkk=bn2[0]\n",
    "    m=kkk.get_attribute(\"href\")\n",
    "    product_url.append(m)"
   ]
  },
  {
   "cell_type": "code",
   "execution_count": 69,
   "metadata": {},
   "outputs": [
    {
     "name": "stderr",
     "output_type": "stream",
     "text": [
      "C:\\Users\\Preeti kumari\\anaconda3\\lib\\site-packages\\selenium\\webdriver\\remote\\webdriver.py:451: UserWarning: find_element_by_* commands are deprecated. Please use find_element() instead\n",
      "  warnings.warn(\"find_element_by_* commands are deprecated. Please use find_element() instead\")\n"
     ]
    }
   ],
   "source": [
    "search_button1=driver.find_element_by_xpath(\"//li[@class='a-last']\")\n",
    "search_button1.click()\n"
   ]
  },
  {
   "cell_type": "code",
   "execution_count": 70,
   "metadata": {},
   "outputs": [
    {
     "data": {
      "text/plain": [
       "[]"
      ]
     },
     "execution_count": 70,
     "metadata": {},
     "output_type": "execute_result"
    }
   ],
   "source": [
    "product_name1=[]\n",
    "bn_=driver.find_elements_by_xpath(\"//div[@class='a-section a-spacing-none a-spacing-top-small']/h2[1]/a[1]/span\")\n",
    "for i in bn_:\n",
    "    if len(i.text)==0 :\n",
    "        product_name1.append(\"--\") \n",
    "    else:\n",
    "        product_name1.append(i.text)\n",
    "    \n",
    "product_name1[0:2]"
   ]
  },
  {
   "cell_type": "code",
   "execution_count": 71,
   "metadata": {},
   "outputs": [
    {
     "data": {
      "text/plain": [
       "[]"
      ]
     },
     "execution_count": 71,
     "metadata": {},
     "output_type": "execute_result"
    }
   ],
   "source": [
    "brand1=[]\n",
    "bn2_=driver.find_elements_by_xpath(\"//div[@class='a-row a-size-base a-color-secondary']/h5[1]\")\n",
    "for i in bn2_:\n",
    "    if len(i.text)==0 :\n",
    "        brand1.append(\"---\") \n",
    "    else:\n",
    "        brand1.append(i.text)\n",
    "brand1[0:2]"
   ]
  },
  {
   "cell_type": "code",
   "execution_count": 72,
   "metadata": {},
   "outputs": [
    {
     "data": {
      "text/plain": [
       "[]"
      ]
     },
     "execution_count": 72,
     "metadata": {},
     "output_type": "execute_result"
    }
   ],
   "source": [
    "bn3_=driver.find_elements_by_xpath(\"//div[@class='a-row a-size-small']\")\n",
    "total_rating1=[]\n",
    "for i in bn3_:\n",
    "    if len(i.text)==0 :\n",
    "        total_rating1.append(\"---\") \n",
    "    else:\n",
    "        total_rating1.append(i.text)\n",
    "total_rating1[0:2]"
   ]
  },
  {
   "cell_type": "code",
   "execution_count": 73,
   "metadata": {},
   "outputs": [
    {
     "data": {
      "text/plain": [
       "[]"
      ]
     },
     "execution_count": 73,
     "metadata": {},
     "output_type": "execute_result"
    }
   ],
   "source": [
    "bn4_=driver.find_elements_by_xpath(\"//span[@class='a-price']\")\n",
    "price1=[]\n",
    "for i in bn4_:\n",
    "    if len(i.text)==0 :\n",
    "        price1.append(\"---\") \n",
    "    else:\n",
    "        price1.append(i.text)\n",
    "price1[0:2]"
   ]
  },
  {
   "cell_type": "code",
   "execution_count": 74,
   "metadata": {},
   "outputs": [],
   "source": [
    "bn5_=driver.find_elements_by_xpath(\"//div[@class='a-row s-align-children-center']\")\n",
    "Expected_delivery1=[]\n",
    "for i in bn5_:\n",
    "    if len(i.text)==0 :\n",
    "        Expected_delivery1.append(\"---\") \n",
    "    else:\n",
    "        Expected_delivery1.append(i.text)"
   ]
  },
  {
   "cell_type": "code",
   "execution_count": 75,
   "metadata": {},
   "outputs": [
    {
     "ename": "IndexError",
     "evalue": "list index out of range",
     "output_type": "error",
     "traceback": [
      "\u001b[1;31m---------------------------------------------------------------------------\u001b[0m",
      "\u001b[1;31mIndexError\u001b[0m                                Traceback (most recent call last)",
      "\u001b[1;32m<ipython-input-75-e5f77ebb2af3>\u001b[0m in \u001b[0;36m<module>\u001b[1;34m\u001b[0m\n\u001b[0;32m      2\u001b[0m \u001b[1;32mfor\u001b[0m \u001b[0mi\u001b[0m \u001b[1;32min\u001b[0m \u001b[0mrange\u001b[0m\u001b[1;33m(\u001b[0m\u001b[1;36m0\u001b[0m\u001b[1;33m,\u001b[0m\u001b[1;36m60\u001b[0m\u001b[1;33m)\u001b[0m\u001b[1;33m:\u001b[0m\u001b[1;33m\u001b[0m\u001b[1;33m\u001b[0m\u001b[0m\n\u001b[0;32m      3\u001b[0m     \u001b[0mbn1_\u001b[0m\u001b[1;33m=\u001b[0m\u001b[0mdriver\u001b[0m\u001b[1;33m.\u001b[0m\u001b[0mfind_elements_by_xpath\u001b[0m\u001b[1;33m(\u001b[0m\u001b[1;34m\"//h2[@class='a-size-mini a-spacing-none a-color-base s-line-clamp-2']\"\u001b[0m\u001b[1;33m)\u001b[0m\u001b[1;33m\u001b[0m\u001b[1;33m\u001b[0m\u001b[0m\n\u001b[1;32m----> 4\u001b[1;33m     \u001b[0mmm_\u001b[0m\u001b[1;33m=\u001b[0m\u001b[0mbn1_\u001b[0m\u001b[1;33m[\u001b[0m\u001b[0mi\u001b[0m\u001b[1;33m]\u001b[0m\u001b[1;33m\u001b[0m\u001b[1;33m\u001b[0m\u001b[0m\n\u001b[0m\u001b[0;32m      5\u001b[0m     \u001b[0mbn2_\u001b[0m\u001b[1;33m=\u001b[0m\u001b[0mmm_\u001b[0m\u001b[1;33m.\u001b[0m\u001b[0mfind_elements_by_tag_name\u001b[0m\u001b[1;33m(\u001b[0m\u001b[1;34m'a'\u001b[0m\u001b[1;33m)\u001b[0m\u001b[1;33m\u001b[0m\u001b[1;33m\u001b[0m\u001b[0m\n\u001b[0;32m      6\u001b[0m     \u001b[0mkkk_\u001b[0m\u001b[1;33m=\u001b[0m\u001b[0mbn2_\u001b[0m\u001b[1;33m[\u001b[0m\u001b[1;36m0\u001b[0m\u001b[1;33m]\u001b[0m\u001b[1;33m\u001b[0m\u001b[1;33m\u001b[0m\u001b[0m\n",
      "\u001b[1;31mIndexError\u001b[0m: list index out of range"
     ]
    }
   ],
   "source": [
    "product_url_=[]\n",
    "for i in range(0,60):\n",
    "    bn1_=driver.find_elements_by_xpath(\"//h2[@class='a-size-mini a-spacing-none a-color-base s-line-clamp-2']\")\n",
    "    mm_=bn1_[i]\n",
    "    bn2_=mm_.find_elements_by_tag_name('a')\n",
    "    kkk_=bn2_[0]\n",
    "    m_=kkk_.get_attribute(\"href\")\n",
    "    product_url_.append(m_)"
   ]
  },
  {
   "cell_type": "code",
   "execution_count": null,
   "metadata": {},
   "outputs": [],
   "source": [
    "search_button1=driver.find_element_by_xpath(\"//li[@class='a-last']\")\n",
    "search_button1.click()\n"
   ]
  },
  {
   "cell_type": "code",
   "execution_count": null,
   "metadata": {},
   "outputs": [],
   "source": [
    "brand__=[]\n",
    "bn2__=driver.find_elements_by_xpath(\"//div[@class='a-row a-size-base a-color-secondary']/h5[1]\")\n",
    "for i in bn2__:\n",
    "    if len(i.text)==0 :\n",
    "        brand__.append(\"---\") \n",
    "    else:\n",
    "        brand__.append(i.text)\n",
    "brand__[0:2]"
   ]
  },
  {
   "cell_type": "code",
   "execution_count": null,
   "metadata": {},
   "outputs": [],
   "source": [
    "product_name1_=[]\n",
    "bn10_=driver.find_elements_by_xpath(\"//div[@class='a-section a-spacing-none a-spacing-top-small']/h2[1]/a[1]/span\")\n",
    "for i in bn10_:\n",
    "    if len(i.text)==0 :\n",
    "        product_name1_.append(\"--\") \n",
    "    else:\n",
    "        product_name1_.append(i.text)\n",
    "    \n",
    "product_name1_[0:2]"
   ]
  },
  {
   "cell_type": "code",
   "execution_count": null,
   "metadata": {},
   "outputs": [],
   "source": [
    "bn3__=driver.find_elements_by_xpath(\"//div[@class='a-row a-size-small']\")\n",
    "total_rating__=[]\n",
    "for i in bn3__:\n",
    "    if len(i.text)==0 :\n",
    "        total_rating__.append(\"---\") \n",
    "    else:\n",
    "        total_rating__.append(i.text)\n",
    "total_rating__[0:2]"
   ]
  },
  {
   "cell_type": "code",
   "execution_count": null,
   "metadata": {},
   "outputs": [],
   "source": [
    "bn4__=driver.find_elements_by_xpath(\"//span[@class='a-price']\")\n",
    "price1_=[]\n",
    "for i in bn4__:\n",
    "    if len(i.text)==0 :\n",
    "        price1_.append(\"---\") \n",
    "    else:\n",
    "        price1_.append(i.text)\n",
    "price1_[0:2]"
   ]
  },
  {
   "cell_type": "code",
   "execution_count": null,
   "metadata": {},
   "outputs": [],
   "source": [
    "bn5__=driver.find_elements_by_xpath(\"//div[@class='a-row s-align-children-center']\")\n",
    "Expected_delivery1_=[]\n",
    "for i in bn5__:\n",
    "    if len(i.text)==0 :\n",
    "        Expected_delivery1_.append(\"---\") \n",
    "    else:\n",
    "        Expected_delivery1_.append(i.text)"
   ]
  },
  {
   "cell_type": "code",
   "execution_count": 76,
   "metadata": {},
   "outputs": [],
   "source": [
    "product_url__=[]\n",
    "for i in range(0,60):\n",
    "    bn1__=driver.find_elements_by_xpath(\"//h2[@class='a-size-mini a-spacing-none a-color-base s-line-clamp-2']\")\n",
    "    mm__=bn1__[i]\n",
    "    bn21__=mm__.find_elements_by_tag_name('a')\n",
    "    kkk__=bn21__[0]\n",
    "    m__=kkk__.get_attribute(\"href\")\n",
    "    product_url__.append(m__)"
   ]
  },
  {
   "cell_type": "code",
   "execution_count": 78,
   "metadata": {},
   "outputs": [],
   "source": [
    "data1=list(zip(brand,product_name,price,total_rating,Expected_delivery,product_url))"
   ]
  },
  {
   "cell_type": "code",
   "execution_count": 79,
   "metadata": {},
   "outputs": [],
   "source": [
    "data2=list(zip(brand1,product_name1,price1,total_rating1,Expected_delivery1,product_url_))"
   ]
  },
  {
   "cell_type": "code",
   "execution_count": 80,
   "metadata": {},
   "outputs": [],
   "source": [
    "data3=list(zip(brand__,product_name1_,price1_,total_rating__,Expected_delivery1_,product_url__))"
   ]
  },
  {
   "cell_type": "code",
   "execution_count": 82,
   "metadata": {},
   "outputs": [],
   "source": [
    "df1=pd.DataFrame(data1,columns=[\"Brand\",\"Product\",\"Price\",\"Total_Rating\",\"Delivery\",\"Product_url\"])"
   ]
  },
  {
   "cell_type": "code",
   "execution_count": 83,
   "metadata": {},
   "outputs": [],
   "source": [
    "df2=pd.DataFrame(data2,columns=[\"Brand\",\"Product\",\"Price\",\"Total_Rating\",\"Delivery\",\"Product_url\"])"
   ]
  },
  {
   "cell_type": "code",
   "execution_count": 84,
   "metadata": {},
   "outputs": [],
   "source": [
    "df3=pd.DataFrame(data3,columns=[\"Brand\",\"Product\",\"Price\",\"Total_Rating\",\"Delivery\",\"Product_url\"])"
   ]
  },
  {
   "cell_type": "code",
   "execution_count": 87,
   "metadata": {},
   "outputs": [],
   "source": [
    "frames = [df1, df2, df3]\n",
    "result = pd.concat(frames)"
   ]
  },
  {
   "cell_type": "code",
   "execution_count": 88,
   "metadata": {},
   "outputs": [
    {
     "data": {
      "text/html": [
       "<div>\n",
       "<style scoped>\n",
       "    .dataframe tbody tr th:only-of-type {\n",
       "        vertical-align: middle;\n",
       "    }\n",
       "\n",
       "    .dataframe tbody tr th {\n",
       "        vertical-align: top;\n",
       "    }\n",
       "\n",
       "    .dataframe thead th {\n",
       "        text-align: right;\n",
       "    }\n",
       "</style>\n",
       "<table border=\"1\" class=\"dataframe\">\n",
       "  <thead>\n",
       "    <tr style=\"text-align: right;\">\n",
       "      <th></th>\n",
       "      <th>Brand</th>\n",
       "      <th>Product</th>\n",
       "      <th>Price</th>\n",
       "      <th>Total_Rating</th>\n",
       "      <th>Delivery</th>\n",
       "      <th>Product_url</th>\n",
       "    </tr>\n",
       "  </thead>\n",
       "  <tbody>\n",
       "    <tr>\n",
       "      <th>0</th>\n",
       "      <td>Puma</td>\n",
       "      <td>Men's Rapid Runner IDP Sneakers</td>\n",
       "      <td>₹2,399</td>\n",
       "      <td>409</td>\n",
       "      <td>---</td>\n",
       "      <td>https://www.amazon.in/gp/slredirect/picassoRed...</td>\n",
       "    </tr>\n",
       "    <tr>\n",
       "      <th>1</th>\n",
       "      <td>Footrendz</td>\n",
       "      <td>Shoes Casual Shoe</td>\n",
       "      <td>₹599</td>\n",
       "      <td>1</td>\n",
       "      <td>---</td>\n",
       "      <td>https://www.amazon.in/gp/slredirect/picassoRed...</td>\n",
       "    </tr>\n",
       "    <tr>\n",
       "      <th>2</th>\n",
       "      <td>TRASE</td>\n",
       "      <td>Men's Running Shoe</td>\n",
       "      <td>₹499</td>\n",
       "      <td>3,055</td>\n",
       "      <td>---</td>\n",
       "      <td>https://www.amazon.in/gp/slredirect/picassoRed...</td>\n",
       "    </tr>\n",
       "    <tr>\n",
       "      <th>3</th>\n",
       "      <td>Kraasa</td>\n",
       "      <td>Running Shoes | Light Weight | for Women</td>\n",
       "      <td>₹539</td>\n",
       "      <td>343</td>\n",
       "      <td>---</td>\n",
       "      <td>https://www.amazon.in/gp/slredirect/picassoRed...</td>\n",
       "    </tr>\n",
       "    <tr>\n",
       "      <th>4</th>\n",
       "      <td>Bourge</td>\n",
       "      <td>Men's Loire-z52 Running Shoes</td>\n",
       "      <td>₹634</td>\n",
       "      <td>254</td>\n",
       "      <td>---</td>\n",
       "      <td>https://www.amazon.in/Bourge-Loire-88-Running-...</td>\n",
       "    </tr>\n",
       "    <tr>\n",
       "      <th>...</th>\n",
       "      <td>...</td>\n",
       "      <td>...</td>\n",
       "      <td>...</td>\n",
       "      <td>...</td>\n",
       "      <td>...</td>\n",
       "      <td>...</td>\n",
       "    </tr>\n",
       "    <tr>\n",
       "      <th>44</th>\n",
       "      <td>ASIAN</td>\n",
       "      <td>Men's Wonder-13 Turquoise Mesh Sports Running ...</td>\n",
       "      <td>₹474</td>\n",
       "      <td>87</td>\n",
       "      <td>---</td>\n",
       "      <td>https://www.amazon.in/Sparx-Mens-Running-Shoes...</td>\n",
       "    </tr>\n",
       "    <tr>\n",
       "      <th>45</th>\n",
       "      <td>ASIAN</td>\n",
       "      <td>Men's Running Shoe</td>\n",
       "      <td>₹664</td>\n",
       "      <td>472</td>\n",
       "      <td>---</td>\n",
       "      <td>https://www.amazon.in/Columbus-Mens-Navy-Sport...</td>\n",
       "    </tr>\n",
       "    <tr>\n",
       "      <th>46</th>\n",
       "      <td>Power</td>\n",
       "      <td>Men's Drift Iron Training Shoes</td>\n",
       "      <td>₹1,017</td>\n",
       "      <td>3</td>\n",
       "      <td>---</td>\n",
       "      <td>https://www.amazon.in/PUMA-Peacoat-White-Runni...</td>\n",
       "    </tr>\n",
       "    <tr>\n",
       "      <th>47</th>\n",
       "      <td>Nike</td>\n",
       "      <td>Men's Air Vapormax 2019 Running Shoes</td>\n",
       "      <td>₹8,956</td>\n",
       "      <td>147</td>\n",
       "      <td>---</td>\n",
       "      <td>https://www.amazon.in/ASIAN-Easywalk-08-Sneake...</td>\n",
       "    </tr>\n",
       "    <tr>\n",
       "      <th>48</th>\n",
       "      <td>Kraasa</td>\n",
       "      <td>Fortune-21 Sports Shoes for Men | Latest Styli...</td>\n",
       "      <td>₹536</td>\n",
       "      <td>1</td>\n",
       "      <td>---</td>\n",
       "      <td>https://www.amazon.in/Adidas-Grefiv-Running-Sh...</td>\n",
       "    </tr>\n",
       "  </tbody>\n",
       "</table>\n",
       "<p>98 rows × 6 columns</p>\n",
       "</div>"
      ],
      "text/plain": [
       "        Brand                                            Product   Price  \\\n",
       "0        Puma                    Men's Rapid Runner IDP Sneakers  ₹2,399   \n",
       "1   Footrendz                                  Shoes Casual Shoe    ₹599   \n",
       "2       TRASE                                 Men's Running Shoe    ₹499   \n",
       "3      Kraasa           Running Shoes | Light Weight | for Women    ₹539   \n",
       "4      Bourge                      Men's Loire-z52 Running Shoes    ₹634   \n",
       "..        ...                                                ...     ...   \n",
       "44      ASIAN  Men's Wonder-13 Turquoise Mesh Sports Running ...    ₹474   \n",
       "45      ASIAN                                 Men's Running Shoe    ₹664   \n",
       "46      Power                    Men's Drift Iron Training Shoes  ₹1,017   \n",
       "47       Nike              Men's Air Vapormax 2019 Running Shoes  ₹8,956   \n",
       "48     Kraasa  Fortune-21 Sports Shoes for Men | Latest Styli...    ₹536   \n",
       "\n",
       "   Total_Rating Delivery                                        Product_url  \n",
       "0           409      ---  https://www.amazon.in/gp/slredirect/picassoRed...  \n",
       "1             1      ---  https://www.amazon.in/gp/slredirect/picassoRed...  \n",
       "2         3,055      ---  https://www.amazon.in/gp/slredirect/picassoRed...  \n",
       "3           343      ---  https://www.amazon.in/gp/slredirect/picassoRed...  \n",
       "4           254      ---  https://www.amazon.in/Bourge-Loire-88-Running-...  \n",
       "..          ...      ...                                                ...  \n",
       "44           87      ---  https://www.amazon.in/Sparx-Mens-Running-Shoes...  \n",
       "45          472      ---  https://www.amazon.in/Columbus-Mens-Navy-Sport...  \n",
       "46            3      ---  https://www.amazon.in/PUMA-Peacoat-White-Runni...  \n",
       "47          147      ---  https://www.amazon.in/ASIAN-Easywalk-08-Sneake...  \n",
       "48            1      ---  https://www.amazon.in/Adidas-Grefiv-Running-Sh...  \n",
       "\n",
       "[98 rows x 6 columns]"
      ]
     },
     "execution_count": 88,
     "metadata": {},
     "output_type": "execute_result"
    }
   ],
   "source": [
    "result"
   ]
  },
  {
   "cell_type": "code",
   "execution_count": null,
   "metadata": {},
   "outputs": [],
   "source": []
  }
 ],
 "metadata": {
  "kernelspec": {
   "display_name": "Python 3",
   "language": "python",
   "name": "python3"
  },
  "language_info": {
   "codemirror_mode": {
    "name": "ipython",
    "version": 3
   },
   "file_extension": ".py",
   "mimetype": "text/x-python",
   "name": "python",
   "nbconvert_exporter": "python",
   "pygments_lexer": "ipython3",
   "version": "3.8.3"
  }
 },
 "nbformat": 4,
 "nbformat_minor": 4
}
