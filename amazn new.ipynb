{
 "cells": [
  {
   "cell_type": "code",
   "execution_count": 1,
   "metadata": {},
   "outputs": [],
   "source": [
    "import pandas as pd\n",
    "import selenium\n",
    "from selenium import webdriver\n",
    "from selenium.common.exceptions import StaleElementReferenceException, NoSuchElementException"
   ]
  },
  {
   "cell_type": "code",
   "execution_count": 2,
   "metadata": {},
   "outputs": [
    {
     "name": "stderr",
     "output_type": "stream",
     "text": [
      "<ipython-input-2-56a44a4849dd>:1: DeprecationWarning: executable_path has been deprecated, please pass in a Service object\n",
      "  driver=webdriver.Chrome(\"C:\\\\Users\\\\Preeti kumari\\\\chromedriver.exe\")\n"
     ]
    }
   ],
   "source": [
    "driver=webdriver.Chrome(\"C:\\\\Users\\\\Preeti kumari\\\\chromedriver.exe\")"
   ]
  },
  {
   "cell_type": "code",
   "execution_count": 3,
   "metadata": {},
   "outputs": [],
   "source": [
    "driver.get(\"https://www.amazon.in/\")\n"
   ]
  },
  {
   "cell_type": "code",
   "execution_count": 4,
   "metadata": {},
   "outputs": [
    {
     "name": "stderr",
     "output_type": "stream",
     "text": [
      "C:\\Users\\Preeti kumari\\anaconda3\\lib\\site-packages\\selenium\\webdriver\\remote\\webdriver.py:451: UserWarning: find_element_by_* commands are deprecated. Please use find_element() instead\n",
      "  warnings.warn(\"find_element_by_* commands are deprecated. Please use find_element() instead\")\n"
     ]
    }
   ],
   "source": [
    "search_field_designation=driver.find_element_by_xpath(\"//input[@id='twotabsearchtextbox']\")\n"
   ]
  },
  {
   "cell_type": "code",
   "execution_count": 5,
   "metadata": {},
   "outputs": [],
   "source": [
    "def input_sm():\n",
    "    data=input(\"what are you looking?\")\n",
    "    search_field_designation.send_keys(data)\n"
   ]
  },
  {
   "cell_type": "code",
   "execution_count": 6,
   "metadata": {},
   "outputs": [
    {
     "name": "stdout",
     "output_type": "stream",
     "text": [
      "what are you looking?shoes\n"
     ]
    }
   ],
   "source": [
    "input_sm()"
   ]
  },
  {
   "cell_type": "code",
   "execution_count": 7,
   "metadata": {},
   "outputs": [],
   "source": [
    "search_button=driver.find_element_by_xpath(\"//input[@id='nav-search-submit-button']\")\n",
    "search_button.click()\n"
   ]
  },
  {
   "cell_type": "code",
   "execution_count": 63,
   "metadata": {
    "scrolled": true
   },
   "outputs": [
    {
     "name": "stderr",
     "output_type": "stream",
     "text": [
      "C:\\Users\\Preeti kumari\\anaconda3\\lib\\site-packages\\selenium\\webdriver\\remote\\webdriver.py:470: UserWarning: find_elements_by_* commands are deprecated. Please use find_elements() instead\n",
      "  warnings.warn(\"find_elements_by_* commands are deprecated. Please use find_elements() instead\")\n"
     ]
    },
    {
     "data": {
      "text/plain": [
       "[\"Men's Rapid Runner IDP Sneakers\", 'Shoes Casual Shoe']"
      ]
     },
     "execution_count": 63,
     "metadata": {},
     "output_type": "execute_result"
    }
   ],
   "source": [
    "product_name=[]\n",
    "bn1=driver.find_elements_by_xpath(\"//div[@class='a-section a-spacing-none a-spacing-top-small']/h2[1]/a[1]/span\")\n",
    "for i in bn1:\n",
    "    if len(i.text)==0 :\n",
    "        product_name.append(\"--\") \n",
    "    else:\n",
    "        product_name.append(i.text)\n",
    "    \n",
    "product_name[0:2]"
   ]
  },
  {
   "cell_type": "code",
   "execution_count": 64,
   "metadata": {},
   "outputs": [
    {
     "data": {
      "text/plain": [
       "['Puma', 'Footrendz']"
      ]
     },
     "execution_count": 64,
     "metadata": {},
     "output_type": "execute_result"
    }
   ],
   "source": [
    "brand=[]\n",
    "bn2=driver.find_elements_by_xpath(\"//div[@class='a-row a-size-base a-color-secondary']/h5[1]\")\n",
    "for i in bn2:\n",
    "    if len(i.text)==0 :\n",
    "        brand.append(\"---\") \n",
    "    else:\n",
    "        brand.append(i.text)\n",
    "brand[0:2]"
   ]
  },
  {
   "cell_type": "code",
   "execution_count": 65,
   "metadata": {},
   "outputs": [
    {
     "data": {
      "text/plain": [
       "['409', '1']"
      ]
     },
     "execution_count": 65,
     "metadata": {},
     "output_type": "execute_result"
    }
   ],
   "source": [
    "bn3=driver.find_elements_by_xpath(\"//div[@class='a-row a-size-small']\")\n",
    "total_rating=[]\n",
    "for i in bn3:\n",
    "    if len(i.text)==0 :\n",
    "        total_rating.append(\"---\") \n",
    "    else:\n",
    "        total_rating.append(i.text)\n",
    "total_rating[0:2]"
   ]
  },
  {
   "cell_type": "code",
   "execution_count": 66,
   "metadata": {},
   "outputs": [
    {
     "data": {
      "text/plain": [
       "['₹2,399', '₹599']"
      ]
     },
     "execution_count": 66,
     "metadata": {},
     "output_type": "execute_result"
    }
   ],
   "source": [
    "bn4=driver.find_elements_by_xpath(\"//span[@class='a-price']\")\n",
    "price=[]\n",
    "for i in bn4:\n",
    "    if len(i.text)==0 :\n",
    "        price.append(\"---\") \n",
    "    else:\n",
    "        price.append(i.text)\n",
    "price[0:2]"
   ]
  },
  {
   "cell_type": "code",
   "execution_count": 67,
   "metadata": {
    "scrolled": false
   },
   "outputs": [],
   "source": [
    "bn5=driver.find_elements_by_xpath(\"//div[@class='a-row s-align-children-center']\")\n",
    "Expected_delivery=[]\n",
    "for i in bn5:\n",
    "    if len(i.text)==0 :\n",
    "        Expected_delivery.append(\"---\") \n",
    "    else:\n",
    "        Expected_delivery.append(i.text)\n"
   ]
  },
  {
   "cell_type": "code",
   "execution_count": 68,
   "metadata": {},
   "outputs": [
    {
     "name": "stderr",
     "output_type": "stream",
     "text": [
      "C:\\Users\\Preeti kumari\\anaconda3\\lib\\site-packages\\selenium\\webdriver\\remote\\webelement.py:365: UserWarning: find_elements_by_* commands are deprecated. Please use find_elements() instead\n",
      "  warnings.warn(\"find_elements_by_* commands are deprecated. Please use find_elements() instead\")\n"
     ]
    }
   ],
   "source": [
    "product_url=[]\n",
    "for i in range(0,60):\n",
    "    bn1=driver.find_elements_by_xpath(\"//h2[@class='a-size-mini a-spacing-none a-color-base s-line-clamp-2']\")\n",
    "    mm=bn1[i]\n",
    "    bn2=mm.find_elements_by_tag_name('a')\n",
    "    kkk=bn2[0]\n",
    "    m=kkk.get_attribute(\"href\")\n",
    "    product_url.append(m)"
   ]
  },
  {
   "cell_type": "code",
   "execution_count": 69,
   "metadata": {},
   "outputs": [
    {
     "name": "stderr",
     "output_type": "stream",
     "text": [
      "C:\\Users\\Preeti kumari\\anaconda3\\lib\\site-packages\\selenium\\webdriver\\remote\\webdriver.py:451: UserWarning: find_element_by_* commands are deprecated. Please use find_element() instead\n",
      "  warnings.warn(\"find_element_by_* commands are deprecated. Please use find_element() instead\")\n"
     ]
    }
   ],
   "source": [
    "search_button1=driver.find_element_by_xpath(\"//li[@class='a-last']\")\n",
    "search_button1.click()\n"
   ]
  },
  {
   "cell_type": "code",
   "execution_count": 70,
   "metadata": {},
   "outputs": [
    {
     "data": {
      "text/plain": [
       "[]"
      ]
     },
     "execution_count": 70,
     "metadata": {},
     "output_type": "execute_result"
    }
   ],
   "source": [
    "product_name1=[]\n",
    "bn_=driver.find_elements_by_xpath(\"//div[@class='a-section a-spacing-none a-spacing-top-small']/h2[1]/a[1]/span\")\n",
    "for i in bn_:\n",
    "    if len(i.text)==0 :\n",
    "        product_name1.append(\"--\") \n",
    "    else:\n",
    "        product_name1.append(i.text)\n",
    "    \n",
    "product_name1[0:2]"
   ]
  },
  {
   "cell_type": "code",
   "execution_count": 71,
   "metadata": {},
   "outputs": [
    {
     "data": {
      "text/plain": [
       "[]"
      ]
     },
     "execution_count": 71,
     "metadata": {},
     "output_type": "execute_result"
    }
   ],
   "source": [
    "brand1=[]\n",
    "bn2_=driver.find_elements_by_xpath(\"//div[@class='a-row a-size-base a-color-secondary']/h5[1]\")\n",
    "for i in bn2_:\n",
    "    if len(i.text)==0 :\n",
    "        brand1.append(\"---\") \n",
    "    else:\n",
    "        brand1.append(i.text)\n",
    "brand1[0:2]"
   ]
  },
  {
   "cell_type": "code",
   "execution_count": 72,
   "metadata": {},
   "outputs": [
    {
     "data": {
      "text/plain": [
       "[]"
      ]
     },
     "execution_count": 72,
     "metadata": {},
     "output_type": "execute_result"
    }
   ],
   "source": [
    "bn3_=driver.find_elements_by_xpath(\"//div[@class='a-row a-size-small']\")\n",
    "total_rating1=[]\n",
    "for i in bn3_:\n",
    "    if len(i.text)==0 :\n",
    "        total_rating1.append(\"---\") \n",
    "    else:\n",
    "        total_rating1.append(i.text)\n",
    "total_rating1[0:2]"
   ]
  },
  {
   "cell_type": "code",
   "execution_count": 73,
   "metadata": {},
   "outputs": [
    {
     "data": {
      "text/plain": [
       "[]"
      ]
     },
     "execution_count": 73,
     "metadata": {},
     "output_type": "execute_result"
    }
   ],
   "source": [
    "bn4_=driver.find_elements_by_xpath(\"//span[@class='a-price']\")\n",
    "price1=[]\n",
    "for i in bn4_:\n",
    "    if len(i.text)==0 :\n",
    "        price1.append(\"---\") \n",
    "    else:\n",
    "        price1.append(i.text)\n",
    "price1[0:2]"
   ]
  },
  {
   "cell_type": "code",
   "execution_count": 74,
   "metadata": {},
   "outputs": [],
   "source": [
    "bn5_=driver.find_elements_by_xpath(\"//div[@class='a-row s-align-children-center']\")\n",
    "Expected_delivery1=[]\n",
    "for i in bn5_:\n",
    "    if len(i.text)==0 :\n",
    "        Expected_delivery1.append(\"---\") \n",
    "    else:\n",
    "        Expected_delivery1.append(i.text)"
   ]
  },
  {
   "cell_type": "code",
   "execution_count": 75,
   "metadata": {},
   "outputs": [
    {
     "ename": "IndexError",
     "evalue": "list index out of range",
     "output_type": "error",
     "traceback": [
      "\u001b[1;31m---------------------------------------------------------------------------\u001b[0m",
      "\u001b[1;31mIndexError\u001b[0m                                Traceback (most recent call last)",
      "\u001b[1;32m<ipython-input-75-e5f77ebb2af3>\u001b[0m in \u001b[0;36m<module>\u001b[1;34m\u001b[0m\n\u001b[0;32m      2\u001b[0m \u001b[1;32mfor\u001b[0m \u001b[0mi\u001b[0m \u001b[1;32min\u001b[0m \u001b[0mrange\u001b[0m\u001b[1;33m(\u001b[0m\u001b[1;36m0\u001b[0m\u001b[1;33m,\u001b[0m\u001b[1;36m60\u001b[0m\u001b[1;33m)\u001b[0m\u001b[1;33m:\u001b[0m\u001b[1;33m\u001b[0m\u001b[1;33m\u001b[0m\u001b[0m\n\u001b[0;32m      3\u001b[0m     \u001b[0mbn1_\u001b[0m\u001b[1;33m=\u001b[0m\u001b[0mdriver\u001b[0m\u001b[1;33m.\u001b[0m\u001b[0mfind_elements_by_xpath\u001b[0m\u001b[1;33m(\u001b[0m\u001b[1;34m\"//h2[@class='a-size-mini a-spacing-none a-color-base s-line-clamp-2']\"\u001b[0m\u001b[1;33m)\u001b[0m\u001b[1;33m\u001b[0m\u001b[1;33m\u001b[0m\u001b[0m\n\u001b[1;32m----> 4\u001b[1;33m     \u001b[0mmm_\u001b[0m\u001b[1;33m=\u001b[0m\u001b[0mbn1_\u001b[0m\u001b[1;33m[\u001b[0m\u001b[0mi\u001b[0m\u001b[1;33m]\u001b[0m\u001b[1;33m\u001b[0m\u001b[1;33m\u001b[0m\u001b[0m\n\u001b[0m\u001b[0;32m      5\u001b[0m     \u001b[0mbn2_\u001b[0m\u001b[1;33m=\u001b[0m\u001b[0mmm_\u001b[0m\u001b[1;33m.\u001b[0m\u001b[0mfind_elements_by_tag_name\u001b[0m\u001b[1;33m(\u001b[0m\u001b[1;34m'a'\u001b[0m\u001b[1;33m)\u001b[0m\u001b[1;33m\u001b[0m\u001b[1;33m\u001b[0m\u001b[0m\n\u001b[0;32m      6\u001b[0m     \u001b[0mkkk_\u001b[0m\u001b[1;33m=\u001b[0m\u001b[0mbn2_\u001b[0m\u001b[1;33m[\u001b[0m\u001b[1;36m0\u001b[0m\u001b[1;33m]\u001b[0m\u001b[1;33m\u001b[0m\u001b[1;33m\u001b[0m\u001b[0m\n",
      "\u001b[1;31mIndexError\u001b[0m: list index out of range"
     ]
    }
   ],
   "source": [
    "product_url_=[]\n",
    "for i in range(0,60):\n",
    "    bn1_=driver.find_elements_by_xpath(\"//h2[@class='a-size-mini a-spacing-none a-color-base s-line-clamp-2']\")\n",
    "    mm_=bn1_[i]\n",
    "    bn2_=mm_.find_elements_by_tag_name('a')\n",
    "    kkk_=bn2_[0]\n",
    "    m_=kkk_.get_attribute(\"href\")\n",
    "    product_url_.append(m_)"
   ]
  },
  {
   "cell_type": "code",
   "execution_count": null,
   "metadata": {},
   "outputs": [],
   "source": [
    "search_button1=driver.find_element_by_xpath(\"//li[@class='a-last']\")\n",
    "search_button1.click()\n"
   ]
  },
  {
   "cell_type": "code",
   "execution_count": null,
   "metadata": {},
   "outputs": [],
   "source": [
    "brand__=[]\n",
    "bn2__=driver.find_elements_by_xpath(\"//div[@class='a-row a-size-base a-color-secondary']/h5[1]\")\n",
    "for i in bn2__:\n",
    "    if len(i.text)==0 :\n",
    "        brand__.append(\"---\") \n",
    "    else:\n",
    "        brand__.append(i.text)\n",
    "brand__[0:2]"
   ]
  },
  {
   "cell_type": "code",
   "execution_count": null,
   "metadata": {},
   "outputs": [],
   "source": [
    "product_name1_=[]\n",
    "bn10_=driver.find_elements_by_xpath(\"//div[@class='a-section a-spacing-none a-spacing-top-small']/h2[1]/a[1]/span\")\n",
    "for i in bn10_:\n",
    "    if len(i.text)==0 :\n",
    "        product_name1_.append(\"--\") \n",
    "    else:\n",
    "        product_name1_.append(i.text)\n",
    "    \n",
    "product_name1_[0:2]"
   ]
  },
  {
   "cell_type": "code",
   "execution_count": null,
   "metadata": {},
   "outputs": [],
   "source": [
    "bn3__=driver.find_elements_by_xpath(\"//div[@class='a-row a-size-small']\")\n",
    "total_rating__=[]\n",
    "for i in bn3__:\n",
    "    if len(i.text)==0 :\n",
    "        total_rating__.append(\"---\") \n",
    "    else:\n",
    "        total_rating__.append(i.text)\n",
    "total_rating__[0:2]"
   ]
  },
  {
   "cell_type": "code",
   "execution_count": null,
   "metadata": {},
   "outputs": [],
   "source": [
    "bn4__=driver.find_elements_by_xpath(\"//span[@class='a-price']\")\n",
    "price1_=[]\n",
    "for i in bn4__:\n",
    "    if len(i.text)==0 :\n",
    "        price1_.append(\"---\") \n",
    "    else:\n",
    "        price1_.append(i.text)\n",
    "price1_[0:2]"
   ]
  },
  {
   "cell_type": "code",
   "execution_count": null,
   "metadata": {},
   "outputs": [],
   "source": [
    "bn5__=driver.find_elements_by_xpath(\"//div[@class='a-row s-align-children-center']\")\n",
    "Expected_delivery1_=[]\n",
    "for i in bn5__:\n",
    "    if len(i.text)==0 :\n",
    "        Expected_delivery1_.append(\"---\") \n",
    "    else:\n",
    "        Expected_delivery1_.append(i.text)"
   ]
  },
  {
   "cell_type": "code",
   "execution_count": 76,
   "metadata": {},
   "outputs": [],
   "source": [
    "product_url__=[]\n",
    "for i in range(0,60):\n",
    "    bn1__=driver.find_elements_by_xpath(\"//h2[@class='a-size-mini a-spacing-none a-color-base s-line-clamp-2']\")\n",
    "    mm__=bn1__[i]\n",
    "    bn21__=mm__.find_elements_by_tag_name('a')\n",
    "    kkk__=bn21__[0]\n",
    "    m__=kkk__.get_attribute(\"href\")\n",
    "    product_url__.append(m__)"
   ]
  },
  {
   "cell_type": "code",
   "execution_count": 78,
   "metadata": {},
   "outputs": [],
   "source": [
    "data1=list(zip(brand,product_name,price,total_rating,Expected_delivery,product_url))"
   ]
  },
  {
   "cell_type": "code",
   "execution_count": 79,
   "metadata": {},
   "outputs": [],
   "source": [
    "data2=list(zip(brand1,product_name1,price1,total_rating1,Expected_delivery1,product_url_))"
   ]
  },
  {
   "cell_type": "code",
   "execution_count": 80,
   "metadata": {},
   "outputs": [],
   "source": [
    "data3=list(zip(brand__,product_name1_,price1_,total_rating__,Expected_delivery1_,product_url__))"
   ]
  },
  {
   "cell_type": "code",
   "execution_count": 82,
   "metadata": {},
   "outputs": [],
   "source": [
    "df1=pd.DataFrame(data1,columns=[\"Brand\",\"Product\",\"Price\",\"Total_Rating\",\"Delivery\",\"Product_url\"])"
   ]
  },
  {
   "cell_type": "code",
   "execution_count": 83,
   "metadata": {},
   "outputs": [],
   "source": [
    "df2=pd.DataFrame(data2,columns=[\"Brand\",\"Product\",\"Price\",\"Total_Rating\",\"Delivery\",\"Product_url\"])"
   ]
  },
  {
   "cell_type": "code",
   "execution_count": 84,
   "metadata": {},
   "outputs": [],
   "source": [
    "df3=pd.DataFrame(data3,columns=[\"Brand\",\"Product\",\"Price\",\"Total_Rating\",\"Delivery\",\"Product_url\"])"
   ]
  },
  {
   "cell_type": "code",
   "execution_count": 87,
   "metadata": {},
   "outputs": [],
   "source": [
    "frames = [df1, df2, df3]\n",
    "result = pd.concat(frames)"
   ]
  },
  {
   "cell_type": "code",
   "execution_count": 88,
   "metadata": {},
   "outputs": [
    {
     "data": {
      "text/html": [
       "<div>\n",
       "<style scoped>\n",
       "    .dataframe tbody tr th:only-of-type {\n",
       "        vertical-align: middle;\n",
       "    }\n",
       "\n",
       "    .dataframe tbody tr th {\n",
       "        vertical-align: top;\n",
       "    }\n",
       "\n",
       "    .dataframe thead th {\n",
       "        text-align: right;\n",
       "    }\n",
       "</style>\n",
       "<table border=\"1\" class=\"dataframe\">\n",
       "  <thead>\n",
       "    <tr style=\"text-align: right;\">\n",
       "      <th></th>\n",
       "      <th>Brand</th>\n",
       "      <th>Product</th>\n",
       "      <th>Price</th>\n",
       "      <th>Total_Rating</th>\n",
       "      <th>Delivery</th>\n",
       "      <th>Product_url</th>\n",
       "    </tr>\n",
       "  </thead>\n",
       "  <tbody>\n",
       "    <tr>\n",
       "      <th>0</th>\n",
       "      <td>Puma</td>\n",
       "      <td>Men's Rapid Runner IDP Sneakers</td>\n",
       "      <td>₹2,399</td>\n",
       "      <td>409</td>\n",
       "      <td>---</td>\n",
       "      <td>https://www.amazon.in/gp/slredirect/picassoRed...</td>\n",
       "    </tr>\n",
       "    <tr>\n",
       "      <th>1</th>\n",
       "      <td>Footrendz</td>\n",
       "      <td>Shoes Casual Shoe</td>\n",
       "      <td>₹599</td>\n",
       "      <td>1</td>\n",
       "      <td>---</td>\n",
       "      <td>https://www.amazon.in/gp/slredirect/picassoRed...</td>\n",
       "    </tr>\n",
       "    <tr>\n",
       "      <th>2</th>\n",
       "      <td>TRASE</td>\n",
       "      <td>Men's Running Shoe</td>\n",
       "      <td>₹499</td>\n",
       "      <td>3,055</td>\n",
       "      <td>---</td>\n",
       "      <td>https://www.amazon.in/gp/slredirect/picassoRed...</td>\n",
       "    </tr>\n",
       "    <tr>\n",
       "      <th>3</th>\n",
       "      <td>Kraasa</td>\n",
       "      <td>Running Shoes | Light Weight | for Women</td>\n",
       "      <td>₹539</td>\n",
       "      <td>343</td>\n",
       "      <td>---</td>\n",
       "      <td>https://www.amazon.in/gp/slredirect/picassoRed...</td>\n",
       "    </tr>\n",
       "    <tr>\n",
       "      <th>4</th>\n",
       "      <td>Bourge</td>\n",
       "      <td>Men's Loire-z52 Running Shoes</td>\n",
       "      <td>₹634</td>\n",
       "      <td>254</td>\n",
       "      <td>---</td>\n",
       "      <td>https://www.amazon.in/Bourge-Loire-88-Running-...</td>\n",
       "    </tr>\n",
       "    <tr>\n",
       "      <th>...</th>\n",
       "      <td>...</td>\n",
       "      <td>...</td>\n",
       "      <td>...</td>\n",
       "      <td>...</td>\n",
       "      <td>...</td>\n",
       "      <td>...</td>\n",
       "    </tr>\n",
       "    <tr>\n",
       "      <th>44</th>\n",
       "      <td>ASIAN</td>\n",
       "      <td>Men's Wonder-13 Turquoise Mesh Sports Running ...</td>\n",
       "      <td>₹474</td>\n",
       "      <td>87</td>\n",
       "      <td>---</td>\n",
       "      <td>https://www.amazon.in/Sparx-Mens-Running-Shoes...</td>\n",
       "    </tr>\n",
       "    <tr>\n",
       "      <th>45</th>\n",
       "      <td>ASIAN</td>\n",
       "      <td>Men's Running Shoe</td>\n",
       "      <td>₹664</td>\n",
       "      <td>472</td>\n",
       "      <td>---</td>\n",
       "      <td>https://www.amazon.in/Columbus-Mens-Navy-Sport...</td>\n",
       "    </tr>\n",
       "    <tr>\n",
       "      <th>46</th>\n",
       "      <td>Power</td>\n",
       "      <td>Men's Drift Iron Training Shoes</td>\n",
       "      <td>₹1,017</td>\n",
       "      <td>3</td>\n",
       "      <td>---</td>\n",
       "      <td>https://www.amazon.in/PUMA-Peacoat-White-Runni...</td>\n",
       "    </tr>\n",
       "    <tr>\n",
       "      <th>47</th>\n",
       "      <td>Nike</td>\n",
       "      <td>Men's Air Vapormax 2019 Running Shoes</td>\n",
       "      <td>₹8,956</td>\n",
       "      <td>147</td>\n",
       "      <td>---</td>\n",
       "      <td>https://www.amazon.in/ASIAN-Easywalk-08-Sneake...</td>\n",
       "    </tr>\n",
       "    <tr>\n",
       "      <th>48</th>\n",
       "      <td>Kraasa</td>\n",
       "      <td>Fortune-21 Sports Shoes for Men | Latest Styli...</td>\n",
       "      <td>₹536</td>\n",
       "      <td>1</td>\n",
       "      <td>---</td>\n",
       "      <td>https://www.amazon.in/Adidas-Grefiv-Running-Sh...</td>\n",
       "    </tr>\n",
       "  </tbody>\n",
       "</table>\n",
       "<p>98 rows × 6 columns</p>\n",
       "</div>"
      ],
      "text/plain": [
       "        Brand                                            Product   Price  \\\n",
       "0        Puma                    Men's Rapid Runner IDP Sneakers  ₹2,399   \n",
       "1   Footrendz                                  Shoes Casual Shoe    ₹599   \n",
       "2       TRASE                                 Men's Running Shoe    ₹499   \n",
       "3      Kraasa           Running Shoes | Light Weight | for Women    ₹539   \n",
       "4      Bourge                      Men's Loire-z52 Running Shoes    ₹634   \n",
       "..        ...                                                ...     ...   \n",
       "44      ASIAN  Men's Wonder-13 Turquoise Mesh Sports Running ...    ₹474   \n",
       "45      ASIAN                                 Men's Running Shoe    ₹664   \n",
       "46      Power                    Men's Drift Iron Training Shoes  ₹1,017   \n",
       "47       Nike              Men's Air Vapormax 2019 Running Shoes  ₹8,956   \n",
       "48     Kraasa  Fortune-21 Sports Shoes for Men | Latest Styli...    ₹536   \n",
       "\n",
       "   Total_Rating Delivery                                        Product_url  \n",
       "0           409      ---  https://www.amazon.in/gp/slredirect/picassoRed...  \n",
       "1             1      ---  https://www.amazon.in/gp/slredirect/picassoRed...  \n",
       "2         3,055      ---  https://www.amazon.in/gp/slredirect/picassoRed...  \n",
       "3           343      ---  https://www.amazon.in/gp/slredirect/picassoRed...  \n",
       "4           254      ---  https://www.amazon.in/Bourge-Loire-88-Running-...  \n",
       "..          ...      ...                                                ...  \n",
       "44           87      ---  https://www.amazon.in/Sparx-Mens-Running-Shoes...  \n",
       "45          472      ---  https://www.amazon.in/Columbus-Mens-Navy-Sport...  \n",
       "46            3      ---  https://www.amazon.in/PUMA-Peacoat-White-Runni...  \n",
       "47          147      ---  https://www.amazon.in/ASIAN-Easywalk-08-Sneake...  \n",
       "48            1      ---  https://www.amazon.in/Adidas-Grefiv-Running-Sh...  \n",
       "\n",
       "[98 rows x 6 columns]"
      ]
     },
     "execution_count": 88,
     "metadata": {},
     "output_type": "execute_result"
    }
   ],
   "source": [
    "result"
   ]
  },
  {
   "cell_type": "markdown",
   "metadata": {},
   "source": [
    "brand=list(zip(brand,brand1,brand__))\n",
    "produc=list(zip(product_name,product_name1,product_name1_))\n",
    "price=list(zip(price,price1,price1_))\n",
    "total_rating=list(zip(total_rating,total_rating1,total_rating__))\n",
    "delivery=list(zip(Expected_delivery,Expected_delivery1,Expected_delivery1_))\n",
    "product_url=list(zip(product_url,product_url_,product_url__))"
   ]
  },
  {
   "cell_type": "code",
   "execution_count": 59,
   "metadata": {},
   "outputs": [],
   "source": [
    "data=list(zip(brand,produc,price,total_rating,delivery,product_url))"
   ]
  },
  {
   "cell_type": "code",
   "execution_count": 81,
   "metadata": {},
   "outputs": [
    {
     "ename": "ValueError",
     "evalue": "6 columns passed, passed data had 49 columns",
     "output_type": "error",
     "traceback": [
      "\u001b[1;31m---------------------------------------------------------------------------\u001b[0m",
      "\u001b[1;31mAssertionError\u001b[0m                            Traceback (most recent call last)",
      "\u001b[1;32m~\\anaconda3\\lib\\site-packages\\pandas\\core\\internals\\construction.py\u001b[0m in \u001b[0;36m_list_to_arrays\u001b[1;34m(data, columns, coerce_float, dtype)\u001b[0m\n\u001b[0;32m    495\u001b[0m     \u001b[1;32mtry\u001b[0m\u001b[1;33m:\u001b[0m\u001b[1;33m\u001b[0m\u001b[1;33m\u001b[0m\u001b[0m\n\u001b[1;32m--> 496\u001b[1;33m         result = _convert_object_array(\n\u001b[0m\u001b[0;32m    497\u001b[0m             \u001b[0mcontent\u001b[0m\u001b[1;33m,\u001b[0m \u001b[0mcolumns\u001b[0m\u001b[1;33m,\u001b[0m \u001b[0mdtype\u001b[0m\u001b[1;33m=\u001b[0m\u001b[0mdtype\u001b[0m\u001b[1;33m,\u001b[0m \u001b[0mcoerce_float\u001b[0m\u001b[1;33m=\u001b[0m\u001b[0mcoerce_float\u001b[0m\u001b[1;33m\u001b[0m\u001b[1;33m\u001b[0m\u001b[0m\n",
      "\u001b[1;32m~\\anaconda3\\lib\\site-packages\\pandas\\core\\internals\\construction.py\u001b[0m in \u001b[0;36m_convert_object_array\u001b[1;34m(content, columns, coerce_float, dtype)\u001b[0m\n\u001b[0;32m    579\u001b[0m             \u001b[1;31m# caller's responsibility to check for this...\u001b[0m\u001b[1;33m\u001b[0m\u001b[1;33m\u001b[0m\u001b[1;33m\u001b[0m\u001b[0m\n\u001b[1;32m--> 580\u001b[1;33m             raise AssertionError(\n\u001b[0m\u001b[0;32m    581\u001b[0m                 \u001b[1;34mf\"{len(columns)} columns passed, passed data had \"\u001b[0m\u001b[1;33m\u001b[0m\u001b[1;33m\u001b[0m\u001b[0m\n",
      "\u001b[1;31mAssertionError\u001b[0m: 6 columns passed, passed data had 49 columns",
      "\nThe above exception was the direct cause of the following exception:\n",
      "\u001b[1;31mValueError\u001b[0m                                Traceback (most recent call last)",
      "\u001b[1;32m<ipython-input-81-421b7fdfb27b>\u001b[0m in \u001b[0;36m<module>\u001b[1;34m\u001b[0m\n\u001b[1;32m----> 1\u001b[1;33m \u001b[0mdf1\u001b[0m\u001b[1;33m=\u001b[0m\u001b[0mpd\u001b[0m\u001b[1;33m.\u001b[0m\u001b[0mDataFrame\u001b[0m\u001b[1;33m(\u001b[0m\u001b[1;33m[\u001b[0m\u001b[0mdata1\u001b[0m\u001b[1;33m,\u001b[0m\u001b[0mdata2\u001b[0m\u001b[1;33m,\u001b[0m\u001b[0mdata3\u001b[0m\u001b[1;33m]\u001b[0m\u001b[1;33m,\u001b[0m\u001b[0mcolumns\u001b[0m\u001b[1;33m=\u001b[0m\u001b[1;33m[\u001b[0m\u001b[1;34m\"Brand\"\u001b[0m\u001b[1;33m,\u001b[0m\u001b[1;34m\"Product\"\u001b[0m\u001b[1;33m,\u001b[0m\u001b[1;34m\"Price\"\u001b[0m\u001b[1;33m,\u001b[0m\u001b[1;34m\"Total_Rating\"\u001b[0m\u001b[1;33m,\u001b[0m\u001b[1;34m\"Delivery\"\u001b[0m\u001b[1;33m,\u001b[0m\u001b[1;34m\"Product_url\"\u001b[0m\u001b[1;33m]\u001b[0m\u001b[1;33m)\u001b[0m\u001b[1;33m\u001b[0m\u001b[1;33m\u001b[0m\u001b[0m\n\u001b[0m",
      "\u001b[1;32m~\\anaconda3\\lib\\site-packages\\pandas\\core\\frame.py\u001b[0m in \u001b[0;36m__init__\u001b[1;34m(self, data, index, columns, dtype, copy)\u001b[0m\n\u001b[0;32m    472\u001b[0m                     \u001b[1;32mif\u001b[0m \u001b[0mis_named_tuple\u001b[0m\u001b[1;33m(\u001b[0m\u001b[0mdata\u001b[0m\u001b[1;33m[\u001b[0m\u001b[1;36m0\u001b[0m\u001b[1;33m]\u001b[0m\u001b[1;33m)\u001b[0m \u001b[1;32mand\u001b[0m \u001b[0mcolumns\u001b[0m \u001b[1;32mis\u001b[0m \u001b[1;32mNone\u001b[0m\u001b[1;33m:\u001b[0m\u001b[1;33m\u001b[0m\u001b[1;33m\u001b[0m\u001b[0m\n\u001b[0;32m    473\u001b[0m                         \u001b[0mcolumns\u001b[0m \u001b[1;33m=\u001b[0m \u001b[0mdata\u001b[0m\u001b[1;33m[\u001b[0m\u001b[1;36m0\u001b[0m\u001b[1;33m]\u001b[0m\u001b[1;33m.\u001b[0m\u001b[0m_fields\u001b[0m\u001b[1;33m\u001b[0m\u001b[1;33m\u001b[0m\u001b[0m\n\u001b[1;32m--> 474\u001b[1;33m                     \u001b[0marrays\u001b[0m\u001b[1;33m,\u001b[0m \u001b[0mcolumns\u001b[0m \u001b[1;33m=\u001b[0m \u001b[0mto_arrays\u001b[0m\u001b[1;33m(\u001b[0m\u001b[0mdata\u001b[0m\u001b[1;33m,\u001b[0m \u001b[0mcolumns\u001b[0m\u001b[1;33m,\u001b[0m \u001b[0mdtype\u001b[0m\u001b[1;33m=\u001b[0m\u001b[0mdtype\u001b[0m\u001b[1;33m)\u001b[0m\u001b[1;33m\u001b[0m\u001b[1;33m\u001b[0m\u001b[0m\n\u001b[0m\u001b[0;32m    475\u001b[0m                     \u001b[0mcolumns\u001b[0m \u001b[1;33m=\u001b[0m \u001b[0mensure_index\u001b[0m\u001b[1;33m(\u001b[0m\u001b[0mcolumns\u001b[0m\u001b[1;33m)\u001b[0m\u001b[1;33m\u001b[0m\u001b[1;33m\u001b[0m\u001b[0m\n\u001b[0;32m    476\u001b[0m \u001b[1;33m\u001b[0m\u001b[0m\n",
      "\u001b[1;32m~\\anaconda3\\lib\\site-packages\\pandas\\core\\internals\\construction.py\u001b[0m in \u001b[0;36mto_arrays\u001b[1;34m(data, columns, coerce_float, dtype)\u001b[0m\n\u001b[0;32m    459\u001b[0m         \u001b[1;32mreturn\u001b[0m \u001b[1;33m[\u001b[0m\u001b[1;33m]\u001b[0m\u001b[1;33m,\u001b[0m \u001b[1;33m[\u001b[0m\u001b[1;33m]\u001b[0m  \u001b[1;31m# columns if columns is not None else []\u001b[0m\u001b[1;33m\u001b[0m\u001b[1;33m\u001b[0m\u001b[0m\n\u001b[0;32m    460\u001b[0m     \u001b[1;32mif\u001b[0m \u001b[0misinstance\u001b[0m\u001b[1;33m(\u001b[0m\u001b[0mdata\u001b[0m\u001b[1;33m[\u001b[0m\u001b[1;36m0\u001b[0m\u001b[1;33m]\u001b[0m\u001b[1;33m,\u001b[0m \u001b[1;33m(\u001b[0m\u001b[0mlist\u001b[0m\u001b[1;33m,\u001b[0m \u001b[0mtuple\u001b[0m\u001b[1;33m)\u001b[0m\u001b[1;33m)\u001b[0m\u001b[1;33m:\u001b[0m\u001b[1;33m\u001b[0m\u001b[1;33m\u001b[0m\u001b[0m\n\u001b[1;32m--> 461\u001b[1;33m         \u001b[1;32mreturn\u001b[0m \u001b[0m_list_to_arrays\u001b[0m\u001b[1;33m(\u001b[0m\u001b[0mdata\u001b[0m\u001b[1;33m,\u001b[0m \u001b[0mcolumns\u001b[0m\u001b[1;33m,\u001b[0m \u001b[0mcoerce_float\u001b[0m\u001b[1;33m=\u001b[0m\u001b[0mcoerce_float\u001b[0m\u001b[1;33m,\u001b[0m \u001b[0mdtype\u001b[0m\u001b[1;33m=\u001b[0m\u001b[0mdtype\u001b[0m\u001b[1;33m)\u001b[0m\u001b[1;33m\u001b[0m\u001b[1;33m\u001b[0m\u001b[0m\n\u001b[0m\u001b[0;32m    462\u001b[0m     \u001b[1;32melif\u001b[0m \u001b[0misinstance\u001b[0m\u001b[1;33m(\u001b[0m\u001b[0mdata\u001b[0m\u001b[1;33m[\u001b[0m\u001b[1;36m0\u001b[0m\u001b[1;33m]\u001b[0m\u001b[1;33m,\u001b[0m \u001b[0mabc\u001b[0m\u001b[1;33m.\u001b[0m\u001b[0mMapping\u001b[0m\u001b[1;33m)\u001b[0m\u001b[1;33m:\u001b[0m\u001b[1;33m\u001b[0m\u001b[1;33m\u001b[0m\u001b[0m\n\u001b[0;32m    463\u001b[0m         return _list_of_dict_to_arrays(\n",
      "\u001b[1;32m~\\anaconda3\\lib\\site-packages\\pandas\\core\\internals\\construction.py\u001b[0m in \u001b[0;36m_list_to_arrays\u001b[1;34m(data, columns, coerce_float, dtype)\u001b[0m\n\u001b[0;32m    498\u001b[0m         )\n\u001b[0;32m    499\u001b[0m     \u001b[1;32mexcept\u001b[0m \u001b[0mAssertionError\u001b[0m \u001b[1;32mas\u001b[0m \u001b[0me\u001b[0m\u001b[1;33m:\u001b[0m\u001b[1;33m\u001b[0m\u001b[1;33m\u001b[0m\u001b[0m\n\u001b[1;32m--> 500\u001b[1;33m         \u001b[1;32mraise\u001b[0m \u001b[0mValueError\u001b[0m\u001b[1;33m(\u001b[0m\u001b[0me\u001b[0m\u001b[1;33m)\u001b[0m \u001b[1;32mfrom\u001b[0m \u001b[0me\u001b[0m\u001b[1;33m\u001b[0m\u001b[1;33m\u001b[0m\u001b[0m\n\u001b[0m\u001b[0;32m    501\u001b[0m     \u001b[1;32mreturn\u001b[0m \u001b[0mresult\u001b[0m\u001b[1;33m\u001b[0m\u001b[1;33m\u001b[0m\u001b[0m\n\u001b[0;32m    502\u001b[0m \u001b[1;33m\u001b[0m\u001b[0m\n",
      "\u001b[1;31mValueError\u001b[0m: 6 columns passed, passed data had 49 columns"
     ]
    }
   ],
   "source": [
    "df=pd.DataFrame(data,columns=[\"Brand\",\"Product\",\"Price\",\"Total_Rating\",\"Delivery\",\"Product_url\"])"
   ]
  },
  {
   "cell_type": "code",
   "execution_count": 62,
   "metadata": {},
   "outputs": [
    {
     "data": {
      "text/html": [
       "<div>\n",
       "<style scoped>\n",
       "    .dataframe tbody tr th:only-of-type {\n",
       "        vertical-align: middle;\n",
       "    }\n",
       "\n",
       "    .dataframe tbody tr th {\n",
       "        vertical-align: top;\n",
       "    }\n",
       "\n",
       "    .dataframe thead th {\n",
       "        text-align: right;\n",
       "    }\n",
       "</style>\n",
       "<table border=\"1\" class=\"dataframe\">\n",
       "  <thead>\n",
       "    <tr style=\"text-align: right;\">\n",
       "      <th></th>\n",
       "      <th>Brand</th>\n",
       "      <th>Product</th>\n",
       "      <th>Price</th>\n",
       "      <th>Total_Rating</th>\n",
       "      <th>Delivery</th>\n",
       "      <th>Product_url</th>\n",
       "    </tr>\n",
       "  </thead>\n",
       "  <tbody>\n",
       "    <tr>\n",
       "      <th>0</th>\n",
       "      <td>((Puma, Puma, Puma), Puma, Puma)</td>\n",
       "      <td>(Men's Rapid Runner IDP Sneakers, Men's Rapid ...</td>\n",
       "      <td>(₹2,399, ₹2,399, ₹2,399)</td>\n",
       "      <td>(409, 409, 409)</td>\n",
       "      <td>(---, ---, ---)</td>\n",
       "      <td>(https://www.amazon.in/gp/slredirect/picassoRe...</td>\n",
       "    </tr>\n",
       "    <tr>\n",
       "      <th>1</th>\n",
       "      <td>((Footrendz, Footrendz, Footrendz), Footrendz,...</td>\n",
       "      <td>(Shoes Casual Shoe, Shoes Casual Shoe, Shoes C...</td>\n",
       "      <td>(₹599, ₹599, ₹599)</td>\n",
       "      <td>(1, 1, 1)</td>\n",
       "      <td>(---, ---, ---)</td>\n",
       "      <td>(https://www.amazon.in/gp/slredirect/picassoRe...</td>\n",
       "    </tr>\n",
       "    <tr>\n",
       "      <th>2</th>\n",
       "      <td>((Underroute, TRASE, TRASE), TRASE, TRASE)</td>\n",
       "      <td>(Men's Running Shoes, Men's Running Shoe, Men'...</td>\n",
       "      <td>(₹799, ₹499, ₹499)</td>\n",
       "      <td>(1, 3,055, 3,055)</td>\n",
       "      <td>(---, ---, ---)</td>\n",
       "      <td>(https://www.amazon.in/gp/slredirect/picassoRe...</td>\n",
       "    </tr>\n",
       "    <tr>\n",
       "      <th>3</th>\n",
       "      <td>((Riksaw, Underroute, Kraasa), Underroute, Kra...</td>\n",
       "      <td>(Men's Fashion Sports Running Shoes, Men's Run...</td>\n",
       "      <td>(₹399, ₹699, ₹539)</td>\n",
       "      <td>(26, 24, 343)</td>\n",
       "      <td>(---, ---, ---)</td>\n",
       "      <td>(https://www.amazon.in/gp/slredirect/picassoRe...</td>\n",
       "    </tr>\n",
       "    <tr>\n",
       "      <th>4</th>\n",
       "      <td>((Ethics, Shoefly, Bourge), Shoefly, Bourge)</td>\n",
       "      <td>(Stylish Sneakers &amp; Casual Shoes for Men's and...</td>\n",
       "      <td>(₹359, ₹497, ₹634)</td>\n",
       "      <td>(1,404, 1,417, 254)</td>\n",
       "      <td>(---, ---, ---)</td>\n",
       "      <td>(https://www.amazon.in/Shoefly-Walking-Running...</td>\n",
       "    </tr>\n",
       "    <tr>\n",
       "      <th>5</th>\n",
       "      <td>((T-Rock, Lancer, Reebok), Lancer, Reebok)</td>\n",
       "      <td>(Men's Running Shoes, Men's Running Shoes, Men...</td>\n",
       "      <td>(₹379, ₹999, ₹1,799)</td>\n",
       "      <td>(2,948, 1,511, 97)</td>\n",
       "      <td>(---, ---, ---)</td>\n",
       "      <td>(https://www.amazon.in/Lancer-Mens-Blue-Runnin...</td>\n",
       "    </tr>\n",
       "    <tr>\n",
       "      <th>6</th>\n",
       "      <td>((Sparx, Sparx, Sparx), Sparx, Sparx)</td>\n",
       "      <td>(Men's White Black Casual Shoes-8 UK/India (42...</td>\n",
       "      <td>(₹618, ₹843, ₹945)</td>\n",
       "      <td>(6, 106, 467)</td>\n",
       "      <td>(---, ---, ---)</td>\n",
       "      <td>(https://www.amazon.in/Sparx-SM-406-Navy-Sport...</td>\n",
       "    </tr>\n",
       "    <tr>\n",
       "      <th>7</th>\n",
       "      <td>((Bourge, Puma, Kraasa), Puma, Kraasa)</td>\n",
       "      <td>(Men's Loire-z66 Running Shoes, Men's Seawalk ...</td>\n",
       "      <td>(₹634, ₹1,799, ₹471)</td>\n",
       "      <td>(85, 144, 1)</td>\n",
       "      <td>(---, ---, ---)</td>\n",
       "      <td>(https://www.amazon.in/Puma-Seawalk-Gibralter-...</td>\n",
       "    </tr>\n",
       "    <tr>\n",
       "      <th>8</th>\n",
       "      <td>((Centrino, Puma, Sparx), Puma, Sparx)</td>\n",
       "      <td>(5650 Casual-Men's Shoes, Men's Sneakers, Men'...</td>\n",
       "      <td>(₹692, ₹1,154, ₹896)</td>\n",
       "      <td>(2, 7, 1,932)</td>\n",
       "      <td>(---, ---, ---)</td>\n",
       "      <td>(https://www.amazon.in/Sparx-SM-414-Golden-Run...</td>\n",
       "    </tr>\n",
       "    <tr>\n",
       "      <th>9</th>\n",
       "      <td>((Centrino, TENN SPORTS, Sparx), TENN SPORTS, ...</td>\n",
       "      <td>(Brown Casual-Men's Shoes-9 UK (4448), Formal ...</td>\n",
       "      <td>(₹631, ₹649, ₹1,049)</td>\n",
       "      <td>(---, 81, 58)</td>\n",
       "      <td>(---, ---, ---)</td>\n",
       "      <td>(https://www.amazon.in/Puma-Black-White-Sneake...</td>\n",
       "    </tr>\n",
       "  </tbody>\n",
       "</table>\n",
       "</div>"
      ],
      "text/plain": [
       "                                               Brand  \\\n",
       "0                   ((Puma, Puma, Puma), Puma, Puma)   \n",
       "1  ((Footrendz, Footrendz, Footrendz), Footrendz,...   \n",
       "2         ((Underroute, TRASE, TRASE), TRASE, TRASE)   \n",
       "3  ((Riksaw, Underroute, Kraasa), Underroute, Kra...   \n",
       "4       ((Ethics, Shoefly, Bourge), Shoefly, Bourge)   \n",
       "5         ((T-Rock, Lancer, Reebok), Lancer, Reebok)   \n",
       "6              ((Sparx, Sparx, Sparx), Sparx, Sparx)   \n",
       "7             ((Bourge, Puma, Kraasa), Puma, Kraasa)   \n",
       "8             ((Centrino, Puma, Sparx), Puma, Sparx)   \n",
       "9  ((Centrino, TENN SPORTS, Sparx), TENN SPORTS, ...   \n",
       "\n",
       "                                             Product  \\\n",
       "0  (Men's Rapid Runner IDP Sneakers, Men's Rapid ...   \n",
       "1  (Shoes Casual Shoe, Shoes Casual Shoe, Shoes C...   \n",
       "2  (Men's Running Shoes, Men's Running Shoe, Men'...   \n",
       "3  (Men's Fashion Sports Running Shoes, Men's Run...   \n",
       "4  (Stylish Sneakers & Casual Shoes for Men's and...   \n",
       "5  (Men's Running Shoes, Men's Running Shoes, Men...   \n",
       "6  (Men's White Black Casual Shoes-8 UK/India (42...   \n",
       "7  (Men's Loire-z66 Running Shoes, Men's Seawalk ...   \n",
       "8  (5650 Casual-Men's Shoes, Men's Sneakers, Men'...   \n",
       "9  (Brown Casual-Men's Shoes-9 UK (4448), Formal ...   \n",
       "\n",
       "                      Price         Total_Rating         Delivery  \\\n",
       "0  (₹2,399, ₹2,399, ₹2,399)      (409, 409, 409)  (---, ---, ---)   \n",
       "1        (₹599, ₹599, ₹599)            (1, 1, 1)  (---, ---, ---)   \n",
       "2        (₹799, ₹499, ₹499)    (1, 3,055, 3,055)  (---, ---, ---)   \n",
       "3        (₹399, ₹699, ₹539)        (26, 24, 343)  (---, ---, ---)   \n",
       "4        (₹359, ₹497, ₹634)  (1,404, 1,417, 254)  (---, ---, ---)   \n",
       "5      (₹379, ₹999, ₹1,799)   (2,948, 1,511, 97)  (---, ---, ---)   \n",
       "6        (₹618, ₹843, ₹945)        (6, 106, 467)  (---, ---, ---)   \n",
       "7      (₹634, ₹1,799, ₹471)         (85, 144, 1)  (---, ---, ---)   \n",
       "8      (₹692, ₹1,154, ₹896)        (2, 7, 1,932)  (---, ---, ---)   \n",
       "9      (₹631, ₹649, ₹1,049)        (---, 81, 58)  (---, ---, ---)   \n",
       "\n",
       "                                         Product_url  \n",
       "0  (https://www.amazon.in/gp/slredirect/picassoRe...  \n",
       "1  (https://www.amazon.in/gp/slredirect/picassoRe...  \n",
       "2  (https://www.amazon.in/gp/slredirect/picassoRe...  \n",
       "3  (https://www.amazon.in/gp/slredirect/picassoRe...  \n",
       "4  (https://www.amazon.in/Shoefly-Walking-Running...  \n",
       "5  (https://www.amazon.in/Lancer-Mens-Blue-Runnin...  \n",
       "6  (https://www.amazon.in/Sparx-SM-406-Navy-Sport...  \n",
       "7  (https://www.amazon.in/Puma-Seawalk-Gibralter-...  \n",
       "8  (https://www.amazon.in/Sparx-SM-414-Golden-Run...  \n",
       "9  (https://www.amazon.in/Puma-Black-White-Sneake...  "
      ]
     },
     "execution_count": 62,
     "metadata": {},
     "output_type": "execute_result"
    }
   ],
   "source": [
    "df1"
   ]
  },
  {
   "cell_type": "code",
   "execution_count": null,
   "metadata": {},
   "outputs": [],
   "source": []
  },
  {
   "cell_type": "code",
   "execution_count": 8,
   "metadata": {},
   "outputs": [],
   "source": [
    "search_button1=driver.find_element_by_xpath(\"//li[@class='a-last']\")\n",
    "search_button1.click()\n"
   ]
  },
  {
   "cell_type": "code",
   "execution_count": 14,
   "metadata": {},
   "outputs": [],
   "source": [
    "name=[]"
   ]
  },
  {
   "cell_type": "code",
   "execution_count": 9,
   "metadata": {
    "scrolled": true
   },
   "outputs": [
    {
     "name": "stderr",
     "output_type": "stream",
     "text": [
      "C:\\Users\\Preeti kumari\\anaconda3\\lib\\site-packages\\selenium\\webdriver\\remote\\webdriver.py:470: UserWarning: find_elements_by_* commands are deprecated. Please use find_elements() instead\n",
      "  warnings.warn(\"find_elements_by_* commands are deprecated. Please use find_elements() instead\")\n"
     ]
    }
   ],
   "source": [
    "bn=driver.find_elements_by_xpath(\"//div[@class='a-section a-spacing-medium']\")\n"
   ]
  },
  {
   "cell_type": "code",
   "execution_count": 38,
   "metadata": {},
   "outputs": [],
   "source": [
    "m=kk.get_attribute('href')"
   ]
  },
  {
   "cell_type": "code",
   "execution_count": 41,
   "metadata": {},
   "outputs": [
    {
     "name": "stderr",
     "output_type": "stream",
     "text": [
      "C:\\Users\\Preeti kumari\\anaconda3\\lib\\site-packages\\selenium\\webdriver\\remote\\webelement.py:432: UserWarning: find_elements_by_* commands are deprecated. Please use find_elements() instead\n",
      "  warnings.warn(\"find_elements_by_* commands are deprecated. Please use find_elements() instead\")\n"
     ]
    }
   ],
   "source": [
    "bn1=kk.find_elements_by_xpath(\"//h2[@class='a-size-mini a-spacing-none a-color-base s-line-clamp-4']\")\n"
   ]
  },
  {
   "cell_type": "code",
   "execution_count": 47,
   "metadata": {},
   "outputs": [],
   "source": [
    "pp=bn1[0]"
   ]
  },
  {
   "cell_type": "code",
   "execution_count": 50,
   "metadata": {},
   "outputs": [
    {
     "name": "stderr",
     "output_type": "stream",
     "text": [
      "C:\\Users\\Preeti kumari\\anaconda3\\lib\\site-packages\\selenium\\webdriver\\remote\\webelement.py:365: UserWarning: find_elements_by_* commands are deprecated. Please use find_elements() instead\n",
      "  warnings.warn(\"find_elements_by_* commands are deprecated. Please use find_elements() instead\")\n"
     ]
    }
   ],
   "source": [
    "bn2=pp.find_elements_by_tag_name('a')"
   ]
  },
  {
   "cell_type": "code",
   "execution_count": 54,
   "metadata": {},
   "outputs": [],
   "source": [
    "kkk=bn2[0]"
   ]
  },
  {
   "cell_type": "code",
   "execution_count": 59,
   "metadata": {
    "scrolled": true
   },
   "outputs": [
    {
     "data": {
      "text/plain": [
       "'https://www.amazon.in/gp/slredirect/picassoRedirect.html/ref=pa_sp_atf_aps_sr_pg1_1?ie=UTF8&adId=A08899252UYCK9CR3ZRJ2&url=%2FMedellin-MED-BLU-C-Linden-Acoustic-Guitar%2Fdp%2FB07NBMWHJW%2Fref%3Dsr_1_1_sspa%3Fdchild%3D1%26keywords%3Dguitars%26qid%3D1614238305%26sr%3D8-1-spons%26psc%3D1%26smid%3DA3HL8HT148CJU9&qualifier=1614238304&id=3239259949828331&widgetName=sp_atf'"
      ]
     },
     "execution_count": 59,
     "metadata": {},
     "output_type": "execute_result"
    }
   ],
   "source": [
    "m=kkk.get_attribute(\"href\")\n",
    "m"
   ]
  },
  {
   "cell_type": "code",
   "execution_count": 19,
   "metadata": {},
   "outputs": [],
   "source": [
    "prduct_url=[]"
   ]
  },
  {
   "cell_type": "code",
   "execution_count": null,
   "metadata": {},
   "outputs": [],
   "source": []
  },
  {
   "cell_type": "code",
   "execution_count": null,
   "metadata": {},
   "outputs": [],
   "source": []
  },
  {
   "cell_type": "code",
   "execution_count": 20,
   "metadata": {},
   "outputs": [],
   "source": [
    "for i in range(0,10):\n",
    "    bn=driver.find_elements_by_xpath(\"//div[@class='a-section a-spacing-medium']\")\n",
    "    kk=bn[i]\n",
    "    bn1=kk.find_elements_by_xpath(\"//h2[@class='a-size-mini a-spacing-none a-color-base s-line-clamp-4']\")\n",
    "    pp=bn1[i]\n",
    "    bn2=pp.find_elements_by_tag_name('a')\n",
    "    kkk=bn2[0]\n",
    "    m=kkk.get_attribute(\"href\")\n",
    "    prduct_url.append(m)"
   ]
  },
  {
   "cell_type": "code",
   "execution_count": 21,
   "metadata": {},
   "outputs": [
    {
     "data": {
      "text/plain": [
       "['https://www.amazon.in/gp/slredirect/picassoRedirect.html/ref=pa_sp_atf_next_aps_sr_pg2_1?ie=UTF8&adId=A01771413R8KUGOSENTSG&url=%2FJUAREZ-Arpeggio-Acoustic-Rosewood-Fretboard%2Fdp%2FB08LBHVZRT%2Fref%3Dsr_1_49_sspa%3Fdchild%3D1%26keywords%3Dguitars%26qid%3D1614258575%26sr%3D8-49-spons%26psc%3D1&qualifier=1614258583&id=4706814411833247&widgetName=sp_atf_next',\n",
       " 'https://www.amazon.in/gp/slredirect/picassoRedirect.html/ref=pa_sp_atf_next_aps_sr_pg2_1?ie=UTF8&adId=A017821393T5OWSRYERE&url=%2FJUAREZ-Arpeggio-Semi-Acoustic-Rosewood-Fretboard%2Fdp%2FB08LBGWG6P%2Fref%3Dsr_1_50_sspa%3Fdchild%3D1%26keywords%3Dguitars%26qid%3D1614258575%26sr%3D8-50-spons%26psc%3D1&qualifier=1614258583&id=4706814411833247&widgetName=sp_atf_next',\n",
       " 'https://www.amazon.in/gp/slredirect/picassoRedirect.html/ref=pa_sp_atf_next_aps_sr_pg2_1?ie=UTF8&adId=A01675571SM9UNKQNW38K&url=%2FJUAREZ-Acoustic-Guitar-3TS-Sunburst%2Fdp%2FB08FV1KHTT%2Fref%3Dsr_1_51_sspa%3Fdchild%3D1%26keywords%3Dguitars%26qid%3D1614258575%26sr%3D8-51-spons%26psc%3D1&qualifier=1614258583&id=4706814411833247&widgetName=sp_atf_next',\n",
       " 'https://www.amazon.in/gp/slredirect/picassoRedirect.html/ref=pa_sp_atf_next_aps_sr_pg2_1?ie=UTF8&adId=A017362133UJ522SBDSNR&url=%2FJUAREZ-JRB40LN-3TS-Arpeggio-Guitar%2Fdp%2FB08MW8F9VS%2Fref%3Dsr_1_52_sspa%3Fdchild%3D1%26keywords%3Dguitars%26qid%3D1614258575%26sr%3D8-52-spons%26psc%3D1&qualifier=1614258583&id=4706814411833247&widgetName=sp_atf_next',\n",
       " 'https://www.amazon.in/Kadence-Slowhand-Premium-Acoustic-Instrument/dp/B077SZ667X/ref=sr_1_53?dchild=1&keywords=guitars&qid=1614258575&sr=8-53',\n",
       " 'https://www.amazon.in/Yamaha-F280-Acoustic-Dreadnought-Plectrum/dp/B08VN2V5V3/ref=sr_1_54?dchild=1&keywords=guitars&qid=1614258575&sr=8-54',\n",
       " 'https://www.amazon.in/Kordz-Rockstar-Rosewood-Fretboard-Acoustic/dp/B08VHFL7JH/ref=sr_1_55?dchild=1&keywords=guitars&qid=1614258575&sr=8-55',\n",
       " 'https://www.amazon.in/JUAREZ-Acoustic-Guitar-3TS-Sunburst/dp/B08FV1KHTT/ref=sr_1_56?dchild=1&keywords=guitars&qid=1614258575&sr=8-56',\n",
       " 'https://www.amazon.in/YAMAHA-NATURAL-CONCERT-CUTAWAY-GUITAR/dp/B08KW4DRKL/ref=sr_1_57?dchild=1&keywords=guitars&qid=1614258575&sr=8-57',\n",
       " 'https://www.amazon.in/Kadence-Frontier-Natural-Acoustic-Strings/dp/B01CJJFZ0O/ref=sr_1_58?dchild=1&keywords=guitars&qid=1614258575&sr=8-58']"
      ]
     },
     "execution_count": 21,
     "metadata": {},
     "output_type": "execute_result"
    }
   ],
   "source": [
    "prduct_url[0:10]"
   ]
  },
  {
   "cell_type": "code",
   "execution_count": null,
   "metadata": {},
   "outputs": [],
   "source": []
  }
 ],
 "metadata": {
  "kernelspec": {
   "display_name": "Python 3",
   "language": "python",
   "name": "python3"
  },
  "language_info": {
   "codemirror_mode": {
    "name": "ipython",
    "version": 3
   },
   "file_extension": ".py",
   "mimetype": "text/x-python",
   "name": "python",
   "nbconvert_exporter": "python",
   "pygments_lexer": "ipython3",
   "version": "3.8.3"
  }
 },
 "nbformat": 4,
 "nbformat_minor": 4
}
