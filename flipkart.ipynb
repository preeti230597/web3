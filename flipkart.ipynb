{
 "cells": [
  {
   "cell_type": "code",
   "execution_count": 60,
   "metadata": {},
   "outputs": [],
   "source": [
    "#import all the required libraries\n",
    "import pandas as pd\n",
    "import selenium\n",
    "from selenium import webdriver\n",
    "from selenium.common.exceptions import StaleElementReferenceException, NoSuchElementException"
   ]
  },
  {
   "cell_type": "code",
   "execution_count": 61,
   "metadata": {},
   "outputs": [
    {
     "name": "stderr",
     "output_type": "stream",
     "text": [
      "<ipython-input-61-56a44a4849dd>:1: DeprecationWarning: executable_path has been deprecated, please pass in a Service object\n",
      "  driver=webdriver.Chrome(\"C:\\\\Users\\\\Preeti kumari\\\\chromedriver.exe\")\n"
     ]
    }
   ],
   "source": [
    "driver=webdriver.Chrome(\"C:\\\\Users\\\\Preeti kumari\\\\chromedriver.exe\")"
   ]
  },
  {
   "cell_type": "code",
   "execution_count": 62,
   "metadata": {},
   "outputs": [],
   "source": [
    "driver.get(\"https://www.flipkart.com/\")\n"
   ]
  },
  {
   "cell_type": "code",
   "execution_count": 63,
   "metadata": {},
   "outputs": [],
   "source": [
    "from selenium.webdriver.common.keys import Keys"
   ]
  },
  {
   "cell_type": "code",
   "execution_count": 64,
   "metadata": {},
   "outputs": [],
   "source": [
    "driver.find_element_by_tag_name('body').send_keys(Keys.ESCAPE)\n",
    "#to close login option"
   ]
  },
  {
   "cell_type": "code",
   "execution_count": 65,
   "metadata": {
    "scrolled": false
   },
   "outputs": [],
   "source": [
    "search_field_designation=driver.find_element_by_xpath(\"//input[@class='_3704LK']\")\n"
   ]
  },
  {
   "cell_type": "code",
   "execution_count": 66,
   "metadata": {},
   "outputs": [],
   "source": [
    "def input_sm():\n",
    "    data=input(\"what are you looking?\")\n",
    "    search_field_designation.send_keys(data)\n"
   ]
  },
  {
   "cell_type": "code",
   "execution_count": 67,
   "metadata": {},
   "outputs": [
    {
     "name": "stdout",
     "output_type": "stream",
     "text": [
      "what are you looking?pixel 4a\n"
     ]
    }
   ],
   "source": [
    "input_sm()\n"
   ]
  },
  {
   "cell_type": "code",
   "execution_count": 68,
   "metadata": {},
   "outputs": [],
   "source": [
    "search_button=driver.find_element_by_xpath(\"//button[@class='L0Z3Pu']\")\n",
    "search_button.click()\n"
   ]
  },
  {
   "cell_type": "code",
   "execution_count": 69,
   "metadata": {},
   "outputs": [],
   "source": [
    "Brand_Name=[]\n",
    "smartphone=[]\n",
    "colour=[]\n",
    "RAM=[]\n",
    "ROM=[]\n"
   ]
  },
  {
   "cell_type": "code",
   "execution_count": 70,
   "metadata": {
    "scrolled": true
   },
   "outputs": [
    {
     "data": {
      "text/plain": [
       "['Google Pixel 4a (Just Black, 128 GB)', 'Redmi 9 Prime (Matte Black, 64 GB)']"
      ]
     },
     "execution_count": 70,
     "metadata": {},
     "output_type": "execute_result"
    }
   ],
   "source": [
    "bn=driver.find_elements_by_xpath(\"//div[@class='_4rR01T']\")\n",
    "for i in bn:\n",
    "    if i.text is None :\n",
    "        smartphone.append(\"--\") \n",
    "    else:\n",
    "        smartphone.append(i.text)\n",
    "    \n",
    "smartphone[0:2]\n"
   ]
  },
  {
   "cell_type": "code",
   "execution_count": 71,
   "metadata": {},
   "outputs": [
    {
     "data": {
      "text/plain": [
       "24"
      ]
     },
     "execution_count": 71,
     "metadata": {},
     "output_type": "execute_result"
    }
   ],
   "source": [
    "len(smartphone)"
   ]
  },
  {
   "cell_type": "code",
   "execution_count": 72,
   "metadata": {
    "scrolled": true
   },
   "outputs": [
    {
     "data": {
      "text/plain": [
       "[['Google'], ['Redmi']]"
      ]
     },
     "execution_count": 72,
     "metadata": {},
     "output_type": "execute_result"
    }
   ],
   "source": [
    "for i in range(0,24):\n",
    "    word=smartphone[i]\n",
    "    Brand_Name.append(word.split(' ')[:1])\n",
    "Brand_Name[0:2]"
   ]
  },
  {
   "cell_type": "code",
   "execution_count": 83,
   "metadata": {},
   "outputs": [],
   "source": [
    "def split1(m):\n",
    "    k=m.split(\" \",3)\n",
    "    k=k[3:]\n",
    "    return k"
   ]
  },
  {
   "cell_type": "code",
   "execution_count": 84,
   "metadata": {
    "scrolled": false
   },
   "outputs": [
    {
     "data": {
      "text/plain": [
       "[['(Just Black, 128 GB)'], ['(Matte Black, 64 GB)']]"
      ]
     },
     "execution_count": 84,
     "metadata": {},
     "output_type": "execute_result"
    }
   ],
   "source": [
    "for i in range(0,24):\n",
    "    word=smartphone[i]\n",
    "    kk=split1(word)\n",
    "    colour.append(kk)\n",
    "colour[0:2]"
   ]
  },
  {
   "cell_type": "code",
   "execution_count": 97,
   "metadata": {},
   "outputs": [],
   "source": [
    "RAM=[]\n",
    "ROM=[]\n",
    "RAM_rom=[]"
   ]
  },
  {
   "cell_type": "code",
   "execution_count": 98,
   "metadata": {},
   "outputs": [
    {
     "data": {
      "text/plain": [
       "['6 GB RAM | 128 GB ROM', '4 GB RAM | 64 GB ROM | Expandable Upto 512 GB']"
      ]
     },
     "execution_count": 98,
     "metadata": {},
     "output_type": "execute_result"
    }
   ],
   "source": [
    "m=driver.find_elements_by_xpath(\"//ul[@class='_1xgFaf']/li[1]\")\n",
    "for i in m:\n",
    "    if i.text is None :\n",
    "        RAM_rom.append(\"--\") \n",
    "    else:\n",
    "        RAM_rom.append(i.text)\n",
    "    \n",
    "RAM_rom[0:2]"
   ]
  },
  {
   "cell_type": "code",
   "execution_count": 99,
   "metadata": {},
   "outputs": [
    {
     "data": {
      "text/plain": [
       "['6 GB RAM', '4 GB RAM']"
      ]
     },
     "execution_count": 99,
     "metadata": {},
     "output_type": "execute_result"
    }
   ],
   "source": [
    "for i in range(0,24):\n",
    "    word=RAM_rom[i]\n",
    "    RAM.append(word.split(' | ')[0])\n",
    "RAM[0:2]"
   ]
  },
  {
   "cell_type": "code",
   "execution_count": 100,
   "metadata": {
    "scrolled": true
   },
   "outputs": [
    {
     "data": {
      "text/plain": [
       "['128 GB ROM', '64 GB ROM']"
      ]
     },
     "execution_count": 100,
     "metadata": {},
     "output_type": "execute_result"
    }
   ],
   "source": [
    "for i in range(0,24):\n",
    "    word=RAM_rom[i]\n",
    "    ROM.append(word.split(' | ')[1])\n",
    "ROM[0:2]"
   ]
  },
  {
   "cell_type": "code",
   "execution_count": 194,
   "metadata": {},
   "outputs": [],
   "source": [
    "cam=[]\n",
    "Primary_Camera=[]\n",
    "Secondary_Camera=[]\n"
   ]
  },
  {
   "cell_type": "code",
   "execution_count": 195,
   "metadata": {},
   "outputs": [
    {
     "data": {
      "text/plain": [
       "['12.2MP Rear Camera | 8MP Front Camera',\n",
       " '13MP Rear Camera | 8MP Front Camera']"
      ]
     },
     "execution_count": 195,
     "metadata": {},
     "output_type": "execute_result"
    }
   ],
   "source": [
    "c=driver.find_elements_by_xpath(\"//ul[@class='_1xgFaf']/li[3]\")\n",
    "for i in c:\n",
    "    if i.text is None :\n",
    "        cam.append(\"--\") \n",
    "    else:\n",
    "        cam.append(i.text)\n",
    "    \n",
    "cam[0:2]"
   ]
  },
  {
   "cell_type": "code",
   "execution_count": 339,
   "metadata": {
    "scrolled": false
   },
   "outputs": [
    {
     "data": {
      "text/plain": [
       "['12.2MP Rear Camera', '13MP Rear Camera']"
      ]
     },
     "execution_count": 339,
     "metadata": {},
     "output_type": "execute_result"
    }
   ],
   "source": [
    "for i in range(0,24):\n",
    "    word=cam[i]\n",
    "    Primary_Camera.append(word.split(' | ')[0])\n",
    "Primary_Camera[0:2]"
   ]
  },
  {
   "cell_type": "code",
   "execution_count": 301,
   "metadata": {},
   "outputs": [],
   "source": [
    "def sec_split(K):\n",
    "    KK=K.split(\" | \",2)\n",
    "    KK=KK[1:]\n",
    "    return KK\n",
    "   "
   ]
  },
  {
   "cell_type": "code",
   "execution_count": 319,
   "metadata": {},
   "outputs": [],
   "source": [
    "for i in range(0,24):\n",
    "        word=cam[i]\n",
    "        k_=sec_split(word)\n",
    "        if len(k_)==0:\n",
    "            Secondary_Camera.append(\"--\")\n",
    "        else:\n",
    "            Secondary_Camera.append(k_)\n",
    "        \n"
   ]
  },
  {
   "cell_type": "code",
   "execution_count": 320,
   "metadata": {},
   "outputs": [
    {
     "data": {
      "text/plain": [
       "[['8MP Front Camera'],\n",
       " ['8MP Front Camera'],\n",
       " ['8MP Front Camera'],\n",
       " ['32MP Front Camera'],\n",
       " ['32MP Front Camera'],\n",
       " ['8MP Front Camera'],\n",
       " '--',\n",
       " '--',\n",
       " '--',\n",
       " ['8MP Front Camera'],\n",
       " ['5MP Front Camera'],\n",
       " ['16MP Front Camera'],\n",
       " ['32MP Front Camera'],\n",
       " ['8MP Front Camera'],\n",
       " ['16MP Front Camera'],\n",
       " ['16MP Front Camera'],\n",
       " '--',\n",
       " '--',\n",
       " '--',\n",
       " ['8MP Front Camera'],\n",
       " ['5MP Front Camera'],\n",
       " ['16MP Front Camera'],\n",
       " ['8MP Front Camera'],\n",
       " ['8MP Front Camera']]"
      ]
     },
     "execution_count": 320,
     "metadata": {},
     "output_type": "execute_result"
    }
   ],
   "source": [
    "Secondary_Camera"
   ]
  },
  {
   "cell_type": "code",
   "execution_count": 280,
   "metadata": {},
   "outputs": [
    {
     "data": {
      "text/plain": [
       "['32MP Front Camera']"
      ]
     },
     "execution_count": 280,
     "metadata": {},
     "output_type": "execute_result"
    }
   ],
   "source": [
    "KK=m.split(\" | \",2)\n",
    "KK=KK[1:]\n",
    "KK"
   ]
  },
  {
   "cell_type": "code",
   "execution_count": 198,
   "metadata": {},
   "outputs": [],
   "source": [
    "Display_Size=[]\n",
    "Resolution=[]\n",
    "Processor=[]\n",
    "Processor_cores=[]\n",
    "\n",
    "Price=[]\n",
    "Product_url=[]"
   ]
  },
  {
   "cell_type": "code",
   "execution_count": 199,
   "metadata": {},
   "outputs": [],
   "source": [
    "ds=[]"
   ]
  },
  {
   "cell_type": "code",
   "execution_count": 200,
   "metadata": {
    "scrolled": false
   },
   "outputs": [
    {
     "data": {
      "text/plain": [
       "['14.76 cm (5.81 inch) Full HD+ Display',\n",
       " '16.59 cm (6.53 inch) Full HD+ Display']"
      ]
     },
     "execution_count": 200,
     "metadata": {},
     "output_type": "execute_result"
    }
   ],
   "source": [
    "d=driver.find_elements_by_xpath(\"//ul[@class='_1xgFaf']/li[2]\")\n",
    "for i in d:\n",
    "    if i.text is None :\n",
    "        ds.append(\"--\") \n",
    "    else:\n",
    "        ds.append(i.text)\n",
    "ds[0:2]"
   ]
  },
  {
   "cell_type": "code",
   "execution_count": 201,
   "metadata": {},
   "outputs": [],
   "source": [
    "def split(k):\n",
    "    m=k.split(\" \")[0]+\"cm\"\n",
    "    return m"
   ]
  },
  {
   "cell_type": "code",
   "execution_count": 202,
   "metadata": {},
   "outputs": [],
   "source": [
    "def split2(k):\n",
    "    m=k.split((\" \"),4)\n",
    "    m=m[4:]\n",
    "    return m"
   ]
  },
  {
   "cell_type": "code",
   "execution_count": 203,
   "metadata": {},
   "outputs": [
    {
     "data": {
      "text/plain": [
       "[['Full HD+ Display'], ['Full HD+ Display']]"
      ]
     },
     "execution_count": 203,
     "metadata": {},
     "output_type": "execute_result"
    }
   ],
   "source": [
    "for i in range(0,24):\n",
    "    word=ds[i]\n",
    "    pp=split(word)\n",
    "    Display_Size.append(pp)\n",
    "    kk=split2(word)\n",
    "    Resolution.append(kk)\n",
    "Display_Size[0:2]\n",
    "Resolution[0:2]"
   ]
  },
  {
   "cell_type": "code",
   "execution_count": 204,
   "metadata": {
    "scrolled": true
   },
   "outputs": [
    {
     "data": {
      "text/plain": [
       "['Qualcomm Snapdragon 730G Processor', 'MediaTek Helio G80 Processor']"
      ]
     },
     "execution_count": 204,
     "metadata": {},
     "output_type": "execute_result"
    }
   ],
   "source": [
    "p=driver.find_elements_by_xpath(\"//ul[@class='_1xgFaf']/li[5]\")\n",
    "for i in p:\n",
    "    if i.text is None :\n",
    "        Processor.append(\"--\") \n",
    "    else:\n",
    "        Processor.append(i.text)\n",
    "Processor[0:2]"
   ]
  },
  {
   "cell_type": "code",
   "execution_count": 379,
   "metadata": {
    "scrolled": true
   },
   "outputs": [],
   "source": [
    "p=driver.find_elements_by_xpath(\"//ul[@class='_1xgFaf']/li[5]\")\n",
    "for i in p:\n",
    "    if i.text is None :\n",
    "        Processor.append(\"--\") \n",
    "    else:\n",
    "         Processor.append(i.text)\n",
    "  \n"
   ]
  },
  {
   "cell_type": "code",
   "execution_count": 363,
   "metadata": {},
   "outputs": [],
   "source": [
    "Processor1=Processor[6]\n",
    "Processor1=[]"
   ]
  },
  {
   "cell_type": "code",
   "execution_count": 242,
   "metadata": {},
   "outputs": [
    {
     "data": {
      "text/plain": [
       "[['730G'], ['G80']]"
      ]
     },
     "execution_count": 242,
     "metadata": {},
     "output_type": "execute_result"
    }
   ],
   "source": [
    "for i in range(0,24):\n",
    "    word=Processor[i]\n",
    "    n_wo=word.split(\" \")\n",
    "    n_wo=n_wo[2:3]\n",
    "    Processor_cores.append(n_wo)\n",
    "Processor_cores[0:2]\n"
   ]
  },
  {
   "cell_type": "code",
   "execution_count": null,
   "metadata": {},
   "outputs": [],
   "source": [
    "def split2(k):\n",
    "    m=k.split((\" \"),4)\n",
    "    m=m[4:]\n",
    "    return m"
   ]
  },
  {
   "cell_type": "code",
   "execution_count": 340,
   "metadata": {},
   "outputs": [
    {
     "data": {
      "text/plain": [
       "['3140 mAh Battery', '5020 mAh Battery']"
      ]
     },
     "execution_count": 340,
     "metadata": {},
     "output_type": "execute_result"
    }
   ],
   "source": [
    "Battery=[]\n",
    "b=driver.find_elements_by_xpath(\"//ul[@class='_1xgFaf']/li[4]\")\n",
    "for i in b:\n",
    "    if i.text is None :\n",
    "        Battery.append(\"--\") \n",
    "    else:\n",
    "        Battery.append(i.text)\n",
    "Battery[0:2]"
   ]
  },
  {
   "cell_type": "code",
   "execution_count": 244,
   "metadata": {},
   "outputs": [
    {
     "data": {
      "text/plain": [
       "['₹31,999', '₹9,499']"
      ]
     },
     "execution_count": 244,
     "metadata": {},
     "output_type": "execute_result"
    }
   ],
   "source": [
    "bp=driver.find_elements_by_xpath(\"//div[@class='_30jeq3 _1_WHN1']\")\n",
    "for i in bp:\n",
    "    if i.text is None :\n",
    "        Price.append(\"--\") \n",
    "    else:\n",
    "        Price.append(i.text)\n",
    "Price[0:2]"
   ]
  },
  {
   "cell_type": "code",
   "execution_count": 338,
   "metadata": {},
   "outputs": [
    {
     "data": {
      "text/plain": [
       "48"
      ]
     },
     "execution_count": 338,
     "metadata": {},
     "output_type": "execute_result"
    }
   ],
   "source": [
    "len(Battery)"
   ]
  },
  {
   "cell_type": "code",
   "execution_count": 328,
   "metadata": {},
   "outputs": [],
   "source": [
    "for i in range(0,24):\n",
    "    kk=driver.find_elements_by_xpath(\"//div[@class='_2kHMtA']\")\n",
    "    pp=kk[i]\n",
    "    bn3=pp.find_elements_by_tag_name('a')\n",
    "    l=bn3[0]\n",
    "    kkk=l.get_attribute(\"href\")\n",
    "    Product_url.append(kkk)\n"
   ]
  },
  {
   "cell_type": "code",
   "execution_count": 341,
   "metadata": {},
   "outputs": [],
   "source": [
    "df=pd.DataFrame({\"Brand_Name\":Brand_Name,\"smartphone\":smartphone,\"colour\":colour,\n",
    "                \"RAM\":RAM,\"ROM\":ROM,\"Primary_Camera\":Primary_Camera,\"Secondary_Camera\":Secondary_Camera,\"Display_Size\":Display_Size,\"Resolution\":Resolution,\"Processor\":Processor,\"Processor_cores\":Processor_cores,\"Battery\":Battery,\"Price\":Price,\"Product_url\":Product_url})"
   ]
  },
  {
   "cell_type": "code",
   "execution_count": 381,
   "metadata": {},
   "outputs": [
    {
     "data": {
      "text/html": [
       "<div>\n",
       "<style scoped>\n",
       "    .dataframe tbody tr th:only-of-type {\n",
       "        vertical-align: middle;\n",
       "    }\n",
       "\n",
       "    .dataframe tbody tr th {\n",
       "        vertical-align: top;\n",
       "    }\n",
       "\n",
       "    .dataframe thead th {\n",
       "        text-align: right;\n",
       "    }\n",
       "</style>\n",
       "<table border=\"1\" class=\"dataframe\">\n",
       "  <thead>\n",
       "    <tr style=\"text-align: right;\">\n",
       "      <th></th>\n",
       "      <th>Brand_Name</th>\n",
       "      <th>smartphone</th>\n",
       "      <th>colour</th>\n",
       "      <th>RAM</th>\n",
       "      <th>ROM</th>\n",
       "      <th>Primary_Camera</th>\n",
       "      <th>Secondary_Camera</th>\n",
       "      <th>Display_Size</th>\n",
       "      <th>Resolution</th>\n",
       "      <th>Processor</th>\n",
       "      <th>Processor_cores</th>\n",
       "      <th>Battery</th>\n",
       "      <th>Price</th>\n",
       "      <th>Product_url</th>\n",
       "    </tr>\n",
       "  </thead>\n",
       "  <tbody>\n",
       "    <tr>\n",
       "      <th>0</th>\n",
       "      <td>[Google]</td>\n",
       "      <td>Google Pixel 4a (Just Black, 128 GB)</td>\n",
       "      <td>[(Just Black, 128 GB)]</td>\n",
       "      <td>6 GB RAM</td>\n",
       "      <td>128 GB ROM</td>\n",
       "      <td>12.2MP Rear Camera</td>\n",
       "      <td>[8MP Front Camera]</td>\n",
       "      <td>14.76cm</td>\n",
       "      <td>[Full HD+ Display]</td>\n",
       "      <td>Qualcomm Snapdragon 730G Processor</td>\n",
       "      <td>[730G]</td>\n",
       "      <td>3140 mAh Battery</td>\n",
       "      <td>₹31,999</td>\n",
       "      <td>https://www.flipkart.com/google-pixel-4a-just-...</td>\n",
       "    </tr>\n",
       "    <tr>\n",
       "      <th>1</th>\n",
       "      <td>[Redmi]</td>\n",
       "      <td>Redmi 9 Prime (Matte Black, 64 GB)</td>\n",
       "      <td>[(Matte Black, 64 GB)]</td>\n",
       "      <td>4 GB RAM</td>\n",
       "      <td>64 GB ROM</td>\n",
       "      <td>13MP Rear Camera</td>\n",
       "      <td>[8MP Front Camera]</td>\n",
       "      <td>16.59cm</td>\n",
       "      <td>[Full HD+ Display]</td>\n",
       "      <td>MediaTek Helio G80 Processor</td>\n",
       "      <td>[G80]</td>\n",
       "      <td>5020 mAh Battery</td>\n",
       "      <td>₹9,499</td>\n",
       "      <td>https://www.flipkart.com/redmi-9-prime-matte-b...</td>\n",
       "    </tr>\n",
       "    <tr>\n",
       "      <th>2</th>\n",
       "      <td>[Redmi]</td>\n",
       "      <td>Redmi 9 Prime (Sunrise Flare, 64 GB)</td>\n",
       "      <td>[(Sunrise Flare, 64 GB)]</td>\n",
       "      <td>4 GB RAM</td>\n",
       "      <td>64 GB ROM</td>\n",
       "      <td>13MP Rear Camera</td>\n",
       "      <td>[8MP Front Camera]</td>\n",
       "      <td>16.59cm</td>\n",
       "      <td>[Full HD+ Display]</td>\n",
       "      <td>MediaTek Helio G80 Processor</td>\n",
       "      <td>[G80]</td>\n",
       "      <td>5020 mAh Battery</td>\n",
       "      <td>₹9,499</td>\n",
       "      <td>https://www.flipkart.com/redmi-9-prime-sunrise...</td>\n",
       "    </tr>\n",
       "    <tr>\n",
       "      <th>3</th>\n",
       "      <td>[Redmi]</td>\n",
       "      <td>Redmi Note 9 Pro Max (Aurora Blue, 64 GB)</td>\n",
       "      <td>[Pro Max (Aurora Blue, 64 GB)]</td>\n",
       "      <td>6 GB RAM</td>\n",
       "      <td>64 GB ROM</td>\n",
       "      <td>64MP + 8MP + 5MP + 2MP</td>\n",
       "      <td>[32MP Front Camera]</td>\n",
       "      <td>16.94cm</td>\n",
       "      <td>[Full HD+ Display]</td>\n",
       "      <td>Qualcomm Snapdragon 720G Processor</td>\n",
       "      <td>[720G]</td>\n",
       "      <td>5020 mAh Lithium Polymer Battery</td>\n",
       "      <td>₹16,398</td>\n",
       "      <td>https://www.flipkart.com/redmi-note-9-pro-max-...</td>\n",
       "    </tr>\n",
       "    <tr>\n",
       "      <th>4</th>\n",
       "      <td>[Samsung]</td>\n",
       "      <td>Samsung Galaxy M31 (Ocean Blue, 64 GB)</td>\n",
       "      <td>[(Ocean Blue, 64 GB)]</td>\n",
       "      <td>6 GB RAM</td>\n",
       "      <td>64 GB ROM</td>\n",
       "      <td>64MP + 8MP + 5MP + 5MP</td>\n",
       "      <td>[32MP Front Camera]</td>\n",
       "      <td>16.26cm</td>\n",
       "      <td>[Full HD+ Display]</td>\n",
       "      <td>Samsung Exynos 9 Octa 9611 Processor</td>\n",
       "      <td>[9]</td>\n",
       "      <td>6000 mAh Battery</td>\n",
       "      <td>₹15,988</td>\n",
       "      <td>https://www.flipkart.com/samsung-galaxy-m31-oc...</td>\n",
       "    </tr>\n",
       "  </tbody>\n",
       "</table>\n",
       "</div>"
      ],
      "text/plain": [
       "  Brand_Name                                 smartphone  \\\n",
       "0   [Google]       Google Pixel 4a (Just Black, 128 GB)   \n",
       "1    [Redmi]         Redmi 9 Prime (Matte Black, 64 GB)   \n",
       "2    [Redmi]       Redmi 9 Prime (Sunrise Flare, 64 GB)   \n",
       "3    [Redmi]  Redmi Note 9 Pro Max (Aurora Blue, 64 GB)   \n",
       "4  [Samsung]     Samsung Galaxy M31 (Ocean Blue, 64 GB)   \n",
       "\n",
       "                           colour       RAM         ROM  \\\n",
       "0          [(Just Black, 128 GB)]  6 GB RAM  128 GB ROM   \n",
       "1          [(Matte Black, 64 GB)]  4 GB RAM   64 GB ROM   \n",
       "2        [(Sunrise Flare, 64 GB)]  4 GB RAM   64 GB ROM   \n",
       "3  [Pro Max (Aurora Blue, 64 GB)]  6 GB RAM   64 GB ROM   \n",
       "4           [(Ocean Blue, 64 GB)]  6 GB RAM   64 GB ROM   \n",
       "\n",
       "           Primary_Camera     Secondary_Camera Display_Size  \\\n",
       "0      12.2MP Rear Camera   [8MP Front Camera]      14.76cm   \n",
       "1        13MP Rear Camera   [8MP Front Camera]      16.59cm   \n",
       "2        13MP Rear Camera   [8MP Front Camera]      16.59cm   \n",
       "3  64MP + 8MP + 5MP + 2MP  [32MP Front Camera]      16.94cm   \n",
       "4  64MP + 8MP + 5MP + 5MP  [32MP Front Camera]      16.26cm   \n",
       "\n",
       "           Resolution                             Processor Processor_cores  \\\n",
       "0  [Full HD+ Display]    Qualcomm Snapdragon 730G Processor          [730G]   \n",
       "1  [Full HD+ Display]          MediaTek Helio G80 Processor           [G80]   \n",
       "2  [Full HD+ Display]          MediaTek Helio G80 Processor           [G80]   \n",
       "3  [Full HD+ Display]    Qualcomm Snapdragon 720G Processor          [720G]   \n",
       "4  [Full HD+ Display]  Samsung Exynos 9 Octa 9611 Processor             [9]   \n",
       "\n",
       "                            Battery    Price  \\\n",
       "0                  3140 mAh Battery  ₹31,999   \n",
       "1                  5020 mAh Battery   ₹9,499   \n",
       "2                  5020 mAh Battery   ₹9,499   \n",
       "3  5020 mAh Lithium Polymer Battery  ₹16,398   \n",
       "4                  6000 mAh Battery  ₹15,988   \n",
       "\n",
       "                                         Product_url  \n",
       "0  https://www.flipkart.com/google-pixel-4a-just-...  \n",
       "1  https://www.flipkart.com/redmi-9-prime-matte-b...  \n",
       "2  https://www.flipkart.com/redmi-9-prime-sunrise...  \n",
       "3  https://www.flipkart.com/redmi-note-9-pro-max-...  \n",
       "4  https://www.flipkart.com/samsung-galaxy-m31-oc...  "
      ]
     },
     "execution_count": 381,
     "metadata": {},
     "output_type": "execute_result"
    }
   ],
   "source": [
    "df.head()"
   ]
  },
  {
   "cell_type": "code",
   "execution_count": null,
   "metadata": {},
   "outputs": [],
   "source": []
  }
 ],
 "metadata": {
  "kernelspec": {
   "display_name": "Python 3",
   "language": "python",
   "name": "python3"
  },
  "language_info": {
   "codemirror_mode": {
    "name": "ipython",
    "version": 3
   },
   "file_extension": ".py",
   "mimetype": "text/x-python",
   "name": "python",
   "nbconvert_exporter": "python",
   "pygments_lexer": "ipython3",
   "version": "3.8.3"
  }
 },
 "nbformat": 4,
 "nbformat_minor": 4
}
